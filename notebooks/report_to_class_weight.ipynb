{
 "cells": [
  {
   "cell_type": "code",
   "execution_count": 2,
   "metadata": {},
   "outputs": [],
   "source": [
    "import pandas as pd"
   ]
  },
  {
   "cell_type": "code",
   "execution_count": 6,
   "metadata": {},
   "outputs": [],
   "source": [
    "# REPLACE WITH YOUR MODEL REPORT\n",
    "xgb_report_path = \"../logs/cv_report_584/xgb/cv_report.csv\"\n",
    "\n",
    "# REPLACE WITH YOUR MODEL REPORT\n",
    "rf_report_path = \"../logs/cv_report_584/rf/cv_report.csv\"\n",
    "\n",
    "xgb_report = pd.read_csv(xgb_report_path)\n",
    "rf_report = pd.read_csv(rf_report_path)"
   ]
  },
  {
   "cell_type": "code",
   "execution_count": 7,
   "metadata": {},
   "outputs": [],
   "source": [
    "def get_class_weight(report):\n",
    "    cls_weight = report.sort_values('f1', ascending=False)[['col', 'f1']]\n",
    "    cls_weight['f1'] = cls_weight['f1'].apply(lambda x: 1/(x+1))\n",
    "    cls_weight = dict(cls_weight.values)\n",
    "    cls_weight.pop(\"AVERAGE\")\n",
    "    cls_weight[\"None\"] = 0.5\n",
    "\n",
    "    return cls_weight"
   ]
  },
  {
   "cell_type": "code",
   "execution_count": 11,
   "metadata": {},
   "outputs": [
    {
     "data": {
      "text/plain": [
       "{'Low_Outside_Air_Temperature_Enable_Setpoint': 0.5,\n",
       " 'Wind_Speed_Sensor': 0.5,\n",
       " 'Discharge_Air_Temperature_Setpoint': 0.5,\n",
       " 'Supply_Air_Static_Pressure_Sensor': 0.5,\n",
       " 'Dew_Point_Setpoint': 0.5,\n",
       " 'Hot_Water_Flow_Sensor': 0.5,\n",
       " 'Wind_Direction_Sensor': 0.5,\n",
       " 'Chilled_Water_Supply_Flow_Sensor': 0.5,\n",
       " 'Cooling_Demand_Setpoint': 0.5,\n",
       " 'Load_Current_Sensor': 0.5,\n",
       " 'Angle_Sensor': 0.5,\n",
       " 'Zone_Air_Dewpoint_Sensor': 0.5,\n",
       " 'Discharge_Air_Temperature_Sensor': 0.5020576131687242,\n",
       " 'Zone_Air_Humidity_Sensor': 0.5023041474654377,\n",
       " 'Differential_Pressure_Sensor': 0.5025295109612142,\n",
       " 'Filter_Differential_Pressure_Sensor': 0.5025380710659898,\n",
       " 'Outside_Air_Temperature_Sensor': 0.5029940119760479,\n",
       " 'Pressure_Sensor': 0.5042581801882564,\n",
       " 'Chilled_Water_Differential_Temperature_Sensor': 0.5053763440860215,\n",
       " 'Energy_Usage_Sensor': 0.5066079295154186,\n",
       " 'Zone_Air_Temperature_Sensor': 0.506763133060711,\n",
       " 'Duration_Sensor': 0.5069444444444444,\n",
       " 'Usage_Sensor': 0.5070539419087137,\n",
       " 'Power_Sensor': 0.5072831604502317,\n",
       " 'Electrical_Power_Sensor': 0.5074374577417173,\n",
       " 'Current_Sensor': 0.5076002990281585,\n",
       " 'Static_Pressure_Sensor': 0.5085865257595773,\n",
       " 'Supply_Air_Temperature_Sensor': 0.5086580086580087,\n",
       " 'Voltage_Sensor': 0.5094539671320022,\n",
       " 'Active_Power_Sensor': 0.51,\n",
       " 'Sensor': 0.5104922217016946,\n",
       " 'Differential_Pressure_Setpoint': 0.512280701754386,\n",
       " 'Peak_Power_Demand_Sensor': 0.513874614594039,\n",
       " 'Outside_Air_Temperature_Setpoint': 0.5138888888888888,\n",
       " 'Average_Zone_Air_Temperature_Sensor': 0.5142857142857143,\n",
       " 'Supply_Air_Humidity_Sensor': 0.5151515151515152,\n",
       " 'Air_Flow_Sensor': 0.5163498098859316,\n",
       " 'Reactive_Power_Sensor': 0.5177195685670262,\n",
       " 'Supply_Air_Temperature_Setpoint': 0.5177304964539007,\n",
       " 'Return_Air_Temperature_Sensor': 0.5185185185185185,\n",
       " 'Flow_Sensor': 0.5216038714137573,\n",
       " 'Water_Temperature_Sensor': 0.524390243902439,\n",
       " 'Outside_Air_Lockout_Temperature_Setpoint': 0.5250836120401338,\n",
       " 'Temperature_Sensor': 0.5274139844617092,\n",
       " 'Demand_Sensor': 0.5276063913937669,\n",
       " 'Air_Temperature_Sensor': 0.5281292059219381,\n",
       " 'Min_Air_Temperature_Setpoint': 0.5294117647058824,\n",
       " 'Max_Air_Temperature_Setpoint': 0.5294117647058824,\n",
       " 'Discharge_Air_Dewpoint_Sensor': 0.5294117647058824,\n",
       " 'Frequency_Sensor': 0.5317511225144324,\n",
       " 'Outside_Air_Humidity_Sensor': 0.5333333333333333,\n",
       " 'Cooling_Supply_Air_Temperature_Deadband_Setpoint': 0.5339805825242719,\n",
       " 'Speed_Setpoint': 0.5355208665179993,\n",
       " 'Temperature_Setpoint': 0.5374132167652353,\n",
       " 'Air_Temperature_Setpoint': 0.53769322235434,\n",
       " 'Setpoint': 0.5377818403412553,\n",
       " 'Hot_Water_Supply_Temperature_Sensor': 0.5384615384615384,\n",
       " 'Discharge_Water_Temperature_Sensor': 0.5421686746987951,\n",
       " 'Flow_Setpoint': 0.54421768707483,\n",
       " 'Parameter': 0.5455444146307019,\n",
       " 'Air_Flow_Setpoint': 0.5464159811985899,\n",
       " 'Return_Water_Temperature_Sensor': 0.5523932729624839,\n",
       " 'Warmest_Zone_Air_Temperature_Sensor': 0.5526315789473684,\n",
       " 'Room_Air_Temperature_Setpoint': 0.5544258373205742,\n",
       " 'Outside_Air_Enthalpy_Sensor': 0.5555555555555556,\n",
       " 'Solar_Radiance_Sensor': 0.5555555555555556,\n",
       " 'Static_Pressure_Setpoint': 0.559748427672956,\n",
       " 'Hot_Water_Return_Temperature_Sensor': 0.5636363636363636,\n",
       " 'Heating_Supply_Air_Temperature_Deadband_Setpoint': 0.5652173913043479,\n",
       " 'Status': 0.5686224919912325,\n",
       " 'Time_Setpoint': 0.5700325732899022,\n",
       " 'Position_Sensor': 0.5723122238586156,\n",
       " 'Thermal_Power_Sensor': 0.573394495412844,\n",
       " 'Water_Flow_Sensor': 0.5734265734265734,\n",
       " 'Chilled_Water_Return_Temperature_Sensor': 0.5824175824175825,\n",
       " 'Damper_Position_Sensor': 0.5854037267080745,\n",
       " 'Valve_Position_Sensor': 0.5878068519018074,\n",
       " 'Damper_Position_Setpoint': 0.5952380952380952,\n",
       " 'Water_Temperature_Setpoint': 0.5961538461538463,\n",
       " 'Differential_Supply_Return_Water_Temperature_Sensor': 0.6060606060606061,\n",
       " 'Supply_Air_Static_Pressure_Setpoint': 0.6153846153846154,\n",
       " 'Cooling_Temperature_Setpoint': 0.6295081967213115,\n",
       " 'Heating_Temperature_Setpoint': 0.6347826086956522,\n",
       " 'Alarm': 0.6417624521072798,\n",
       " 'Chilled_Water_Supply_Temperature_Sensor': 0.6862745098039216,\n",
       " 'Humidity_Setpoint': 0.7058823529411764,\n",
       " 'Command': 0.7422680412371133,\n",
       " 'Heating_Demand_Setpoint': 0.7894736842105263,\n",
       " 'Zone_Air_Humidity_Setpoint': 0.8823529411764706,\n",
       " 'Heating_Demand_Sensor': 1.0,\n",
       " 'Outside_Air_CO2_Sensor': 1.0,\n",
       " 'Rain_Sensor': 1.0,\n",
       " 'Reset_Setpoint': 1.0,\n",
       " 'Cooling_Demand_Sensor': 1.0,\n",
       " 'None': 0.5}"
      ]
     },
     "execution_count": 11,
     "metadata": {},
     "output_type": "execute_result"
    }
   ],
   "source": [
    "get_class_weight(xgb_report)"
   ]
  },
  {
   "cell_type": "code",
   "execution_count": null,
   "metadata": {},
   "outputs": [],
   "source": []
  }
 ],
 "metadata": {
  "kernelspec": {
   "display_name": "ddm",
   "language": "python",
   "name": "python3"
  },
  "language_info": {
   "codemirror_mode": {
    "name": "ipython",
    "version": 3
   },
   "file_extension": ".py",
   "mimetype": "text/x-python",
   "name": "python",
   "nbconvert_exporter": "python",
   "pygments_lexer": "ipython3",
   "version": "3.9.18"
  }
 },
 "nbformat": 4,
 "nbformat_minor": 2
}
