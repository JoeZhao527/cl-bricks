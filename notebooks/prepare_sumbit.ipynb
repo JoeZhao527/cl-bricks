{
 "cells": [
  {
   "cell_type": "code",
   "execution_count": 30,
   "metadata": {},
   "outputs": [],
   "source": [
    "import pandas as pd\n",
    "import numpy as np\n",
    "import matplotlib.pyplot as plt\n",
    "import seaborn as sns\n",
    "import os\n",
    "import sys\n",
    "import time\n",
    "from zipfile import ZipFile\n",
    "import warnings\n",
    "import pickle\n",
    "import torch\n",
    "from torch.utils.data import Dataset\n",
    "from tqdm import tqdm\n",
    "warnings.filterwarnings('ignore')"
   ]
  },
  {
   "cell_type": "code",
   "execution_count": 31,
   "metadata": {},
   "outputs": [],
   "source": [
    "train_y_path = \"../downloads/train_y_v0.1.0.csv\"\n",
    "test_x_path = '../downloads/test_X_v0.1.0.zip'\n",
    "pred_test_path = '../logs/spec_res.pt'"
   ]
  },
  {
   "cell_type": "code",
   "execution_count": 32,
   "metadata": {},
   "outputs": [],
   "source": [
    "train_y = pd.read_csv(train_y_path)"
   ]
  },
  {
   "cell_type": "code",
   "execution_count": 33,
   "metadata": {},
   "outputs": [],
   "source": [
    "zipftest = ZipFile(test_x_path, 'r')\n",
    "listtestfile = zipftest.namelist()[1:]"
   ]
  },
  {
   "cell_type": "code",
   "execution_count": 34,
   "metadata": {},
   "outputs": [],
   "source": [
    "pred = torch.load(pred_test_path)"
   ]
  },
  {
   "cell_type": "code",
   "execution_count": 35,
   "metadata": {},
   "outputs": [],
   "source": [
    "import torch\n",
    "import pandas as pd\n",
    "\n",
    "# Example input tensors (row indices and column indices)\n",
    "row_indices, col_indices = pred\n",
    "\n",
    "# Define the shape of the binary matrix (you can modify the size if needed)\n",
    "num_rows = 315720  # The maximum value in row_indices + 1\n",
    "num_cols = 94  # You can modify this based on the maximum value in col_indices\n",
    "\n",
    "# Initialize the binary matrix (DataFrame) with zeros\n",
    "binary_matrix = torch.zeros((num_rows, num_cols), dtype=torch.float16)\n",
    "\n",
    "# Set 1s at the specified row and column indices\n",
    "binary_matrix[row_indices, col_indices] = 1\n",
    "\n",
    "# Convert the tensor to a Pandas DataFrame for easier manipulation/visualization\n",
    "df_binary = pd.DataFrame(binary_matrix.numpy(), columns=train_y.columns[1:])\n",
    "\n",
    "df_binary['filename'] = pd.Series(listtestfile).apply(lambda x: x.split(\"/\")[-1])"
   ]
  },
  {
   "cell_type": "code",
   "execution_count": 36,
   "metadata": {},
   "outputs": [],
   "source": [
    "df_binary.to_csv(\"../logs/submit/0117_cl_spec_v0_04.csv\", index=False)"
   ]
  },
  {
   "cell_type": "code",
   "execution_count": 38,
   "metadata": {},
   "outputs": [
    {
     "data": {
      "text/plain": [
       "0.0    132355\n",
       "1.0     78017\n",
       "2.0     28838\n",
       "3.0     23232\n",
       "6.0     21822\n",
       "5.0     13717\n",
       "4.0     12534\n",
       "7.0      1591\n",
       "Name: count, dtype: int64"
      ]
     },
     "execution_count": 38,
     "metadata": {},
     "output_type": "execute_result"
    }
   ],
   "source": [
    "pd.Series(binary_matrix.sum(dim=1)).value_counts().iloc[:8]"
   ]
  },
  {
   "cell_type": "code",
   "execution_count": null,
   "metadata": {},
   "outputs": [],
   "source": []
  }
 ],
 "metadata": {
  "kernelspec": {
   "display_name": "ddm",
   "language": "python",
   "name": "python3"
  },
  "language_info": {
   "codemirror_mode": {
    "name": "ipython",
    "version": 3
   },
   "file_extension": ".py",
   "mimetype": "text/x-python",
   "name": "python",
   "nbconvert_exporter": "python",
   "pygments_lexer": "ipython3",
   "version": "3.9.18"
  }
 },
 "nbformat": 4,
 "nbformat_minor": 2
}
