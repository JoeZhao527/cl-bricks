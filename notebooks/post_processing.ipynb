{
 "cells": [
  {
   "cell_type": "code",
   "execution_count": 1,
   "metadata": {},
   "outputs": [],
   "source": [
    "import pandas as pd\n",
    "import numpy as np\n",
    "import matplotlib.pyplot as plt\n",
    "import seaborn as sns\n",
    "import os\n",
    "import sys\n",
    "import time\n",
    "from zipfile import ZipFile\n",
    "import warnings\n",
    "import pickle\n",
    "import torch\n",
    "from torch.utils.data import Dataset\n",
    "import tsfel\n",
    "from sklearn.model_selection import StratifiedKFold\n",
    "from tqdm import tqdm\n",
    "import lightgbm as lgb\n",
    "from hiclass import LocalClassifierPerNode, LocalClassifierPerParentNode, LocalClassifierPerLevel\n",
    "from lightgbm import LGBMClassifier\n",
    "from sklearn.ensemble import RandomForestClassifier\n",
    "warnings.filterwarnings('ignore')"
   ]
  },
  {
   "cell_type": "code",
   "execution_count": 2,
   "metadata": {},
   "outputs": [],
   "source": [
    "columnlist = [\n",
    "    'Active_Power_Sensor', 'Air_Flow_Sensor',\n",
    "    'Air_Flow_Setpoint', 'Air_Temperature_Sensor',\n",
    "    'Air_Temperature_Setpoint', 'Alarm', 'Angle_Sensor',\n",
    "    'Average_Zone_Air_Temperature_Sensor',\n",
    "    'Chilled_Water_Differential_Temperature_Sensor',\n",
    "    'Chilled_Water_Return_Temperature_Sensor',\n",
    "    'Chilled_Water_Supply_Flow_Sensor',\n",
    "    'Chilled_Water_Supply_Temperature_Sensor', 'Command',\n",
    "    'Cooling_Demand_Sensor', 'Cooling_Demand_Setpoint',\n",
    "    'Cooling_Supply_Air_Temperature_Deadband_Setpoint',\n",
    "    'Cooling_Temperature_Setpoint', 'Current_Sensor',\n",
    "    'Damper_Position_Sensor', 'Damper_Position_Setpoint', 'Demand_Sensor',\n",
    "    'Dew_Point_Setpoint', 'Differential_Pressure_Sensor',\n",
    "    'Differential_Pressure_Setpoint',\n",
    "    'Differential_Supply_Return_Water_Temperature_Sensor',\n",
    "    'Discharge_Air_Dewpoint_Sensor', 'Discharge_Air_Temperature_Sensor',\n",
    "    'Discharge_Air_Temperature_Setpoint',\n",
    "    'Discharge_Water_Temperature_Sensor', 'Duration_Sensor',\n",
    "    'Electrical_Power_Sensor', 'Energy_Usage_Sensor',\n",
    "    'Filter_Differential_Pressure_Sensor', 'Flow_Sensor', 'Flow_Setpoint',\n",
    "    'Frequency_Sensor', 'Heating_Demand_Sensor', 'Heating_Demand_Setpoint',\n",
    "    'Heating_Supply_Air_Temperature_Deadband_Setpoint',\n",
    "    'Heating_Temperature_Setpoint', 'Hot_Water_Flow_Sensor',\n",
    "    'Hot_Water_Return_Temperature_Sensor',\n",
    "    'Hot_Water_Supply_Temperature_Sensor', 'Humidity_Setpoint',\n",
    "    'Load_Current_Sensor', 'Low_Outside_Air_Temperature_Enable_Setpoint',\n",
    "    'Max_Air_Temperature_Setpoint', 'Min_Air_Temperature_Setpoint',\n",
    "    'Outside_Air_CO2_Sensor', 'Outside_Air_Enthalpy_Sensor',\n",
    "    'Outside_Air_Humidity_Sensor',\n",
    "    'Outside_Air_Lockout_Temperature_Setpoint',\n",
    "    'Outside_Air_Temperature_Sensor', 'Outside_Air_Temperature_Setpoint',\n",
    "    'Parameter', 'Peak_Power_Demand_Sensor', 'Position_Sensor',\n",
    "    'Power_Sensor', 'Pressure_Sensor', 'Rain_Sensor',\n",
    "    'Reactive_Power_Sensor', 'Reset_Setpoint',\n",
    "    'Return_Air_Temperature_Sensor', 'Return_Water_Temperature_Sensor',\n",
    "    'Room_Air_Temperature_Setpoint', 'Sensor', 'Setpoint',\n",
    "    'Solar_Radiance_Sensor', 'Speed_Setpoint', 'Static_Pressure_Sensor',\n",
    "    'Static_Pressure_Setpoint', 'Status', 'Supply_Air_Humidity_Sensor',\n",
    "    'Supply_Air_Static_Pressure_Sensor',\n",
    "    'Supply_Air_Static_Pressure_Setpoint', 'Supply_Air_Temperature_Sensor',\n",
    "    'Supply_Air_Temperature_Setpoint', 'Temperature_Sensor',\n",
    "    'Temperature_Setpoint', 'Thermal_Power_Sensor', 'Time_Setpoint',\n",
    "    'Usage_Sensor', 'Valve_Position_Sensor', 'Voltage_Sensor',\n",
    "    'Warmest_Zone_Air_Temperature_Sensor', 'Water_Flow_Sensor',\n",
    "    'Water_Temperature_Sensor', 'Water_Temperature_Setpoint',\n",
    "    'Wind_Direction_Sensor', 'Wind_Speed_Sensor',\n",
    "    'Zone_Air_Dewpoint_Sensor', 'Zone_Air_Humidity_Sensor',\n",
    "    'Zone_Air_Humidity_Setpoint', 'Zone_Air_Temperature_Sensor'\n",
    "]"
   ]
  },
  {
   "cell_type": "markdown",
   "metadata": {},
   "source": [
    "# Occurence post filtering"
   ]
  },
  {
   "cell_type": "code",
   "execution_count": 3,
   "metadata": {},
   "outputs": [],
   "source": [
    "LEVEL_LABLES = [\n",
    "    ['Alarm', 'Command', 'Parameter', 'Sensor', 'Setpoint', 'Status'],\n",
    "    ['Reset_Setpoint',\n",
    "    'Usage_Sensor',\n",
    "    'Pressure_Sensor',\n",
    "    'Flow_Setpoint',\n",
    "    'Static_Pressure_Setpoint',\n",
    "    'Angle_Sensor',\n",
    "    'Humidity_Setpoint',\n",
    "    'Temperature_Sensor',\n",
    "    'Temperature_Setpoint',\n",
    "    'Supply_Air_Humidity_Sensor',\n",
    "    'Outside_Air_CO2_Sensor',\n",
    "    'Differential_Pressure_Setpoint',\n",
    "    'Damper_Position_Setpoint',\n",
    "    'Heating_Demand_Setpoint',\n",
    "    'Cooling_Demand_Setpoint',\n",
    "    'Current_Sensor',\n",
    "    'Wind_Speed_Sensor',\n",
    "    'Flow_Sensor',\n",
    "    'Dew_Point_Setpoint',\n",
    "    'Zone_Air_Dewpoint_Sensor',\n",
    "    'Power_Sensor',\n",
    "    'Position_Sensor',\n",
    "    'Solar_Radiance_Sensor',\n",
    "    'Duration_Sensor',\n",
    "    'Time_Setpoint',\n",
    "    'Discharge_Air_Dewpoint_Sensor',\n",
    "    'Wind_Direction_Sensor',\n",
    "    'Voltage_Sensor',\n",
    "    'Zone_Air_Humidity_Sensor',\n",
    "    'Demand_Sensor',\n",
    "    'Speed_Setpoint',\n",
    "    'Rain_Sensor',\n",
    "    'Frequency_Sensor',\n",
    "    'Outside_Air_Humidity_Sensor',\n",
    "    'Outside_Air_Enthalpy_Sensor'],\n",
    "    ['Air_Flow_Sensor',\n",
    "    'Water_Temperature_Setpoint',\n",
    "    'Water_Flow_Sensor',\n",
    "    'Electrical_Power_Sensor',\n",
    "    'Zone_Air_Humidity_Setpoint',\n",
    "    'Heating_Temperature_Setpoint',\n",
    "    'Air_Flow_Setpoint',\n",
    "    'Energy_Usage_Sensor',\n",
    "    'Supply_Air_Static_Pressure_Setpoint',\n",
    "    'Air_Temperature_Sensor',\n",
    "    'Valve_Position_Sensor',\n",
    "    'Cooling_Temperature_Setpoint',\n",
    "    'Water_Temperature_Sensor',\n",
    "    'Load_Current_Sensor',\n",
    "    'Damper_Position_Sensor',\n",
    "    'Static_Pressure_Sensor',\n",
    "    'Air_Temperature_Setpoint',\n",
    "    'Thermal_Power_Sensor',\n",
    "    'Differential_Pressure_Sensor'],\n",
    "    ['Supply_Air_Temperature_Sensor',\n",
    "    'Discharge_Air_Temperature_Sensor',\n",
    "    'Discharge_Water_Temperature_Sensor',\n",
    "    'Zone_Air_Temperature_Sensor',\n",
    "    'Supply_Air_Static_Pressure_Sensor',\n",
    "    'Outside_Air_Temperature_Setpoint',\n",
    "    'Supply_Air_Temperature_Setpoint',\n",
    "    'Chilled_Water_Supply_Flow_Sensor',\n",
    "    'Chilled_Water_Supply_Temperature_Sensor',\n",
    "    'Peak_Power_Demand_Sensor',\n",
    "    'Room_Air_Temperature_Setpoint',\n",
    "    'Hot_Water_Supply_Temperature_Sensor',\n",
    "    'Active_Power_Sensor',\n",
    "    'Min_Air_Temperature_Setpoint',\n",
    "    'Return_Air_Temperature_Sensor',\n",
    "    'Hot_Water_Flow_Sensor',\n",
    "    'Chilled_Water_Differential_Temperature_Sensor',\n",
    "    'Filter_Differential_Pressure_Sensor',\n",
    "    'Max_Air_Temperature_Setpoint',\n",
    "    'Cooling_Supply_Air_Temperature_Deadband_Setpoint',\n",
    "    'Outside_Air_Temperature_Sensor',\n",
    "    'Heating_Supply_Air_Temperature_Deadband_Setpoint',\n",
    "    'Discharge_Air_Temperature_Setpoint',\n",
    "    'Return_Water_Temperature_Sensor',\n",
    "    'Reactive_Power_Sensor'],\n",
    "    ['Low_Outside_Air_Temperature_Enable_Setpoint',\n",
    "    'Cooling_Demand_Sensor',\n",
    "    'Chilled_Water_Return_Temperature_Sensor',\n",
    "    'Average_Zone_Air_Temperature_Sensor',\n",
    "    'Warmest_Zone_Air_Temperature_Sensor',\n",
    "    'Heating_Demand_Sensor',\n",
    "    'Differential_Supply_Return_Water_Temperature_Sensor',\n",
    "    'Hot_Water_Return_Temperature_Sensor',\n",
    "    'Outside_Air_Lockout_Temperature_Setpoint']\n",
    "]"
   ]
  },
  {
   "cell_type": "code",
   "execution_count": 4,
   "metadata": {},
   "outputs": [],
   "source": [
    "tiers = {i+1: LEVEL_LABLES[i] for i in range(len(LEVEL_LABLES))}\n",
    "\n",
    "def get_tier(label):\n",
    "    for tier_num, tier_list in tiers.items():\n",
    "        if label in tier_list:\n",
    "            return tier_num\n",
    "    return None  # Handle cases where the label isn't found in any tier"
   ]
  },
  {
   "cell_type": "code",
   "execution_count": 5,
   "metadata": {},
   "outputs": [],
   "source": [
    "train_y = pd.read_csv(\"../downloads/train_y_v0.1.0.csv\")"
   ]
  },
  {
   "cell_type": "code",
   "execution_count": 6,
   "metadata": {},
   "outputs": [],
   "source": [
    "# stackedfinalresult = weighted_res.copy()\n",
    "stackedfinalresult = pd.read_csv(\"../logs/submit/0129_15_aug_class_weight.csv\")"
   ]
  },
  {
   "cell_type": "code",
   "execution_count": 7,
   "metadata": {},
   "outputs": [
    {
     "name": "stderr",
     "output_type": "stream",
     "text": [
      "100%|██████████| 94/94 [00:21<00:00,  4.32it/s]\n"
     ]
    }
   ],
   "source": [
    "check = stackedfinalresult\n",
    "occurence = []\n",
    "\n",
    "for col1 in tqdm(list(check.columns)[1:]):\n",
    "    for col2 in list(check.columns)[1:]:\n",
    "        if col1 != col2:\n",
    "            oc = check[[col1, col2]]\n",
    "            # oc = oc[(oc[col1] >= 0.5) & (oc[col2] >= 0.5) & ~(oc[col1] == oc[col2])]\n",
    "            oc = oc[(oc[col1] >= 0.5) & (oc[col2] >= 0.5)]\n",
    "            occurence.append([col1, col2, len(oc)])"
   ]
  },
  {
   "cell_type": "code",
   "execution_count": 8,
   "metadata": {},
   "outputs": [
    {
     "data": {
      "text/html": [
       "<div>\n",
       "<style scoped>\n",
       "    .dataframe tbody tr th:only-of-type {\n",
       "        vertical-align: middle;\n",
       "    }\n",
       "\n",
       "    .dataframe tbody tr th {\n",
       "        vertical-align: top;\n",
       "    }\n",
       "\n",
       "    .dataframe thead th {\n",
       "        text-align: right;\n",
       "    }\n",
       "</style>\n",
       "<table border=\"1\" class=\"dataframe\">\n",
       "  <thead>\n",
       "    <tr style=\"text-align: right;\">\n",
       "      <th></th>\n",
       "      <th>0</th>\n",
       "      <th>1</th>\n",
       "      <th>2</th>\n",
       "    </tr>\n",
       "  </thead>\n",
       "  <tbody>\n",
       "    <tr>\n",
       "      <th>29</th>\n",
       "      <td>Active_Power_Sensor</td>\n",
       "      <td>Electrical_Power_Sensor</td>\n",
       "      <td>6395</td>\n",
       "    </tr>\n",
       "    <tr>\n",
       "      <th>56</th>\n",
       "      <td>Active_Power_Sensor</td>\n",
       "      <td>Power_Sensor</td>\n",
       "      <td>6395</td>\n",
       "    </tr>\n",
       "    <tr>\n",
       "      <th>64</th>\n",
       "      <td>Active_Power_Sensor</td>\n",
       "      <td>Sensor</td>\n",
       "      <td>6395</td>\n",
       "    </tr>\n",
       "    <tr>\n",
       "      <th>109</th>\n",
       "      <td>Air_Flow_Sensor</td>\n",
       "      <td>Current_Sensor</td>\n",
       "      <td>17</td>\n",
       "    </tr>\n",
       "    <tr>\n",
       "      <th>111</th>\n",
       "      <td>Air_Flow_Sensor</td>\n",
       "      <td>Damper_Position_Setpoint</td>\n",
       "      <td>1</td>\n",
       "    </tr>\n",
       "    <tr>\n",
       "      <th>...</th>\n",
       "      <td>...</td>\n",
       "      <td>...</td>\n",
       "      <td>...</td>\n",
       "    </tr>\n",
       "    <tr>\n",
       "      <th>8726</th>\n",
       "      <td>Zone_Air_Temperature_Sensor</td>\n",
       "      <td>Temperature_Sensor</td>\n",
       "      <td>10556</td>\n",
       "    </tr>\n",
       "    <tr>\n",
       "      <th>8727</th>\n",
       "      <td>Zone_Air_Temperature_Sensor</td>\n",
       "      <td>Temperature_Setpoint</td>\n",
       "      <td>29</td>\n",
       "    </tr>\n",
       "    <tr>\n",
       "      <th>8733</th>\n",
       "      <td>Zone_Air_Temperature_Sensor</td>\n",
       "      <td>Warmest_Zone_Air_Temperature_Sensor</td>\n",
       "      <td>73</td>\n",
       "    </tr>\n",
       "    <tr>\n",
       "      <th>8734</th>\n",
       "      <td>Zone_Air_Temperature_Sensor</td>\n",
       "      <td>Water_Flow_Sensor</td>\n",
       "      <td>1</td>\n",
       "    </tr>\n",
       "    <tr>\n",
       "      <th>8740</th>\n",
       "      <td>Zone_Air_Temperature_Sensor</td>\n",
       "      <td>Zone_Air_Humidity_Sensor</td>\n",
       "      <td>1</td>\n",
       "    </tr>\n",
       "  </tbody>\n",
       "</table>\n",
       "<p>1038 rows × 3 columns</p>\n",
       "</div>"
      ],
      "text/plain": [
       "                                0                                    1      2\n",
       "29            Active_Power_Sensor              Electrical_Power_Sensor   6395\n",
       "56            Active_Power_Sensor                         Power_Sensor   6395\n",
       "64            Active_Power_Sensor                               Sensor   6395\n",
       "109               Air_Flow_Sensor                       Current_Sensor     17\n",
       "111               Air_Flow_Sensor             Damper_Position_Setpoint      1\n",
       "...                           ...                                  ...    ...\n",
       "8726  Zone_Air_Temperature_Sensor                   Temperature_Sensor  10556\n",
       "8727  Zone_Air_Temperature_Sensor                 Temperature_Setpoint     29\n",
       "8733  Zone_Air_Temperature_Sensor  Warmest_Zone_Air_Temperature_Sensor     73\n",
       "8734  Zone_Air_Temperature_Sensor                    Water_Flow_Sensor      1\n",
       "8740  Zone_Air_Temperature_Sensor             Zone_Air_Humidity_Sensor      1\n",
       "\n",
       "[1038 rows x 3 columns]"
      ]
     },
     "execution_count": 8,
     "metadata": {},
     "output_type": "execute_result"
    }
   ],
   "source": [
    "tst_oc = pd.DataFrame(occurence)\n",
    "tst_oc = tst_oc[tst_oc[2] > 0]\n",
    "tst_oc"
   ]
  },
  {
   "cell_type": "code",
   "execution_count": 9,
   "metadata": {},
   "outputs": [
    {
     "name": "stderr",
     "output_type": "stream",
     "text": [
      "100%|██████████| 94/94 [00:12<00:00,  7.64it/s]\n"
     ]
    }
   ],
   "source": [
    "trn_oc_check = train_y.copy()\n",
    "trn_occurence = []\n",
    "\n",
    "for col1 in tqdm(list(trn_oc_check.columns)[1:]):\n",
    "    for col2 in list(trn_oc_check.columns)[1:]:\n",
    "        if col1 != col2:\n",
    "            oc = trn_oc_check[[col1, col2]]\n",
    "            oc = oc[(oc[col1] == 1) & (oc[col2] == 1)]\n",
    "            trn_occurence.append([col1, col2, len(oc)])"
   ]
  },
  {
   "cell_type": "code",
   "execution_count": 10,
   "metadata": {},
   "outputs": [],
   "source": [
    "trn_oc = pd.DataFrame(trn_occurence)\n",
    "trn_oc = trn_oc[trn_oc[2] > 0]"
   ]
  },
  {
   "cell_type": "code",
   "execution_count": 11,
   "metadata": {},
   "outputs": [],
   "source": [
    "trn_oc.values[:, :2].shape\n",
    "\n",
    "oc_map = {}\n",
    "for src, tgt in trn_oc.values[:, :2]:\n",
    "    if src not in oc_map:\n",
    "        oc_map[src] = [tgt]\n",
    "    else:\n",
    "        oc_map[src].append(tgt)"
   ]
  },
  {
   "cell_type": "code",
   "execution_count": 58,
   "metadata": {},
   "outputs": [
    {
     "data": {
      "text/plain": [
       "1"
      ]
     },
     "execution_count": 58,
     "metadata": {},
     "output_type": "execute_result"
    }
   ],
   "source": [
    "get_tier(\"Sensor\")"
   ]
  },
  {
   "cell_type": "code",
   "execution_count": null,
   "metadata": {},
   "outputs": [],
   "source": [
    "get_tier(\"Air_Flow_Sensor\")"
   ]
  },
  {
   "cell_type": "code",
   "execution_count": 12,
   "metadata": {},
   "outputs": [
    {
     "name": "stderr",
     "output_type": "stream",
     "text": [
      "100%|██████████| 1038/1038 [00:00<00:00, 149559.86it/s]\n"
     ]
    }
   ],
   "source": [
    "rm_label = []\n",
    "for row in tqdm(tst_oc.values, total=len(tst_oc)):\n",
    "    if oc_map.get(row[0]) and row[1] not in oc_map.get(row[0]):\n",
    "        # rm_label.append((row[1], row[0]))\n",
    "        if get_tier(row[0]) < get_tier(row[1]):\n",
    "            rm_label.append((row[0], row[1]))\n",
    "        else:\n",
    "            rm_label.append((row[1], row[0]))"
   ]
  },
  {
   "cell_type": "code",
   "execution_count": 48,
   "metadata": {},
   "outputs": [
    {
     "name": "stderr",
     "output_type": "stream",
     "text": [
      "100%|██████████| 638/638 [00:00<00:00, 641.03it/s]\n"
     ]
    }
   ],
   "source": [
    "filtered_res = stackedfinalresult.copy()\n",
    "remove_record = []\n",
    "for src, tgt in tqdm(rm_label):\n",
    "    # remove_size = len(filtered_res[(filtered_res[src] == 1) & (filtered_res[tgt] == 1)])\n",
    "\n",
    "    # # Skip if it removes too much\n",
    "    # skipped = False\n",
    "    # if remove_size > len(filtered_res[filtered_res[tgt] == 1]) * 0.01:\n",
    "    #     skipped = True\n",
    "\n",
    "    # Count how many rows match the condition\n",
    "    # remove_record.append((src, tgt, remove_size, len(filtered_res[filtered_res[tgt] == 1]), skipped))\n",
    "    \n",
    "    # if not skipped:\n",
    "    #     # Properly update the matching rows in the original DataFrame\n",
    "    #     filtered_res.loc[(filtered_res[src] == 1) & (filtered_res[tgt] == 1), tgt] = 0.0\n",
    "    update_indicies = filtered_res[(filtered_res[src] == 1) & (filtered_res[tgt] == 1)].index\n",
    "\n",
    "    new_tgt = None\n",
    "    if 'Sensor' in src and 'Setpoint' in tgt:\n",
    "        new_tgt = '_'.join(tgt.split('_')[:-1] + ['Sensor'])\n",
    "    if 'Setpoint' in src and 'Sensor' in tgt:\n",
    "        new_tgt = '_'.join(tgt.split('_')[:-1] + ['Setpoint'])\n",
    "\n",
    "    if new_tgt in columnlist:\n",
    "        filtered_res.loc[update_indicies, new_tgt] = 1.0\n",
    "        filtered_res.loc[update_indicies, tgt] = 0.0\n",
    "        remove_record.append([src, tgt, new_tgt, len(update_indicies)])\n",
    "\n",
    "# filtered_res = weighted_res.copy()\n",
    "# remove_record = []\n",
    "# for src, tgt in tqdm(rm_label):\n",
    "#     remove_size = len(filtered_res[~(filtered_res[src] == filtered_res[tgt])])\n",
    "\n",
    "#     # Count how many rows match the condition\n",
    "#     remove_record.append((src, tgt, remove_size))\n",
    "\n",
    "#     # Properly update the matching rows in the original DataFrame\n",
    "#     filtered_res.loc[(filtered_res[src] > filtered_res[tgt]), tgt] = 0.0\n",
    "#     filtered_res.loc[(filtered_res[src] < filtered_res[tgt]), src] = 0.0"
   ]
  },
  {
   "cell_type": "code",
   "execution_count": 49,
   "metadata": {},
   "outputs": [],
   "source": [
    "rm_check = pd.DataFrame(remove_record)"
   ]
  },
  {
   "cell_type": "code",
   "execution_count": 51,
   "metadata": {},
   "outputs": [
    {
     "data": {
      "text/html": [
       "<div>\n",
       "<style scoped>\n",
       "    .dataframe tbody tr th:only-of-type {\n",
       "        vertical-align: middle;\n",
       "    }\n",
       "\n",
       "    .dataframe tbody tr th {\n",
       "        vertical-align: top;\n",
       "    }\n",
       "\n",
       "    .dataframe thead th {\n",
       "        text-align: right;\n",
       "    }\n",
       "</style>\n",
       "<table border=\"1\" class=\"dataframe\">\n",
       "  <thead>\n",
       "    <tr style=\"text-align: right;\">\n",
       "      <th></th>\n",
       "      <th>3</th>\n",
       "    </tr>\n",
       "    <tr>\n",
       "      <th>1</th>\n",
       "      <th></th>\n",
       "    </tr>\n",
       "  </thead>\n",
       "  <tbody>\n",
       "    <tr>\n",
       "      <th>Damper_Position_Sensor</th>\n",
       "      <td>1471</td>\n",
       "    </tr>\n",
       "    <tr>\n",
       "      <th>Temperature_Setpoint</th>\n",
       "      <td>1437</td>\n",
       "    </tr>\n",
       "    <tr>\n",
       "      <th>Air_Flow_Sensor</th>\n",
       "      <td>866</td>\n",
       "    </tr>\n",
       "    <tr>\n",
       "      <th>Air_Flow_Setpoint</th>\n",
       "      <td>772</td>\n",
       "    </tr>\n",
       "    <tr>\n",
       "      <th>Air_Temperature_Setpoint</th>\n",
       "      <td>488</td>\n",
       "    </tr>\n",
       "    <tr>\n",
       "      <th>Damper_Position_Setpoint</th>\n",
       "      <td>379</td>\n",
       "    </tr>\n",
       "    <tr>\n",
       "      <th>Flow_Sensor</th>\n",
       "      <td>255</td>\n",
       "    </tr>\n",
       "    <tr>\n",
       "      <th>Flow_Setpoint</th>\n",
       "      <td>210</td>\n",
       "    </tr>\n",
       "    <tr>\n",
       "      <th>Temperature_Sensor</th>\n",
       "      <td>174</td>\n",
       "    </tr>\n",
       "    <tr>\n",
       "      <th>Supply_Air_Temperature_Setpoint</th>\n",
       "      <td>141</td>\n",
       "    </tr>\n",
       "    <tr>\n",
       "      <th>Air_Temperature_Sensor</th>\n",
       "      <td>74</td>\n",
       "    </tr>\n",
       "    <tr>\n",
       "      <th>Water_Temperature_Sensor</th>\n",
       "      <td>66</td>\n",
       "    </tr>\n",
       "    <tr>\n",
       "      <th>Water_Temperature_Setpoint</th>\n",
       "      <td>25</td>\n",
       "    </tr>\n",
       "    <tr>\n",
       "      <th>Static_Pressure_Sensor</th>\n",
       "      <td>18</td>\n",
       "    </tr>\n",
       "    <tr>\n",
       "      <th>Outside_Air_Temperature_Setpoint</th>\n",
       "      <td>10</td>\n",
       "    </tr>\n",
       "    <tr>\n",
       "      <th>Differential_Pressure_Setpoint</th>\n",
       "      <td>6</td>\n",
       "    </tr>\n",
       "    <tr>\n",
       "      <th>Cooling_Demand_Setpoint</th>\n",
       "      <td>5</td>\n",
       "    </tr>\n",
       "    <tr>\n",
       "      <th>Discharge_Air_Temperature_Setpoint</th>\n",
       "      <td>2</td>\n",
       "    </tr>\n",
       "    <tr>\n",
       "      <th>Supply_Air_Static_Pressure_Sensor</th>\n",
       "      <td>0</td>\n",
       "    </tr>\n",
       "    <tr>\n",
       "      <th>Supply_Air_Temperature_Sensor</th>\n",
       "      <td>0</td>\n",
       "    </tr>\n",
       "  </tbody>\n",
       "</table>\n",
       "</div>"
      ],
      "text/plain": [
       "                                       3\n",
       "1                                       \n",
       "Damper_Position_Sensor              1471\n",
       "Temperature_Setpoint                1437\n",
       "Air_Flow_Sensor                      866\n",
       "Air_Flow_Setpoint                    772\n",
       "Air_Temperature_Setpoint             488\n",
       "Damper_Position_Setpoint             379\n",
       "Flow_Sensor                          255\n",
       "Flow_Setpoint                        210\n",
       "Temperature_Sensor                   174\n",
       "Supply_Air_Temperature_Setpoint      141\n",
       "Air_Temperature_Sensor                74\n",
       "Water_Temperature_Sensor              66\n",
       "Water_Temperature_Setpoint            25\n",
       "Static_Pressure_Sensor                18\n",
       "Outside_Air_Temperature_Setpoint      10\n",
       "Differential_Pressure_Setpoint         6\n",
       "Cooling_Demand_Setpoint                5\n",
       "Discharge_Air_Temperature_Setpoint     2\n",
       "Supply_Air_Static_Pressure_Sensor      0\n",
       "Supply_Air_Temperature_Sensor          0"
      ]
     },
     "execution_count": 51,
     "metadata": {},
     "output_type": "execute_result"
    }
   ],
   "source": [
    "rm_check[[1, 3]].groupby(1).agg('sum').sort_values(3, ascending=False)"
   ]
  },
  {
   "cell_type": "code",
   "execution_count": 52,
   "metadata": {},
   "outputs": [
    {
     "data": {
      "text/plain": [
       "6399"
      ]
     },
     "execution_count": 52,
     "metadata": {},
     "output_type": "execute_result"
    }
   ],
   "source": [
    "rm_check[[1, 3]].groupby(1).agg('sum').sort_values(3, ascending=False)[3].sum()"
   ]
  },
  {
   "cell_type": "code",
   "execution_count": 53,
   "metadata": {},
   "outputs": [],
   "source": [
    "filtered_res.to_csv(\"../logs/submit/0130_post_processing_replace.csv\", index=False)"
   ]
  },
  {
   "cell_type": "code",
   "execution_count": 54,
   "metadata": {},
   "outputs": [],
   "source": [
    "def check_pred_num(_final_res, thr=0.4):\n",
    "    # Exclude 'filename' column if it exists\n",
    "    filtered_df = _final_res.drop(columns=['filename'], errors='ignore')\n",
    "\n",
    "    return (filtered_df >= thr).sum(axis=1)"
   ]
  },
  {
   "cell_type": "code",
   "execution_count": 56,
   "metadata": {},
   "outputs": [
    {
     "data": {
      "text/plain": [
       "1    119405\n",
       "2     82247\n",
       "3     71922\n",
       "4     31935\n",
       "5     10211\n",
       "Name: count, dtype: int64"
      ]
     },
     "execution_count": 56,
     "metadata": {},
     "output_type": "execute_result"
    }
   ],
   "source": [
    "check_pred_num(stackedfinalresult).value_counts()"
   ]
  },
  {
   "cell_type": "code",
   "execution_count": 57,
   "metadata": {},
   "outputs": [
    {
     "data": {
      "text/plain": [
       "1    119405\n",
       "2     82987\n",
       "3     71182\n",
       "4     31935\n",
       "5     10211\n",
       "Name: count, dtype: int64"
      ]
     },
     "execution_count": 57,
     "metadata": {},
     "output_type": "execute_result"
    }
   ],
   "source": [
    "check_pred_num(filtered_res).value_counts()"
   ]
  },
  {
   "cell_type": "code",
   "execution_count": null,
   "metadata": {},
   "outputs": [],
   "source": []
  }
 ],
 "metadata": {
  "kernelspec": {
   "display_name": "ddm",
   "language": "python",
   "name": "python3"
  },
  "language_info": {
   "codemirror_mode": {
    "name": "ipython",
    "version": 3
   },
   "file_extension": ".py",
   "mimetype": "text/x-python",
   "name": "python",
   "nbconvert_exporter": "python",
   "pygments_lexer": "ipython3",
   "version": "3.9.18"
  }
 },
 "nbformat": 4,
 "nbformat_minor": 2
}
