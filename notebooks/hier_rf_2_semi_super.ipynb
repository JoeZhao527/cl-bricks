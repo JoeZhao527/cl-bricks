{
 "cells": [
  {
   "cell_type": "code",
   "execution_count": 1,
   "metadata": {},
   "outputs": [],
   "source": [
    "import pandas as pd\n",
    "import numpy as np\n",
    "import matplotlib.pyplot as plt\n",
    "import seaborn as sns\n",
    "import os\n",
    "import sys\n",
    "import time\n",
    "from zipfile import ZipFile\n",
    "import warnings\n",
    "import pickle\n",
    "import torch\n",
    "from torch.utils.data import Dataset\n",
    "import tsfel\n",
    "from sklearn.model_selection import StratifiedKFold\n",
    "from tqdm import tqdm\n",
    "import lightgbm as lgb\n",
    "from hiclass import LocalClassifierPerNode, LocalClassifierPerParentNode, LocalClassifierPerLevel\n",
    "from lightgbm import LGBMClassifier\n",
    "from sklearn.semi_supervised import SelfTrainingClassifier\n",
    "from sklearn.ensemble import RandomForestClassifier\n",
    "warnings.filterwarnings('ignore')"
   ]
  },
  {
   "cell_type": "markdown",
   "metadata": {},
   "source": [
    "# Data split"
   ]
  },
  {
   "cell_type": "code",
   "execution_count": 2,
   "metadata": {},
   "outputs": [],
   "source": [
    "def create_folds(train_y, n_splits=10):\n",
    "    # Create a label array for stratification\n",
    "    # We'll use the first non-zero label for each row as the stratification target\n",
    "    stratify_labels = []\n",
    "    for _, row in train_y.iterrows():\n",
    "        labels = row[train_y.columns != 'filename'].values\n",
    "        # Get first non-negative label, or 0 if all negative\n",
    "        first_positive = next((i for i, x in enumerate(labels) if x >= 0), 0)\n",
    "        stratify_labels.append(first_positive)\n",
    "    \n",
    "    # Create StratifiedKFold object\n",
    "    skf = StratifiedKFold(n_splits=n_splits, shuffle=True, random_state=42)\n",
    "    \n",
    "    # Generate fold indices\n",
    "    folds = []\n",
    "    for train_idx, val_idx in skf.split(train_y, stratify_labels):\n",
    "        folds.append({\n",
    "            'train': train_idx,\n",
    "            'val': val_idx\n",
    "        })\n",
    "    \n",
    "    return folds"
   ]
  },
  {
   "cell_type": "code",
   "execution_count": 3,
   "metadata": {},
   "outputs": [],
   "source": [
    "train_y = pd.read_csv(\"../downloads/train_y_v0.1.0.csv\")"
   ]
  },
  {
   "cell_type": "code",
   "execution_count": 4,
   "metadata": {},
   "outputs": [],
   "source": [
    "folds = create_folds(train_y)"
   ]
  },
  {
   "cell_type": "markdown",
   "metadata": {},
   "source": [
    "# Prepare features"
   ]
  },
  {
   "cell_type": "markdown",
   "metadata": {},
   "source": [
    "### Prepare pre-extracted features"
   ]
  },
  {
   "cell_type": "code",
   "execution_count": 34,
   "metadata": {},
   "outputs": [],
   "source": [
    "raw_train_sets = [\n",
    "    pd.read_csv(\"../downloads/train_data_features_v3_fixed/train_features_full_v3.csv\"),\n",
    "    pd.read_csv(\"../downloads/train_data_features_v3_fixed/train_features_split1_2_v3.csv\"),\n",
    "    # pd.read_csv(\"../downloads/train_data_features_v3_fixed/train_features_split2_2_v3.csv\"),\n",
    "    # pd.read_csv(\"../downloads/train_data_features_v3_fixed/train_features_split1_3_v3.csv\"),\n",
    "    # pd.read_csv(\"../downloads/train_data_features_v3_fixed/train_features_split2_3_v3.csv\"),\n",
    "    # pd.read_csv(\"../downloads/train_data_features_v3_fixed/train_features_split3_3_v3.csv\"),\n",
    "    # pd.read_csv(\"../downloads/train_data_features_v3_fixed/train_features_split1_4_v3.csv\"),\n",
    "    # pd.read_csv(\"../downloads/train_data_features_v3_fixed/train_features_split2_4_v3.csv\"),\n",
    "    # pd.read_csv(\"../downloads/train_data_features_v3_fixed/train_features_split3_4_v3.csv\"),\n",
    "    # pd.read_csv(\"../downloads/train_data_features_v3_fixed/train_features_split4_4_v3.csv\")\n",
    "]"
   ]
  },
  {
   "cell_type": "code",
   "execution_count": 35,
   "metadata": {},
   "outputs": [],
   "source": [
    "raw_test_X = pd.read_csv(\"../downloads/test_features_full_v3.csv\")"
   ]
  },
  {
   "cell_type": "code",
   "execution_count": 36,
   "metadata": {},
   "outputs": [],
   "source": [
    "pre_feature_list = ['0_Absolute energy',\n",
    " '0_Area under the curve',\n",
    " '0_Autocorrelation',\n",
    " '0_Average power',\n",
    " '0_Centroid',\n",
    " '0_ECDF Percentile Count_0',\n",
    " '0_ECDF Percentile Count_1',\n",
    " '0_ECDF Percentile_0',\n",
    " '0_ECDF Percentile_1',\n",
    " '0_ECDF_0',\n",
    " '0_ECDF_1',\n",
    " '0_ECDF_2',\n",
    " '0_ECDF_3',\n",
    " '0_ECDF_4',\n",
    " '0_ECDF_5',\n",
    " '0_ECDF_6',\n",
    " '0_ECDF_7',\n",
    " '0_ECDF_8',\n",
    " '0_ECDF_9',\n",
    " '0_Entropy',\n",
    " '0_Histogram mode',\n",
    " '0_Interquartile range',\n",
    " '0_Kurtosis',\n",
    " '0_Max',\n",
    " '0_Mean',\n",
    " '0_Mean absolute deviation',\n",
    " '0_Mean absolute diff',\n",
    " '0_Mean diff',\n",
    " '0_Median',\n",
    " '0_Median absolute deviation',\n",
    " '0_Median absolute diff',\n",
    " '0_Median diff',\n",
    " '0_Min',\n",
    " '0_Negative turning points',\n",
    " '0_Neighbourhood peaks',\n",
    " '0_Peak to peak distance',\n",
    " '0_Positive turning points',\n",
    " '0_Root mean square',\n",
    " '0_Signal distance',\n",
    " '0_Skewness',\n",
    " '0_Slope',\n",
    " '0_Standard deviation',\n",
    " '0_Sum absolute diff',\n",
    " '0_Variance',\n",
    " '0_Zero crossing rate',\n",
    " '0_Fundamental frequency',\n",
    " '0_Human range energy',\n",
    " '0_Max power spectrum',\n",
    " '0_Maximum frequency',\n",
    " '0_Median frequency',\n",
    " '0_Power bandwidth',\n",
    " '0_Wavelet entropy',\n",
    " 'value_median',\n",
    " 'value_mean',\n",
    " 'value_qmean',\n",
    " 'value_max',\n",
    " 'value_min',\n",
    " 'value_maxmin',\n",
    " 'value_diffmax',\n",
    " 'value_diffmin',\n",
    " 'value_diffmean',\n",
    " 'value_diffqmean',\n",
    " 'value_diffmedian',\n",
    " 'value_diffmaxmin',\n",
    " 'time_diffmean',\n",
    " 'time_diffqmean',\n",
    " 'time_diffmax',\n",
    " 'time_diffmin',\n",
    " 'time_diffmedian',\n",
    " 'value_std',\n",
    " 'value_var',\n",
    " 'value_diffstd',\n",
    " 'value_diffvar',\n",
    " 'time_diffstd',\n",
    " 'time_diffvar',\n",
    " 'time_burstiness',\n",
    " 'time_total',\n",
    " 'time_event_density',\n",
    " 'time_entropy',\n",
    " 'time_slope'\n",
    "]"
   ]
  },
  {
   "cell_type": "code",
   "execution_count": 37,
   "metadata": {},
   "outputs": [],
   "source": [
    "train_sets = [trn[pre_feature_list] for trn in raw_train_sets]\n",
    "test_X = raw_test_X[pre_feature_list]"
   ]
  },
  {
   "cell_type": "markdown",
   "metadata": {},
   "source": [
    "# Prepare labels"
   ]
  },
  {
   "cell_type": "code",
   "execution_count": 38,
   "metadata": {},
   "outputs": [],
   "source": [
    "def get_active_labels_np(row):\n",
    "    \"\"\"More efficient version using numpy\"\"\"\n",
    "    arr = row.to_numpy() # convert to numpy array\n",
    "    indices = np.where(arr == 1)[0] # get indices where value is 1\n",
    "    labels = row.index[indices].tolist() # get labels from indices\n",
    "    return labels\n",
    "\n",
    "labelhir = train_y.apply(get_active_labels_np, axis=1).tolist()"
   ]
  },
  {
   "cell_type": "code",
   "execution_count": 39,
   "metadata": {},
   "outputs": [
    {
     "name": "stderr",
     "output_type": "stream",
     "text": [
      "100%|██████████| 94/94 [00:15<00:00,  6.04it/s]\n"
     ]
    },
    {
     "name": "stdout",
     "output_type": "stream",
     "text": [
      "Level 0\n",
      "[['Active_Power_Sensor', 'Electrical_Power_Sensor'], ['Active_Power_Sensor', 'Power_Sensor'], ['Active_Power_Sensor', 'Sensor'], ['Air_Flow_Sensor', 'Flow_Sensor'], ['Air_Flow_Sensor', 'Sensor'], ['Air_Flow_Setpoint', 'Flow_Setpoint'], ['Air_Flow_Setpoint', 'Setpoint'], ['Air_Temperature_Sensor', 'Sensor'], ['Air_Temperature_Sensor', 'Temperature_Sensor'], ['Air_Temperature_Setpoint', 'Setpoint'], ['Air_Temperature_Setpoint', 'Temperature_Setpoint'], ['Angle_Sensor', 'Sensor'], ['Average_Zone_Air_Temperature_Sensor', 'Air_Temperature_Sensor'], ['Average_Zone_Air_Temperature_Sensor', 'Sensor'], ['Average_Zone_Air_Temperature_Sensor', 'Temperature_Sensor'], ['Average_Zone_Air_Temperature_Sensor', 'Zone_Air_Temperature_Sensor'], ['Chilled_Water_Differential_Temperature_Sensor', 'Sensor'], ['Chilled_Water_Differential_Temperature_Sensor', 'Temperature_Sensor'], ['Chilled_Water_Differential_Temperature_Sensor', 'Water_Temperature_Sensor'], ['Chilled_Water_Return_Temperature_Sensor', 'Return_Water_Temperature_Sensor'], ['Chilled_Water_Return_Temperature_Sensor', 'Sensor'], ['Chilled_Water_Return_Temperature_Sensor', 'Temperature_Sensor'], ['Chilled_Water_Return_Temperature_Sensor', 'Water_Temperature_Sensor'], ['Chilled_Water_Supply_Flow_Sensor', 'Flow_Sensor'], ['Chilled_Water_Supply_Flow_Sensor', 'Sensor'], ['Chilled_Water_Supply_Flow_Sensor', 'Water_Flow_Sensor'], ['Chilled_Water_Supply_Temperature_Sensor', 'Sensor'], ['Chilled_Water_Supply_Temperature_Sensor', 'Temperature_Sensor'], ['Chilled_Water_Supply_Temperature_Sensor', 'Water_Temperature_Sensor'], ['Cooling_Demand_Sensor', 'Active_Power_Sensor'], ['Cooling_Demand_Sensor', 'Air_Flow_Sensor'], ['Cooling_Demand_Sensor', 'Air_Flow_Setpoint'], ['Cooling_Demand_Sensor', 'Air_Temperature_Sensor'], ['Cooling_Demand_Sensor', 'Air_Temperature_Setpoint'], ['Cooling_Demand_Sensor', 'Alarm'], ['Cooling_Demand_Sensor', 'Angle_Sensor'], ['Cooling_Demand_Sensor', 'Average_Zone_Air_Temperature_Sensor'], ['Cooling_Demand_Sensor', 'Chilled_Water_Differential_Temperature_Sensor'], ['Cooling_Demand_Sensor', 'Chilled_Water_Return_Temperature_Sensor'], ['Cooling_Demand_Sensor', 'Chilled_Water_Supply_Flow_Sensor'], ['Cooling_Demand_Sensor', 'Chilled_Water_Supply_Temperature_Sensor'], ['Cooling_Demand_Sensor', 'Command'], ['Cooling_Demand_Sensor', 'Cooling_Demand_Setpoint'], ['Cooling_Demand_Sensor', 'Cooling_Supply_Air_Temperature_Deadband_Setpoint'], ['Cooling_Demand_Sensor', 'Cooling_Temperature_Setpoint'], ['Cooling_Demand_Sensor', 'Current_Sensor'], ['Cooling_Demand_Sensor', 'Damper_Position_Sensor'], ['Cooling_Demand_Sensor', 'Damper_Position_Setpoint'], ['Cooling_Demand_Sensor', 'Demand_Sensor'], ['Cooling_Demand_Sensor', 'Dew_Point_Setpoint'], ['Cooling_Demand_Sensor', 'Differential_Pressure_Sensor'], ['Cooling_Demand_Sensor', 'Differential_Pressure_Setpoint'], ['Cooling_Demand_Sensor', 'Differential_Supply_Return_Water_Temperature_Sensor'], ['Cooling_Demand_Sensor', 'Discharge_Air_Dewpoint_Sensor'], ['Cooling_Demand_Sensor', 'Discharge_Air_Temperature_Sensor'], ['Cooling_Demand_Sensor', 'Discharge_Air_Temperature_Setpoint'], ['Cooling_Demand_Sensor', 'Discharge_Water_Temperature_Sensor'], ['Cooling_Demand_Sensor', 'Duration_Sensor'], ['Cooling_Demand_Sensor', 'Electrical_Power_Sensor'], ['Cooling_Demand_Sensor', 'Energy_Usage_Sensor'], ['Cooling_Demand_Sensor', 'Filter_Differential_Pressure_Sensor'], ['Cooling_Demand_Sensor', 'Flow_Sensor'], ['Cooling_Demand_Sensor', 'Flow_Setpoint'], ['Cooling_Demand_Sensor', 'Frequency_Sensor'], ['Cooling_Demand_Sensor', 'Heating_Demand_Sensor'], ['Cooling_Demand_Sensor', 'Heating_Demand_Setpoint'], ['Cooling_Demand_Sensor', 'Heating_Supply_Air_Temperature_Deadband_Setpoint'], ['Cooling_Demand_Sensor', 'Heating_Temperature_Setpoint'], ['Cooling_Demand_Sensor', 'Hot_Water_Flow_Sensor'], ['Cooling_Demand_Sensor', 'Hot_Water_Return_Temperature_Sensor'], ['Cooling_Demand_Sensor', 'Hot_Water_Supply_Temperature_Sensor'], ['Cooling_Demand_Sensor', 'Humidity_Setpoint'], ['Cooling_Demand_Sensor', 'Load_Current_Sensor'], ['Cooling_Demand_Sensor', 'Low_Outside_Air_Temperature_Enable_Setpoint'], ['Cooling_Demand_Sensor', 'Max_Air_Temperature_Setpoint'], ['Cooling_Demand_Sensor', 'Min_Air_Temperature_Setpoint'], ['Cooling_Demand_Sensor', 'Outside_Air_CO2_Sensor'], ['Cooling_Demand_Sensor', 'Outside_Air_Enthalpy_Sensor'], ['Cooling_Demand_Sensor', 'Outside_Air_Humidity_Sensor'], ['Cooling_Demand_Sensor', 'Outside_Air_Lockout_Temperature_Setpoint'], ['Cooling_Demand_Sensor', 'Outside_Air_Temperature_Sensor'], ['Cooling_Demand_Sensor', 'Outside_Air_Temperature_Setpoint'], ['Cooling_Demand_Sensor', 'Parameter'], ['Cooling_Demand_Sensor', 'Peak_Power_Demand_Sensor'], ['Cooling_Demand_Sensor', 'Position_Sensor'], ['Cooling_Demand_Sensor', 'Power_Sensor'], ['Cooling_Demand_Sensor', 'Pressure_Sensor'], ['Cooling_Demand_Sensor', 'Rain_Sensor'], ['Cooling_Demand_Sensor', 'Reactive_Power_Sensor'], ['Cooling_Demand_Sensor', 'Reset_Setpoint'], ['Cooling_Demand_Sensor', 'Return_Air_Temperature_Sensor'], ['Cooling_Demand_Sensor', 'Return_Water_Temperature_Sensor'], ['Cooling_Demand_Sensor', 'Room_Air_Temperature_Setpoint'], ['Cooling_Demand_Sensor', 'Sensor'], ['Cooling_Demand_Sensor', 'Setpoint'], ['Cooling_Demand_Sensor', 'Solar_Radiance_Sensor'], ['Cooling_Demand_Sensor', 'Speed_Setpoint'], ['Cooling_Demand_Sensor', 'Static_Pressure_Sensor'], ['Cooling_Demand_Sensor', 'Static_Pressure_Setpoint'], ['Cooling_Demand_Sensor', 'Status'], ['Cooling_Demand_Sensor', 'Supply_Air_Humidity_Sensor'], ['Cooling_Demand_Sensor', 'Supply_Air_Static_Pressure_Sensor'], ['Cooling_Demand_Sensor', 'Supply_Air_Static_Pressure_Setpoint'], ['Cooling_Demand_Sensor', 'Supply_Air_Temperature_Sensor'], ['Cooling_Demand_Sensor', 'Supply_Air_Temperature_Setpoint'], ['Cooling_Demand_Sensor', 'Temperature_Sensor'], ['Cooling_Demand_Sensor', 'Temperature_Setpoint'], ['Cooling_Demand_Sensor', 'Thermal_Power_Sensor'], ['Cooling_Demand_Sensor', 'Time_Setpoint'], ['Cooling_Demand_Sensor', 'Usage_Sensor'], ['Cooling_Demand_Sensor', 'Valve_Position_Sensor'], ['Cooling_Demand_Sensor', 'Voltage_Sensor'], ['Cooling_Demand_Sensor', 'Warmest_Zone_Air_Temperature_Sensor'], ['Cooling_Demand_Sensor', 'Water_Flow_Sensor'], ['Cooling_Demand_Sensor', 'Water_Temperature_Sensor'], ['Cooling_Demand_Sensor', 'Water_Temperature_Setpoint'], ['Cooling_Demand_Sensor', 'Wind_Direction_Sensor'], ['Cooling_Demand_Sensor', 'Wind_Speed_Sensor'], ['Cooling_Demand_Sensor', 'Zone_Air_Dewpoint_Sensor'], ['Cooling_Demand_Sensor', 'Zone_Air_Humidity_Sensor'], ['Cooling_Demand_Sensor', 'Zone_Air_Humidity_Setpoint'], ['Cooling_Demand_Sensor', 'Zone_Air_Temperature_Sensor'], ['Cooling_Demand_Setpoint', 'Setpoint'], ['Cooling_Supply_Air_Temperature_Deadband_Setpoint', 'Air_Temperature_Setpoint'], ['Cooling_Supply_Air_Temperature_Deadband_Setpoint', 'Cooling_Temperature_Setpoint'], ['Cooling_Supply_Air_Temperature_Deadband_Setpoint', 'Setpoint'], ['Cooling_Supply_Air_Temperature_Deadband_Setpoint', 'Temperature_Setpoint'], ['Cooling_Temperature_Setpoint', 'Setpoint'], ['Cooling_Temperature_Setpoint', 'Temperature_Setpoint'], ['Current_Sensor', 'Sensor'], ['Damper_Position_Sensor', 'Position_Sensor'], ['Damper_Position_Sensor', 'Sensor'], ['Damper_Position_Setpoint', 'Setpoint'], ['Demand_Sensor', 'Sensor'], ['Dew_Point_Setpoint', 'Setpoint'], ['Differential_Pressure_Sensor', 'Pressure_Sensor'], ['Differential_Pressure_Sensor', 'Sensor'], ['Differential_Pressure_Setpoint', 'Setpoint'], ['Differential_Supply_Return_Water_Temperature_Sensor', 'Return_Water_Temperature_Sensor'], ['Differential_Supply_Return_Water_Temperature_Sensor', 'Sensor'], ['Differential_Supply_Return_Water_Temperature_Sensor', 'Temperature_Sensor'], ['Differential_Supply_Return_Water_Temperature_Sensor', 'Water_Temperature_Sensor'], ['Discharge_Air_Dewpoint_Sensor', 'Sensor'], ['Discharge_Air_Temperature_Sensor', 'Air_Temperature_Sensor'], ['Discharge_Air_Temperature_Sensor', 'Sensor'], ['Discharge_Air_Temperature_Sensor', 'Temperature_Sensor'], ['Discharge_Air_Temperature_Setpoint', 'Air_Temperature_Setpoint'], ['Discharge_Air_Temperature_Setpoint', 'Setpoint'], ['Discharge_Air_Temperature_Setpoint', 'Temperature_Setpoint'], ['Discharge_Water_Temperature_Sensor', 'Sensor'], ['Discharge_Water_Temperature_Sensor', 'Temperature_Sensor'], ['Discharge_Water_Temperature_Sensor', 'Water_Temperature_Sensor'], ['Duration_Sensor', 'Sensor'], ['Electrical_Power_Sensor', 'Power_Sensor'], ['Electrical_Power_Sensor', 'Sensor'], ['Energy_Usage_Sensor', 'Sensor'], ['Energy_Usage_Sensor', 'Usage_Sensor'], ['Filter_Differential_Pressure_Sensor', 'Differential_Pressure_Sensor'], ['Filter_Differential_Pressure_Sensor', 'Pressure_Sensor'], ['Filter_Differential_Pressure_Sensor', 'Sensor'], ['Flow_Sensor', 'Sensor'], ['Flow_Setpoint', 'Setpoint'], ['Frequency_Sensor', 'Sensor'], ['Heating_Demand_Sensor', 'Active_Power_Sensor'], ['Heating_Demand_Sensor', 'Air_Flow_Sensor'], ['Heating_Demand_Sensor', 'Air_Flow_Setpoint'], ['Heating_Demand_Sensor', 'Air_Temperature_Sensor'], ['Heating_Demand_Sensor', 'Air_Temperature_Setpoint'], ['Heating_Demand_Sensor', 'Alarm'], ['Heating_Demand_Sensor', 'Angle_Sensor'], ['Heating_Demand_Sensor', 'Average_Zone_Air_Temperature_Sensor'], ['Heating_Demand_Sensor', 'Chilled_Water_Differential_Temperature_Sensor'], ['Heating_Demand_Sensor', 'Chilled_Water_Return_Temperature_Sensor'], ['Heating_Demand_Sensor', 'Chilled_Water_Supply_Flow_Sensor'], ['Heating_Demand_Sensor', 'Chilled_Water_Supply_Temperature_Sensor'], ['Heating_Demand_Sensor', 'Command'], ['Heating_Demand_Sensor', 'Cooling_Demand_Sensor'], ['Heating_Demand_Sensor', 'Cooling_Demand_Setpoint'], ['Heating_Demand_Sensor', 'Cooling_Supply_Air_Temperature_Deadband_Setpoint'], ['Heating_Demand_Sensor', 'Cooling_Temperature_Setpoint'], ['Heating_Demand_Sensor', 'Current_Sensor'], ['Heating_Demand_Sensor', 'Damper_Position_Sensor'], ['Heating_Demand_Sensor', 'Damper_Position_Setpoint'], ['Heating_Demand_Sensor', 'Demand_Sensor'], ['Heating_Demand_Sensor', 'Dew_Point_Setpoint'], ['Heating_Demand_Sensor', 'Differential_Pressure_Sensor'], ['Heating_Demand_Sensor', 'Differential_Pressure_Setpoint'], ['Heating_Demand_Sensor', 'Differential_Supply_Return_Water_Temperature_Sensor'], ['Heating_Demand_Sensor', 'Discharge_Air_Dewpoint_Sensor'], ['Heating_Demand_Sensor', 'Discharge_Air_Temperature_Sensor'], ['Heating_Demand_Sensor', 'Discharge_Air_Temperature_Setpoint'], ['Heating_Demand_Sensor', 'Discharge_Water_Temperature_Sensor'], ['Heating_Demand_Sensor', 'Duration_Sensor'], ['Heating_Demand_Sensor', 'Electrical_Power_Sensor'], ['Heating_Demand_Sensor', 'Energy_Usage_Sensor'], ['Heating_Demand_Sensor', 'Filter_Differential_Pressure_Sensor'], ['Heating_Demand_Sensor', 'Flow_Sensor'], ['Heating_Demand_Sensor', 'Flow_Setpoint'], ['Heating_Demand_Sensor', 'Frequency_Sensor'], ['Heating_Demand_Sensor', 'Heating_Demand_Setpoint'], ['Heating_Demand_Sensor', 'Heating_Supply_Air_Temperature_Deadband_Setpoint'], ['Heating_Demand_Sensor', 'Heating_Temperature_Setpoint'], ['Heating_Demand_Sensor', 'Hot_Water_Flow_Sensor'], ['Heating_Demand_Sensor', 'Hot_Water_Return_Temperature_Sensor'], ['Heating_Demand_Sensor', 'Hot_Water_Supply_Temperature_Sensor'], ['Heating_Demand_Sensor', 'Humidity_Setpoint'], ['Heating_Demand_Sensor', 'Load_Current_Sensor'], ['Heating_Demand_Sensor', 'Low_Outside_Air_Temperature_Enable_Setpoint'], ['Heating_Demand_Sensor', 'Max_Air_Temperature_Setpoint'], ['Heating_Demand_Sensor', 'Min_Air_Temperature_Setpoint'], ['Heating_Demand_Sensor', 'Outside_Air_CO2_Sensor'], ['Heating_Demand_Sensor', 'Outside_Air_Enthalpy_Sensor'], ['Heating_Demand_Sensor', 'Outside_Air_Humidity_Sensor'], ['Heating_Demand_Sensor', 'Outside_Air_Lockout_Temperature_Setpoint'], ['Heating_Demand_Sensor', 'Outside_Air_Temperature_Sensor'], ['Heating_Demand_Sensor', 'Outside_Air_Temperature_Setpoint'], ['Heating_Demand_Sensor', 'Parameter'], ['Heating_Demand_Sensor', 'Peak_Power_Demand_Sensor'], ['Heating_Demand_Sensor', 'Position_Sensor'], ['Heating_Demand_Sensor', 'Power_Sensor'], ['Heating_Demand_Sensor', 'Pressure_Sensor'], ['Heating_Demand_Sensor', 'Rain_Sensor'], ['Heating_Demand_Sensor', 'Reactive_Power_Sensor'], ['Heating_Demand_Sensor', 'Reset_Setpoint'], ['Heating_Demand_Sensor', 'Return_Air_Temperature_Sensor'], ['Heating_Demand_Sensor', 'Return_Water_Temperature_Sensor'], ['Heating_Demand_Sensor', 'Room_Air_Temperature_Setpoint'], ['Heating_Demand_Sensor', 'Sensor'], ['Heating_Demand_Sensor', 'Setpoint'], ['Heating_Demand_Sensor', 'Solar_Radiance_Sensor'], ['Heating_Demand_Sensor', 'Speed_Setpoint'], ['Heating_Demand_Sensor', 'Static_Pressure_Sensor'], ['Heating_Demand_Sensor', 'Static_Pressure_Setpoint'], ['Heating_Demand_Sensor', 'Status'], ['Heating_Demand_Sensor', 'Supply_Air_Humidity_Sensor'], ['Heating_Demand_Sensor', 'Supply_Air_Static_Pressure_Sensor'], ['Heating_Demand_Sensor', 'Supply_Air_Static_Pressure_Setpoint'], ['Heating_Demand_Sensor', 'Supply_Air_Temperature_Sensor'], ['Heating_Demand_Sensor', 'Supply_Air_Temperature_Setpoint'], ['Heating_Demand_Sensor', 'Temperature_Sensor'], ['Heating_Demand_Sensor', 'Temperature_Setpoint'], ['Heating_Demand_Sensor', 'Thermal_Power_Sensor'], ['Heating_Demand_Sensor', 'Time_Setpoint'], ['Heating_Demand_Sensor', 'Usage_Sensor'], ['Heating_Demand_Sensor', 'Valve_Position_Sensor'], ['Heating_Demand_Sensor', 'Voltage_Sensor'], ['Heating_Demand_Sensor', 'Warmest_Zone_Air_Temperature_Sensor'], ['Heating_Demand_Sensor', 'Water_Flow_Sensor'], ['Heating_Demand_Sensor', 'Water_Temperature_Sensor'], ['Heating_Demand_Sensor', 'Water_Temperature_Setpoint'], ['Heating_Demand_Sensor', 'Wind_Direction_Sensor'], ['Heating_Demand_Sensor', 'Wind_Speed_Sensor'], ['Heating_Demand_Sensor', 'Zone_Air_Dewpoint_Sensor'], ['Heating_Demand_Sensor', 'Zone_Air_Humidity_Sensor'], ['Heating_Demand_Sensor', 'Zone_Air_Humidity_Setpoint'], ['Heating_Demand_Sensor', 'Zone_Air_Temperature_Sensor'], ['Heating_Demand_Setpoint', 'Setpoint'], ['Heating_Supply_Air_Temperature_Deadband_Setpoint', 'Air_Temperature_Setpoint'], ['Heating_Supply_Air_Temperature_Deadband_Setpoint', 'Heating_Temperature_Setpoint'], ['Heating_Supply_Air_Temperature_Deadband_Setpoint', 'Setpoint'], ['Heating_Supply_Air_Temperature_Deadband_Setpoint', 'Temperature_Setpoint'], ['Heating_Temperature_Setpoint', 'Setpoint'], ['Heating_Temperature_Setpoint', 'Temperature_Setpoint'], ['Hot_Water_Flow_Sensor', 'Flow_Sensor'], ['Hot_Water_Flow_Sensor', 'Sensor'], ['Hot_Water_Flow_Sensor', 'Water_Flow_Sensor'], ['Hot_Water_Return_Temperature_Sensor', 'Return_Water_Temperature_Sensor'], ['Hot_Water_Return_Temperature_Sensor', 'Sensor'], ['Hot_Water_Return_Temperature_Sensor', 'Temperature_Sensor'], ['Hot_Water_Return_Temperature_Sensor', 'Water_Temperature_Sensor'], ['Hot_Water_Supply_Temperature_Sensor', 'Sensor'], ['Hot_Water_Supply_Temperature_Sensor', 'Temperature_Sensor'], ['Hot_Water_Supply_Temperature_Sensor', 'Water_Temperature_Sensor'], ['Humidity_Setpoint', 'Setpoint'], ['Load_Current_Sensor', 'Current_Sensor'], ['Load_Current_Sensor', 'Sensor'], ['Low_Outside_Air_Temperature_Enable_Setpoint', 'Air_Temperature_Setpoint'], ['Low_Outside_Air_Temperature_Enable_Setpoint', 'Outside_Air_Temperature_Setpoint'], ['Low_Outside_Air_Temperature_Enable_Setpoint', 'Setpoint'], ['Low_Outside_Air_Temperature_Enable_Setpoint', 'Temperature_Setpoint'], ['Max_Air_Temperature_Setpoint', 'Air_Temperature_Setpoint'], ['Max_Air_Temperature_Setpoint', 'Setpoint'], ['Max_Air_Temperature_Setpoint', 'Temperature_Setpoint'], ['Min_Air_Temperature_Setpoint', 'Air_Temperature_Setpoint'], ['Min_Air_Temperature_Setpoint', 'Setpoint'], ['Min_Air_Temperature_Setpoint', 'Temperature_Setpoint'], ['Outside_Air_CO2_Sensor', 'Sensor'], ['Outside_Air_Enthalpy_Sensor', 'Sensor'], ['Outside_Air_Humidity_Sensor', 'Sensor'], ['Outside_Air_Lockout_Temperature_Setpoint', 'Air_Temperature_Setpoint'], ['Outside_Air_Lockout_Temperature_Setpoint', 'Outside_Air_Temperature_Setpoint'], ['Outside_Air_Lockout_Temperature_Setpoint', 'Setpoint'], ['Outside_Air_Lockout_Temperature_Setpoint', 'Temperature_Setpoint'], ['Outside_Air_Temperature_Sensor', 'Air_Temperature_Sensor'], ['Outside_Air_Temperature_Sensor', 'Sensor'], ['Outside_Air_Temperature_Sensor', 'Temperature_Sensor'], ['Outside_Air_Temperature_Setpoint', 'Air_Temperature_Setpoint'], ['Outside_Air_Temperature_Setpoint', 'Setpoint'], ['Outside_Air_Temperature_Setpoint', 'Temperature_Setpoint'], ['Peak_Power_Demand_Sensor', 'Demand_Sensor'], ['Peak_Power_Demand_Sensor', 'Electrical_Power_Sensor'], ['Peak_Power_Demand_Sensor', 'Power_Sensor'], ['Peak_Power_Demand_Sensor', 'Sensor'], ['Position_Sensor', 'Sensor'], ['Power_Sensor', 'Sensor'], ['Pressure_Sensor', 'Sensor'], ['Rain_Sensor', 'Sensor'], ['Reactive_Power_Sensor', 'Electrical_Power_Sensor'], ['Reactive_Power_Sensor', 'Power_Sensor'], ['Reactive_Power_Sensor', 'Sensor'], ['Reset_Setpoint', 'Setpoint'], ['Return_Air_Temperature_Sensor', 'Air_Temperature_Sensor'], ['Return_Air_Temperature_Sensor', 'Sensor'], ['Return_Air_Temperature_Sensor', 'Temperature_Sensor'], ['Return_Water_Temperature_Sensor', 'Sensor'], ['Return_Water_Temperature_Sensor', 'Temperature_Sensor'], ['Return_Water_Temperature_Sensor', 'Water_Temperature_Sensor'], ['Room_Air_Temperature_Setpoint', 'Air_Temperature_Setpoint'], ['Room_Air_Temperature_Setpoint', 'Setpoint'], ['Room_Air_Temperature_Setpoint', 'Temperature_Setpoint'], ['Solar_Radiance_Sensor', 'Sensor'], ['Speed_Setpoint', 'Setpoint'], ['Static_Pressure_Sensor', 'Pressure_Sensor'], ['Static_Pressure_Sensor', 'Sensor'], ['Static_Pressure_Setpoint', 'Setpoint'], ['Supply_Air_Humidity_Sensor', 'Sensor'], ['Supply_Air_Static_Pressure_Sensor', 'Pressure_Sensor'], ['Supply_Air_Static_Pressure_Sensor', 'Sensor'], ['Supply_Air_Static_Pressure_Sensor', 'Static_Pressure_Sensor'], ['Supply_Air_Static_Pressure_Setpoint', 'Setpoint'], ['Supply_Air_Static_Pressure_Setpoint', 'Static_Pressure_Setpoint'], ['Supply_Air_Temperature_Sensor', 'Air_Temperature_Sensor'], ['Supply_Air_Temperature_Sensor', 'Sensor'], ['Supply_Air_Temperature_Sensor', 'Temperature_Sensor'], ['Supply_Air_Temperature_Setpoint', 'Air_Temperature_Setpoint'], ['Supply_Air_Temperature_Setpoint', 'Setpoint'], ['Supply_Air_Temperature_Setpoint', 'Temperature_Setpoint'], ['Temperature_Sensor', 'Sensor'], ['Temperature_Setpoint', 'Setpoint'], ['Thermal_Power_Sensor', 'Power_Sensor'], ['Thermal_Power_Sensor', 'Sensor'], ['Time_Setpoint', 'Setpoint'], ['Usage_Sensor', 'Sensor'], ['Valve_Position_Sensor', 'Position_Sensor'], ['Valve_Position_Sensor', 'Sensor'], ['Voltage_Sensor', 'Sensor'], ['Warmest_Zone_Air_Temperature_Sensor', 'Air_Temperature_Sensor'], ['Warmest_Zone_Air_Temperature_Sensor', 'Sensor'], ['Warmest_Zone_Air_Temperature_Sensor', 'Temperature_Sensor'], ['Warmest_Zone_Air_Temperature_Sensor', 'Zone_Air_Temperature_Sensor'], ['Water_Flow_Sensor', 'Flow_Sensor'], ['Water_Flow_Sensor', 'Sensor'], ['Water_Temperature_Sensor', 'Sensor'], ['Water_Temperature_Sensor', 'Temperature_Sensor'], ['Water_Temperature_Setpoint', 'Setpoint'], ['Water_Temperature_Setpoint', 'Temperature_Setpoint'], ['Wind_Direction_Sensor', 'Sensor'], ['Wind_Speed_Sensor', 'Sensor'], ['Zone_Air_Dewpoint_Sensor', 'Sensor'], ['Zone_Air_Humidity_Sensor', 'Sensor'], ['Zone_Air_Humidity_Setpoint', 'Humidity_Setpoint'], ['Zone_Air_Humidity_Setpoint', 'Setpoint'], ['Zone_Air_Temperature_Sensor', 'Air_Temperature_Sensor'], ['Zone_Air_Temperature_Sensor', 'Sensor'], ['Zone_Air_Temperature_Sensor', 'Temperature_Sensor']]\n",
      "{'Outside_Air_Temperature_Setpoint', 'Time_Setpoint', 'Static_Pressure_Setpoint', 'Supply_Air_Temperature_Sensor', 'Energy_Usage_Sensor', 'Position_Sensor', 'Low_Outside_Air_Temperature_Enable_Setpoint', 'Hot_Water_Return_Temperature_Sensor', 'Air_Temperature_Setpoint', 'Current_Sensor', 'Speed_Setpoint', 'Reset_Setpoint', 'Peak_Power_Demand_Sensor', 'Outside_Air_CO2_Sensor', 'Power_Sensor', 'Differential_Pressure_Sensor', 'Electrical_Power_Sensor', 'Air_Flow_Sensor', 'Pressure_Sensor', 'Room_Air_Temperature_Setpoint', 'Rain_Sensor', 'Air_Flow_Setpoint', 'Discharge_Air_Temperature_Sensor', 'Duration_Sensor', 'Dew_Point_Setpoint', 'Min_Air_Temperature_Setpoint', 'Discharge_Air_Temperature_Setpoint', 'Temperature_Setpoint', 'Warmest_Zone_Air_Temperature_Sensor', 'Chilled_Water_Supply_Flow_Sensor', 'Supply_Air_Static_Pressure_Setpoint', 'Cooling_Demand_Setpoint', 'Chilled_Water_Return_Temperature_Sensor', 'Cooling_Temperature_Setpoint', 'Hot_Water_Flow_Sensor', 'Differential_Pressure_Setpoint', 'Water_Temperature_Sensor', 'Damper_Position_Sensor', 'Zone_Air_Humidity_Setpoint', 'Zone_Air_Dewpoint_Sensor', 'Return_Air_Temperature_Sensor', 'Supply_Air_Temperature_Setpoint', 'Cooling_Demand_Sensor', 'Supply_Air_Humidity_Sensor', 'Zone_Air_Temperature_Sensor', 'Heating_Supply_Air_Temperature_Deadband_Setpoint', 'Max_Air_Temperature_Setpoint', 'Thermal_Power_Sensor', 'Load_Current_Sensor', 'Outside_Air_Lockout_Temperature_Setpoint', 'Solar_Radiance_Sensor', 'Hot_Water_Supply_Temperature_Sensor', 'Filter_Differential_Pressure_Sensor', 'Demand_Sensor', 'Discharge_Water_Temperature_Sensor', 'Angle_Sensor', 'Frequency_Sensor', 'Cooling_Supply_Air_Temperature_Deadband_Setpoint', 'Differential_Supply_Return_Water_Temperature_Sensor', 'Outside_Air_Temperature_Sensor', 'Water_Flow_Sensor', 'Valve_Position_Sensor', 'Water_Temperature_Setpoint', 'Chilled_Water_Differential_Temperature_Sensor', 'Outside_Air_Enthalpy_Sensor', 'Zone_Air_Humidity_Sensor', 'Usage_Sensor', 'Humidity_Setpoint', 'Air_Temperature_Sensor', 'Flow_Setpoint', 'Heating_Demand_Sensor', 'Voltage_Sensor', 'Chilled_Water_Supply_Temperature_Sensor', 'Return_Water_Temperature_Sensor', 'Wind_Direction_Sensor', 'Active_Power_Sensor', 'Average_Zone_Air_Temperature_Sensor', 'Heating_Demand_Setpoint', 'Supply_Air_Static_Pressure_Sensor', 'Reactive_Power_Sensor', 'Wind_Speed_Sensor', 'Heating_Temperature_Setpoint', 'Temperature_Sensor', 'Static_Pressure_Sensor', 'Damper_Position_Setpoint', 'Discharge_Air_Dewpoint_Sensor', 'Flow_Sensor', 'Outside_Air_Humidity_Sensor'}\n",
      "\n"
     ]
    },
    {
     "name": "stderr",
     "output_type": "stream",
     "text": [
      "100%|██████████| 88/88 [00:11<00:00,  7.80it/s]\n"
     ]
    },
    {
     "name": "stdout",
     "output_type": "stream",
     "text": [
      "Level 1\n",
      "[['Outside_Air_Temperature_Setpoint', 'Air_Temperature_Setpoint'], ['Outside_Air_Temperature_Setpoint', 'Temperature_Setpoint'], ['Supply_Air_Temperature_Sensor', 'Air_Temperature_Sensor'], ['Supply_Air_Temperature_Sensor', 'Temperature_Sensor'], ['Energy_Usage_Sensor', 'Usage_Sensor'], ['Low_Outside_Air_Temperature_Enable_Setpoint', 'Outside_Air_Temperature_Setpoint'], ['Low_Outside_Air_Temperature_Enable_Setpoint', 'Air_Temperature_Setpoint'], ['Low_Outside_Air_Temperature_Enable_Setpoint', 'Temperature_Setpoint'], ['Hot_Water_Return_Temperature_Sensor', 'Water_Temperature_Sensor'], ['Hot_Water_Return_Temperature_Sensor', 'Return_Water_Temperature_Sensor'], ['Hot_Water_Return_Temperature_Sensor', 'Temperature_Sensor'], ['Air_Temperature_Setpoint', 'Temperature_Setpoint'], ['Peak_Power_Demand_Sensor', 'Power_Sensor'], ['Peak_Power_Demand_Sensor', 'Electrical_Power_Sensor'], ['Peak_Power_Demand_Sensor', 'Demand_Sensor'], ['Differential_Pressure_Sensor', 'Pressure_Sensor'], ['Electrical_Power_Sensor', 'Power_Sensor'], ['Air_Flow_Sensor', 'Flow_Sensor'], ['Room_Air_Temperature_Setpoint', 'Air_Temperature_Setpoint'], ['Room_Air_Temperature_Setpoint', 'Temperature_Setpoint'], ['Air_Flow_Setpoint', 'Flow_Setpoint'], ['Discharge_Air_Temperature_Sensor', 'Air_Temperature_Sensor'], ['Discharge_Air_Temperature_Sensor', 'Temperature_Sensor'], ['Min_Air_Temperature_Setpoint', 'Air_Temperature_Setpoint'], ['Min_Air_Temperature_Setpoint', 'Temperature_Setpoint'], ['Discharge_Air_Temperature_Setpoint', 'Air_Temperature_Setpoint'], ['Discharge_Air_Temperature_Setpoint', 'Temperature_Setpoint'], ['Warmest_Zone_Air_Temperature_Sensor', 'Zone_Air_Temperature_Sensor'], ['Warmest_Zone_Air_Temperature_Sensor', 'Air_Temperature_Sensor'], ['Warmest_Zone_Air_Temperature_Sensor', 'Temperature_Sensor'], ['Chilled_Water_Supply_Flow_Sensor', 'Water_Flow_Sensor'], ['Chilled_Water_Supply_Flow_Sensor', 'Flow_Sensor'], ['Supply_Air_Static_Pressure_Setpoint', 'Static_Pressure_Setpoint'], ['Chilled_Water_Return_Temperature_Sensor', 'Water_Temperature_Sensor'], ['Chilled_Water_Return_Temperature_Sensor', 'Return_Water_Temperature_Sensor'], ['Chilled_Water_Return_Temperature_Sensor', 'Temperature_Sensor'], ['Cooling_Temperature_Setpoint', 'Temperature_Setpoint'], ['Hot_Water_Flow_Sensor', 'Water_Flow_Sensor'], ['Hot_Water_Flow_Sensor', 'Flow_Sensor'], ['Water_Temperature_Sensor', 'Temperature_Sensor'], ['Damper_Position_Sensor', 'Position_Sensor'], ['Zone_Air_Humidity_Setpoint', 'Humidity_Setpoint'], ['Return_Air_Temperature_Sensor', 'Air_Temperature_Sensor'], ['Return_Air_Temperature_Sensor', 'Temperature_Sensor'], ['Supply_Air_Temperature_Setpoint', 'Air_Temperature_Setpoint'], ['Supply_Air_Temperature_Setpoint', 'Temperature_Setpoint'], ['Cooling_Demand_Sensor', 'Outside_Air_Temperature_Setpoint'], ['Cooling_Demand_Sensor', 'Time_Setpoint'], ['Cooling_Demand_Sensor', 'Static_Pressure_Setpoint'], ['Cooling_Demand_Sensor', 'Supply_Air_Temperature_Sensor'], ['Cooling_Demand_Sensor', 'Energy_Usage_Sensor'], ['Cooling_Demand_Sensor', 'Position_Sensor'], ['Cooling_Demand_Sensor', 'Low_Outside_Air_Temperature_Enable_Setpoint'], ['Cooling_Demand_Sensor', 'Hot_Water_Return_Temperature_Sensor'], ['Cooling_Demand_Sensor', 'Air_Temperature_Setpoint'], ['Cooling_Demand_Sensor', 'Current_Sensor'], ['Cooling_Demand_Sensor', 'Speed_Setpoint'], ['Cooling_Demand_Sensor', 'Reset_Setpoint'], ['Cooling_Demand_Sensor', 'Peak_Power_Demand_Sensor'], ['Cooling_Demand_Sensor', 'Outside_Air_CO2_Sensor'], ['Cooling_Demand_Sensor', 'Power_Sensor'], ['Cooling_Demand_Sensor', 'Differential_Pressure_Sensor'], ['Cooling_Demand_Sensor', 'Electrical_Power_Sensor'], ['Cooling_Demand_Sensor', 'Air_Flow_Sensor'], ['Cooling_Demand_Sensor', 'Pressure_Sensor'], ['Cooling_Demand_Sensor', 'Room_Air_Temperature_Setpoint'], ['Cooling_Demand_Sensor', 'Rain_Sensor'], ['Cooling_Demand_Sensor', 'Air_Flow_Setpoint'], ['Cooling_Demand_Sensor', 'Discharge_Air_Temperature_Sensor'], ['Cooling_Demand_Sensor', 'Duration_Sensor'], ['Cooling_Demand_Sensor', 'Dew_Point_Setpoint'], ['Cooling_Demand_Sensor', 'Min_Air_Temperature_Setpoint'], ['Cooling_Demand_Sensor', 'Discharge_Air_Temperature_Setpoint'], ['Cooling_Demand_Sensor', 'Temperature_Setpoint'], ['Cooling_Demand_Sensor', 'Warmest_Zone_Air_Temperature_Sensor'], ['Cooling_Demand_Sensor', 'Chilled_Water_Supply_Flow_Sensor'], ['Cooling_Demand_Sensor', 'Supply_Air_Static_Pressure_Setpoint'], ['Cooling_Demand_Sensor', 'Cooling_Demand_Setpoint'], ['Cooling_Demand_Sensor', 'Chilled_Water_Return_Temperature_Sensor'], ['Cooling_Demand_Sensor', 'Cooling_Temperature_Setpoint'], ['Cooling_Demand_Sensor', 'Hot_Water_Flow_Sensor'], ['Cooling_Demand_Sensor', 'Differential_Pressure_Setpoint'], ['Cooling_Demand_Sensor', 'Water_Temperature_Sensor'], ['Cooling_Demand_Sensor', 'Damper_Position_Sensor'], ['Cooling_Demand_Sensor', 'Zone_Air_Humidity_Setpoint'], ['Cooling_Demand_Sensor', 'Zone_Air_Dewpoint_Sensor'], ['Cooling_Demand_Sensor', 'Return_Air_Temperature_Sensor'], ['Cooling_Demand_Sensor', 'Supply_Air_Temperature_Setpoint'], ['Cooling_Demand_Sensor', 'Supply_Air_Humidity_Sensor'], ['Cooling_Demand_Sensor', 'Zone_Air_Temperature_Sensor'], ['Cooling_Demand_Sensor', 'Heating_Supply_Air_Temperature_Deadband_Setpoint'], ['Cooling_Demand_Sensor', 'Max_Air_Temperature_Setpoint'], ['Cooling_Demand_Sensor', 'Thermal_Power_Sensor'], ['Cooling_Demand_Sensor', 'Load_Current_Sensor'], ['Cooling_Demand_Sensor', 'Outside_Air_Lockout_Temperature_Setpoint'], ['Cooling_Demand_Sensor', 'Solar_Radiance_Sensor'], ['Cooling_Demand_Sensor', 'Hot_Water_Supply_Temperature_Sensor'], ['Cooling_Demand_Sensor', 'Filter_Differential_Pressure_Sensor'], ['Cooling_Demand_Sensor', 'Demand_Sensor'], ['Cooling_Demand_Sensor', 'Discharge_Water_Temperature_Sensor'], ['Cooling_Demand_Sensor', 'Angle_Sensor'], ['Cooling_Demand_Sensor', 'Frequency_Sensor'], ['Cooling_Demand_Sensor', 'Cooling_Supply_Air_Temperature_Deadband_Setpoint'], ['Cooling_Demand_Sensor', 'Differential_Supply_Return_Water_Temperature_Sensor'], ['Cooling_Demand_Sensor', 'Outside_Air_Temperature_Sensor'], ['Cooling_Demand_Sensor', 'Water_Flow_Sensor'], ['Cooling_Demand_Sensor', 'Valve_Position_Sensor'], ['Cooling_Demand_Sensor', 'Water_Temperature_Setpoint'], ['Cooling_Demand_Sensor', 'Chilled_Water_Differential_Temperature_Sensor'], ['Cooling_Demand_Sensor', 'Outside_Air_Enthalpy_Sensor'], ['Cooling_Demand_Sensor', 'Zone_Air_Humidity_Sensor'], ['Cooling_Demand_Sensor', 'Usage_Sensor'], ['Cooling_Demand_Sensor', 'Humidity_Setpoint'], ['Cooling_Demand_Sensor', 'Air_Temperature_Sensor'], ['Cooling_Demand_Sensor', 'Flow_Setpoint'], ['Cooling_Demand_Sensor', 'Heating_Demand_Sensor'], ['Cooling_Demand_Sensor', 'Voltage_Sensor'], ['Cooling_Demand_Sensor', 'Chilled_Water_Supply_Temperature_Sensor'], ['Cooling_Demand_Sensor', 'Return_Water_Temperature_Sensor'], ['Cooling_Demand_Sensor', 'Wind_Direction_Sensor'], ['Cooling_Demand_Sensor', 'Active_Power_Sensor'], ['Cooling_Demand_Sensor', 'Average_Zone_Air_Temperature_Sensor'], ['Cooling_Demand_Sensor', 'Heating_Demand_Setpoint'], ['Cooling_Demand_Sensor', 'Supply_Air_Static_Pressure_Sensor'], ['Cooling_Demand_Sensor', 'Reactive_Power_Sensor'], ['Cooling_Demand_Sensor', 'Wind_Speed_Sensor'], ['Cooling_Demand_Sensor', 'Heating_Temperature_Setpoint'], ['Cooling_Demand_Sensor', 'Temperature_Sensor'], ['Cooling_Demand_Sensor', 'Static_Pressure_Sensor'], ['Cooling_Demand_Sensor', 'Damper_Position_Setpoint'], ['Cooling_Demand_Sensor', 'Discharge_Air_Dewpoint_Sensor'], ['Cooling_Demand_Sensor', 'Flow_Sensor'], ['Cooling_Demand_Sensor', 'Outside_Air_Humidity_Sensor'], ['Zone_Air_Temperature_Sensor', 'Air_Temperature_Sensor'], ['Zone_Air_Temperature_Sensor', 'Temperature_Sensor'], ['Heating_Supply_Air_Temperature_Deadband_Setpoint', 'Air_Temperature_Setpoint'], ['Heating_Supply_Air_Temperature_Deadband_Setpoint', 'Temperature_Setpoint'], ['Heating_Supply_Air_Temperature_Deadband_Setpoint', 'Heating_Temperature_Setpoint'], ['Max_Air_Temperature_Setpoint', 'Air_Temperature_Setpoint'], ['Max_Air_Temperature_Setpoint', 'Temperature_Setpoint'], ['Thermal_Power_Sensor', 'Power_Sensor'], ['Load_Current_Sensor', 'Current_Sensor'], ['Outside_Air_Lockout_Temperature_Setpoint', 'Outside_Air_Temperature_Setpoint'], ['Outside_Air_Lockout_Temperature_Setpoint', 'Air_Temperature_Setpoint'], ['Outside_Air_Lockout_Temperature_Setpoint', 'Temperature_Setpoint'], ['Hot_Water_Supply_Temperature_Sensor', 'Water_Temperature_Sensor'], ['Hot_Water_Supply_Temperature_Sensor', 'Temperature_Sensor'], ['Filter_Differential_Pressure_Sensor', 'Differential_Pressure_Sensor'], ['Filter_Differential_Pressure_Sensor', 'Pressure_Sensor'], ['Discharge_Water_Temperature_Sensor', 'Water_Temperature_Sensor'], ['Discharge_Water_Temperature_Sensor', 'Temperature_Sensor'], ['Cooling_Supply_Air_Temperature_Deadband_Setpoint', 'Air_Temperature_Setpoint'], ['Cooling_Supply_Air_Temperature_Deadband_Setpoint', 'Temperature_Setpoint'], ['Cooling_Supply_Air_Temperature_Deadband_Setpoint', 'Cooling_Temperature_Setpoint'], ['Differential_Supply_Return_Water_Temperature_Sensor', 'Water_Temperature_Sensor'], ['Differential_Supply_Return_Water_Temperature_Sensor', 'Return_Water_Temperature_Sensor'], ['Differential_Supply_Return_Water_Temperature_Sensor', 'Temperature_Sensor'], ['Outside_Air_Temperature_Sensor', 'Air_Temperature_Sensor'], ['Outside_Air_Temperature_Sensor', 'Temperature_Sensor'], ['Water_Flow_Sensor', 'Flow_Sensor'], ['Valve_Position_Sensor', 'Position_Sensor'], ['Water_Temperature_Setpoint', 'Temperature_Setpoint'], ['Chilled_Water_Differential_Temperature_Sensor', 'Water_Temperature_Sensor'], ['Chilled_Water_Differential_Temperature_Sensor', 'Temperature_Sensor'], ['Air_Temperature_Sensor', 'Temperature_Sensor'], ['Heating_Demand_Sensor', 'Outside_Air_Temperature_Setpoint'], ['Heating_Demand_Sensor', 'Time_Setpoint'], ['Heating_Demand_Sensor', 'Static_Pressure_Setpoint'], ['Heating_Demand_Sensor', 'Supply_Air_Temperature_Sensor'], ['Heating_Demand_Sensor', 'Energy_Usage_Sensor'], ['Heating_Demand_Sensor', 'Position_Sensor'], ['Heating_Demand_Sensor', 'Low_Outside_Air_Temperature_Enable_Setpoint'], ['Heating_Demand_Sensor', 'Hot_Water_Return_Temperature_Sensor'], ['Heating_Demand_Sensor', 'Air_Temperature_Setpoint'], ['Heating_Demand_Sensor', 'Current_Sensor'], ['Heating_Demand_Sensor', 'Speed_Setpoint'], ['Heating_Demand_Sensor', 'Reset_Setpoint'], ['Heating_Demand_Sensor', 'Peak_Power_Demand_Sensor'], ['Heating_Demand_Sensor', 'Outside_Air_CO2_Sensor'], ['Heating_Demand_Sensor', 'Power_Sensor'], ['Heating_Demand_Sensor', 'Differential_Pressure_Sensor'], ['Heating_Demand_Sensor', 'Electrical_Power_Sensor'], ['Heating_Demand_Sensor', 'Air_Flow_Sensor'], ['Heating_Demand_Sensor', 'Pressure_Sensor'], ['Heating_Demand_Sensor', 'Room_Air_Temperature_Setpoint'], ['Heating_Demand_Sensor', 'Rain_Sensor'], ['Heating_Demand_Sensor', 'Air_Flow_Setpoint'], ['Heating_Demand_Sensor', 'Discharge_Air_Temperature_Sensor'], ['Heating_Demand_Sensor', 'Duration_Sensor'], ['Heating_Demand_Sensor', 'Dew_Point_Setpoint'], ['Heating_Demand_Sensor', 'Min_Air_Temperature_Setpoint'], ['Heating_Demand_Sensor', 'Discharge_Air_Temperature_Setpoint'], ['Heating_Demand_Sensor', 'Temperature_Setpoint'], ['Heating_Demand_Sensor', 'Warmest_Zone_Air_Temperature_Sensor'], ['Heating_Demand_Sensor', 'Chilled_Water_Supply_Flow_Sensor'], ['Heating_Demand_Sensor', 'Supply_Air_Static_Pressure_Setpoint'], ['Heating_Demand_Sensor', 'Cooling_Demand_Setpoint'], ['Heating_Demand_Sensor', 'Chilled_Water_Return_Temperature_Sensor'], ['Heating_Demand_Sensor', 'Cooling_Temperature_Setpoint'], ['Heating_Demand_Sensor', 'Hot_Water_Flow_Sensor'], ['Heating_Demand_Sensor', 'Differential_Pressure_Setpoint'], ['Heating_Demand_Sensor', 'Water_Temperature_Sensor'], ['Heating_Demand_Sensor', 'Damper_Position_Sensor'], ['Heating_Demand_Sensor', 'Zone_Air_Humidity_Setpoint'], ['Heating_Demand_Sensor', 'Zone_Air_Dewpoint_Sensor'], ['Heating_Demand_Sensor', 'Return_Air_Temperature_Sensor'], ['Heating_Demand_Sensor', 'Supply_Air_Temperature_Setpoint'], ['Heating_Demand_Sensor', 'Cooling_Demand_Sensor'], ['Heating_Demand_Sensor', 'Supply_Air_Humidity_Sensor'], ['Heating_Demand_Sensor', 'Zone_Air_Temperature_Sensor'], ['Heating_Demand_Sensor', 'Heating_Supply_Air_Temperature_Deadband_Setpoint'], ['Heating_Demand_Sensor', 'Max_Air_Temperature_Setpoint'], ['Heating_Demand_Sensor', 'Thermal_Power_Sensor'], ['Heating_Demand_Sensor', 'Load_Current_Sensor'], ['Heating_Demand_Sensor', 'Outside_Air_Lockout_Temperature_Setpoint'], ['Heating_Demand_Sensor', 'Solar_Radiance_Sensor'], ['Heating_Demand_Sensor', 'Hot_Water_Supply_Temperature_Sensor'], ['Heating_Demand_Sensor', 'Filter_Differential_Pressure_Sensor'], ['Heating_Demand_Sensor', 'Demand_Sensor'], ['Heating_Demand_Sensor', 'Discharge_Water_Temperature_Sensor'], ['Heating_Demand_Sensor', 'Angle_Sensor'], ['Heating_Demand_Sensor', 'Frequency_Sensor'], ['Heating_Demand_Sensor', 'Cooling_Supply_Air_Temperature_Deadband_Setpoint'], ['Heating_Demand_Sensor', 'Differential_Supply_Return_Water_Temperature_Sensor'], ['Heating_Demand_Sensor', 'Outside_Air_Temperature_Sensor'], ['Heating_Demand_Sensor', 'Water_Flow_Sensor'], ['Heating_Demand_Sensor', 'Valve_Position_Sensor'], ['Heating_Demand_Sensor', 'Water_Temperature_Setpoint'], ['Heating_Demand_Sensor', 'Chilled_Water_Differential_Temperature_Sensor'], ['Heating_Demand_Sensor', 'Outside_Air_Enthalpy_Sensor'], ['Heating_Demand_Sensor', 'Zone_Air_Humidity_Sensor'], ['Heating_Demand_Sensor', 'Usage_Sensor'], ['Heating_Demand_Sensor', 'Humidity_Setpoint'], ['Heating_Demand_Sensor', 'Air_Temperature_Sensor'], ['Heating_Demand_Sensor', 'Flow_Setpoint'], ['Heating_Demand_Sensor', 'Voltage_Sensor'], ['Heating_Demand_Sensor', 'Chilled_Water_Supply_Temperature_Sensor'], ['Heating_Demand_Sensor', 'Return_Water_Temperature_Sensor'], ['Heating_Demand_Sensor', 'Wind_Direction_Sensor'], ['Heating_Demand_Sensor', 'Active_Power_Sensor'], ['Heating_Demand_Sensor', 'Average_Zone_Air_Temperature_Sensor'], ['Heating_Demand_Sensor', 'Heating_Demand_Setpoint'], ['Heating_Demand_Sensor', 'Supply_Air_Static_Pressure_Sensor'], ['Heating_Demand_Sensor', 'Reactive_Power_Sensor'], ['Heating_Demand_Sensor', 'Wind_Speed_Sensor'], ['Heating_Demand_Sensor', 'Heating_Temperature_Setpoint'], ['Heating_Demand_Sensor', 'Temperature_Sensor'], ['Heating_Demand_Sensor', 'Static_Pressure_Sensor'], ['Heating_Demand_Sensor', 'Damper_Position_Setpoint'], ['Heating_Demand_Sensor', 'Discharge_Air_Dewpoint_Sensor'], ['Heating_Demand_Sensor', 'Flow_Sensor'], ['Heating_Demand_Sensor', 'Outside_Air_Humidity_Sensor'], ['Chilled_Water_Supply_Temperature_Sensor', 'Water_Temperature_Sensor'], ['Chilled_Water_Supply_Temperature_Sensor', 'Temperature_Sensor'], ['Return_Water_Temperature_Sensor', 'Water_Temperature_Sensor'], ['Return_Water_Temperature_Sensor', 'Temperature_Sensor'], ['Active_Power_Sensor', 'Power_Sensor'], ['Active_Power_Sensor', 'Electrical_Power_Sensor'], ['Average_Zone_Air_Temperature_Sensor', 'Zone_Air_Temperature_Sensor'], ['Average_Zone_Air_Temperature_Sensor', 'Air_Temperature_Sensor'], ['Average_Zone_Air_Temperature_Sensor', 'Temperature_Sensor'], ['Supply_Air_Static_Pressure_Sensor', 'Pressure_Sensor'], ['Supply_Air_Static_Pressure_Sensor', 'Static_Pressure_Sensor'], ['Reactive_Power_Sensor', 'Power_Sensor'], ['Reactive_Power_Sensor', 'Electrical_Power_Sensor'], ['Heating_Temperature_Setpoint', 'Temperature_Setpoint'], ['Static_Pressure_Sensor', 'Pressure_Sensor']]\n",
      "{'Thermal_Power_Sensor', 'Outside_Air_Temperature_Setpoint', 'Min_Air_Temperature_Setpoint', 'Discharge_Air_Temperature_Setpoint', 'Supply_Air_Temperature_Sensor', 'Warmest_Zone_Air_Temperature_Sensor', 'Energy_Usage_Sensor', 'Air_Temperature_Sensor', 'Chilled_Water_Supply_Flow_Sensor', 'Supply_Air_Static_Pressure_Setpoint', 'Chilled_Water_Return_Temperature_Sensor', 'Load_Current_Sensor', 'Cooling_Temperature_Setpoint', 'Low_Outside_Air_Temperature_Enable_Setpoint', 'Outside_Air_Lockout_Temperature_Setpoint', 'Hot_Water_Supply_Temperature_Sensor', 'Hot_Water_Return_Temperature_Sensor', 'Filter_Differential_Pressure_Sensor', 'Heating_Demand_Sensor', 'Discharge_Water_Temperature_Sensor', 'Air_Temperature_Setpoint', 'Max_Air_Temperature_Setpoint', 'Hot_Water_Flow_Sensor', 'Chilled_Water_Supply_Temperature_Sensor', 'Cooling_Supply_Air_Temperature_Deadband_Setpoint', 'Differential_Supply_Return_Water_Temperature_Sensor', 'Water_Temperature_Sensor', 'Damper_Position_Sensor', 'Outside_Air_Temperature_Sensor', 'Zone_Air_Humidity_Setpoint', 'Water_Flow_Sensor', 'Valve_Position_Sensor', 'Return_Water_Temperature_Sensor', 'Active_Power_Sensor', 'Peak_Power_Demand_Sensor', 'Return_Air_Temperature_Sensor', 'Average_Zone_Air_Temperature_Sensor', 'Supply_Air_Static_Pressure_Sensor', 'Reactive_Power_Sensor', 'Supply_Air_Temperature_Setpoint', 'Differential_Pressure_Sensor', 'Cooling_Demand_Sensor', 'Water_Temperature_Setpoint', 'Chilled_Water_Differential_Temperature_Sensor', 'Heating_Temperature_Setpoint', 'Electrical_Power_Sensor', 'Air_Flow_Sensor', 'Room_Air_Temperature_Setpoint', 'Static_Pressure_Sensor', 'Zone_Air_Temperature_Sensor', 'Air_Flow_Setpoint', 'Heating_Supply_Air_Temperature_Deadband_Setpoint', 'Discharge_Air_Temperature_Sensor'}\n",
      "\n"
     ]
    },
    {
     "name": "stderr",
     "output_type": "stream",
     "text": [
      "100%|██████████| 53/53 [00:03<00:00, 14.49it/s]\n"
     ]
    },
    {
     "name": "stdout",
     "output_type": "stream",
     "text": [
      "Level 2\n",
      "[['Outside_Air_Temperature_Setpoint', 'Air_Temperature_Setpoint'], ['Min_Air_Temperature_Setpoint', 'Air_Temperature_Setpoint'], ['Discharge_Air_Temperature_Setpoint', 'Air_Temperature_Setpoint'], ['Supply_Air_Temperature_Sensor', 'Air_Temperature_Sensor'], ['Warmest_Zone_Air_Temperature_Sensor', 'Air_Temperature_Sensor'], ['Warmest_Zone_Air_Temperature_Sensor', 'Zone_Air_Temperature_Sensor'], ['Chilled_Water_Supply_Flow_Sensor', 'Water_Flow_Sensor'], ['Chilled_Water_Return_Temperature_Sensor', 'Water_Temperature_Sensor'], ['Chilled_Water_Return_Temperature_Sensor', 'Return_Water_Temperature_Sensor'], ['Low_Outside_Air_Temperature_Enable_Setpoint', 'Outside_Air_Temperature_Setpoint'], ['Low_Outside_Air_Temperature_Enable_Setpoint', 'Air_Temperature_Setpoint'], ['Outside_Air_Lockout_Temperature_Setpoint', 'Outside_Air_Temperature_Setpoint'], ['Outside_Air_Lockout_Temperature_Setpoint', 'Air_Temperature_Setpoint'], ['Hot_Water_Supply_Temperature_Sensor', 'Water_Temperature_Sensor'], ['Hot_Water_Return_Temperature_Sensor', 'Water_Temperature_Sensor'], ['Hot_Water_Return_Temperature_Sensor', 'Return_Water_Temperature_Sensor'], ['Filter_Differential_Pressure_Sensor', 'Differential_Pressure_Sensor'], ['Heating_Demand_Sensor', 'Thermal_Power_Sensor'], ['Heating_Demand_Sensor', 'Outside_Air_Temperature_Setpoint'], ['Heating_Demand_Sensor', 'Min_Air_Temperature_Setpoint'], ['Heating_Demand_Sensor', 'Discharge_Air_Temperature_Setpoint'], ['Heating_Demand_Sensor', 'Supply_Air_Temperature_Sensor'], ['Heating_Demand_Sensor', 'Warmest_Zone_Air_Temperature_Sensor'], ['Heating_Demand_Sensor', 'Energy_Usage_Sensor'], ['Heating_Demand_Sensor', 'Air_Temperature_Sensor'], ['Heating_Demand_Sensor', 'Chilled_Water_Supply_Flow_Sensor'], ['Heating_Demand_Sensor', 'Supply_Air_Static_Pressure_Setpoint'], ['Heating_Demand_Sensor', 'Chilled_Water_Return_Temperature_Sensor'], ['Heating_Demand_Sensor', 'Load_Current_Sensor'], ['Heating_Demand_Sensor', 'Cooling_Temperature_Setpoint'], ['Heating_Demand_Sensor', 'Low_Outside_Air_Temperature_Enable_Setpoint'], ['Heating_Demand_Sensor', 'Outside_Air_Lockout_Temperature_Setpoint'], ['Heating_Demand_Sensor', 'Hot_Water_Supply_Temperature_Sensor'], ['Heating_Demand_Sensor', 'Hot_Water_Return_Temperature_Sensor'], ['Heating_Demand_Sensor', 'Filter_Differential_Pressure_Sensor'], ['Heating_Demand_Sensor', 'Discharge_Water_Temperature_Sensor'], ['Heating_Demand_Sensor', 'Air_Temperature_Setpoint'], ['Heating_Demand_Sensor', 'Max_Air_Temperature_Setpoint'], ['Heating_Demand_Sensor', 'Hot_Water_Flow_Sensor'], ['Heating_Demand_Sensor', 'Chilled_Water_Supply_Temperature_Sensor'], ['Heating_Demand_Sensor', 'Cooling_Supply_Air_Temperature_Deadband_Setpoint'], ['Heating_Demand_Sensor', 'Differential_Supply_Return_Water_Temperature_Sensor'], ['Heating_Demand_Sensor', 'Water_Temperature_Sensor'], ['Heating_Demand_Sensor', 'Damper_Position_Sensor'], ['Heating_Demand_Sensor', 'Outside_Air_Temperature_Sensor'], ['Heating_Demand_Sensor', 'Zone_Air_Humidity_Setpoint'], ['Heating_Demand_Sensor', 'Water_Flow_Sensor'], ['Heating_Demand_Sensor', 'Valve_Position_Sensor'], ['Heating_Demand_Sensor', 'Return_Water_Temperature_Sensor'], ['Heating_Demand_Sensor', 'Active_Power_Sensor'], ['Heating_Demand_Sensor', 'Peak_Power_Demand_Sensor'], ['Heating_Demand_Sensor', 'Return_Air_Temperature_Sensor'], ['Heating_Demand_Sensor', 'Average_Zone_Air_Temperature_Sensor'], ['Heating_Demand_Sensor', 'Supply_Air_Static_Pressure_Sensor'], ['Heating_Demand_Sensor', 'Reactive_Power_Sensor'], ['Heating_Demand_Sensor', 'Supply_Air_Temperature_Setpoint'], ['Heating_Demand_Sensor', 'Differential_Pressure_Sensor'], ['Heating_Demand_Sensor', 'Cooling_Demand_Sensor'], ['Heating_Demand_Sensor', 'Water_Temperature_Setpoint'], ['Heating_Demand_Sensor', 'Chilled_Water_Differential_Temperature_Sensor'], ['Heating_Demand_Sensor', 'Heating_Temperature_Setpoint'], ['Heating_Demand_Sensor', 'Electrical_Power_Sensor'], ['Heating_Demand_Sensor', 'Air_Flow_Sensor'], ['Heating_Demand_Sensor', 'Room_Air_Temperature_Setpoint'], ['Heating_Demand_Sensor', 'Static_Pressure_Sensor'], ['Heating_Demand_Sensor', 'Zone_Air_Temperature_Sensor'], ['Heating_Demand_Sensor', 'Air_Flow_Setpoint'], ['Heating_Demand_Sensor', 'Heating_Supply_Air_Temperature_Deadband_Setpoint'], ['Heating_Demand_Sensor', 'Discharge_Air_Temperature_Sensor'], ['Discharge_Water_Temperature_Sensor', 'Water_Temperature_Sensor'], ['Max_Air_Temperature_Setpoint', 'Air_Temperature_Setpoint'], ['Hot_Water_Flow_Sensor', 'Water_Flow_Sensor'], ['Chilled_Water_Supply_Temperature_Sensor', 'Water_Temperature_Sensor'], ['Cooling_Supply_Air_Temperature_Deadband_Setpoint', 'Cooling_Temperature_Setpoint'], ['Cooling_Supply_Air_Temperature_Deadband_Setpoint', 'Air_Temperature_Setpoint'], ['Differential_Supply_Return_Water_Temperature_Sensor', 'Water_Temperature_Sensor'], ['Differential_Supply_Return_Water_Temperature_Sensor', 'Return_Water_Temperature_Sensor'], ['Outside_Air_Temperature_Sensor', 'Air_Temperature_Sensor'], ['Return_Water_Temperature_Sensor', 'Water_Temperature_Sensor'], ['Active_Power_Sensor', 'Electrical_Power_Sensor'], ['Peak_Power_Demand_Sensor', 'Electrical_Power_Sensor'], ['Return_Air_Temperature_Sensor', 'Air_Temperature_Sensor'], ['Average_Zone_Air_Temperature_Sensor', 'Air_Temperature_Sensor'], ['Average_Zone_Air_Temperature_Sensor', 'Zone_Air_Temperature_Sensor'], ['Supply_Air_Static_Pressure_Sensor', 'Static_Pressure_Sensor'], ['Reactive_Power_Sensor', 'Electrical_Power_Sensor'], ['Supply_Air_Temperature_Setpoint', 'Air_Temperature_Setpoint'], ['Cooling_Demand_Sensor', 'Thermal_Power_Sensor'], ['Cooling_Demand_Sensor', 'Outside_Air_Temperature_Setpoint'], ['Cooling_Demand_Sensor', 'Min_Air_Temperature_Setpoint'], ['Cooling_Demand_Sensor', 'Discharge_Air_Temperature_Setpoint'], ['Cooling_Demand_Sensor', 'Supply_Air_Temperature_Sensor'], ['Cooling_Demand_Sensor', 'Warmest_Zone_Air_Temperature_Sensor'], ['Cooling_Demand_Sensor', 'Energy_Usage_Sensor'], ['Cooling_Demand_Sensor', 'Air_Temperature_Sensor'], ['Cooling_Demand_Sensor', 'Chilled_Water_Supply_Flow_Sensor'], ['Cooling_Demand_Sensor', 'Supply_Air_Static_Pressure_Setpoint'], ['Cooling_Demand_Sensor', 'Chilled_Water_Return_Temperature_Sensor'], ['Cooling_Demand_Sensor', 'Load_Current_Sensor'], ['Cooling_Demand_Sensor', 'Cooling_Temperature_Setpoint'], ['Cooling_Demand_Sensor', 'Low_Outside_Air_Temperature_Enable_Setpoint'], ['Cooling_Demand_Sensor', 'Outside_Air_Lockout_Temperature_Setpoint'], ['Cooling_Demand_Sensor', 'Hot_Water_Supply_Temperature_Sensor'], ['Cooling_Demand_Sensor', 'Hot_Water_Return_Temperature_Sensor'], ['Cooling_Demand_Sensor', 'Filter_Differential_Pressure_Sensor'], ['Cooling_Demand_Sensor', 'Heating_Demand_Sensor'], ['Cooling_Demand_Sensor', 'Discharge_Water_Temperature_Sensor'], ['Cooling_Demand_Sensor', 'Air_Temperature_Setpoint'], ['Cooling_Demand_Sensor', 'Max_Air_Temperature_Setpoint'], ['Cooling_Demand_Sensor', 'Hot_Water_Flow_Sensor'], ['Cooling_Demand_Sensor', 'Chilled_Water_Supply_Temperature_Sensor'], ['Cooling_Demand_Sensor', 'Cooling_Supply_Air_Temperature_Deadband_Setpoint'], ['Cooling_Demand_Sensor', 'Differential_Supply_Return_Water_Temperature_Sensor'], ['Cooling_Demand_Sensor', 'Water_Temperature_Sensor'], ['Cooling_Demand_Sensor', 'Damper_Position_Sensor'], ['Cooling_Demand_Sensor', 'Outside_Air_Temperature_Sensor'], ['Cooling_Demand_Sensor', 'Zone_Air_Humidity_Setpoint'], ['Cooling_Demand_Sensor', 'Water_Flow_Sensor'], ['Cooling_Demand_Sensor', 'Valve_Position_Sensor'], ['Cooling_Demand_Sensor', 'Return_Water_Temperature_Sensor'], ['Cooling_Demand_Sensor', 'Active_Power_Sensor'], ['Cooling_Demand_Sensor', 'Peak_Power_Demand_Sensor'], ['Cooling_Demand_Sensor', 'Return_Air_Temperature_Sensor'], ['Cooling_Demand_Sensor', 'Average_Zone_Air_Temperature_Sensor'], ['Cooling_Demand_Sensor', 'Supply_Air_Static_Pressure_Sensor'], ['Cooling_Demand_Sensor', 'Reactive_Power_Sensor'], ['Cooling_Demand_Sensor', 'Supply_Air_Temperature_Setpoint'], ['Cooling_Demand_Sensor', 'Differential_Pressure_Sensor'], ['Cooling_Demand_Sensor', 'Water_Temperature_Setpoint'], ['Cooling_Demand_Sensor', 'Chilled_Water_Differential_Temperature_Sensor'], ['Cooling_Demand_Sensor', 'Heating_Temperature_Setpoint'], ['Cooling_Demand_Sensor', 'Electrical_Power_Sensor'], ['Cooling_Demand_Sensor', 'Air_Flow_Sensor'], ['Cooling_Demand_Sensor', 'Room_Air_Temperature_Setpoint'], ['Cooling_Demand_Sensor', 'Static_Pressure_Sensor'], ['Cooling_Demand_Sensor', 'Zone_Air_Temperature_Sensor'], ['Cooling_Demand_Sensor', 'Air_Flow_Setpoint'], ['Cooling_Demand_Sensor', 'Heating_Supply_Air_Temperature_Deadband_Setpoint'], ['Cooling_Demand_Sensor', 'Discharge_Air_Temperature_Sensor'], ['Chilled_Water_Differential_Temperature_Sensor', 'Water_Temperature_Sensor'], ['Room_Air_Temperature_Setpoint', 'Air_Temperature_Setpoint'], ['Zone_Air_Temperature_Sensor', 'Air_Temperature_Sensor'], ['Heating_Supply_Air_Temperature_Deadband_Setpoint', 'Air_Temperature_Setpoint'], ['Heating_Supply_Air_Temperature_Deadband_Setpoint', 'Heating_Temperature_Setpoint'], ['Discharge_Air_Temperature_Sensor', 'Air_Temperature_Sensor']]\n",
      "{'Outside_Air_Temperature_Setpoint', 'Min_Air_Temperature_Setpoint', 'Discharge_Air_Temperature_Setpoint', 'Supply_Air_Temperature_Sensor', 'Warmest_Zone_Air_Temperature_Sensor', 'Chilled_Water_Supply_Flow_Sensor', 'Discharge_Air_Temperature_Sensor', 'Chilled_Water_Return_Temperature_Sensor', 'Heating_Demand_Sensor', 'Outside_Air_Lockout_Temperature_Setpoint', 'Low_Outside_Air_Temperature_Enable_Setpoint', 'Hot_Water_Supply_Temperature_Sensor', 'Hot_Water_Return_Temperature_Sensor', 'Filter_Differential_Pressure_Sensor', 'Discharge_Water_Temperature_Sensor', 'Hot_Water_Flow_Sensor', 'Chilled_Water_Supply_Temperature_Sensor', 'Cooling_Supply_Air_Temperature_Deadband_Setpoint', 'Differential_Supply_Return_Water_Temperature_Sensor', 'Outside_Air_Temperature_Sensor', 'Return_Water_Temperature_Sensor', 'Active_Power_Sensor', 'Peak_Power_Demand_Sensor', 'Return_Air_Temperature_Sensor', 'Average_Zone_Air_Temperature_Sensor', 'Supply_Air_Static_Pressure_Sensor', 'Reactive_Power_Sensor', 'Supply_Air_Temperature_Setpoint', 'Cooling_Demand_Sensor', 'Chilled_Water_Differential_Temperature_Sensor', 'Room_Air_Temperature_Setpoint', 'Zone_Air_Temperature_Sensor', 'Heating_Supply_Air_Temperature_Deadband_Setpoint', 'Max_Air_Temperature_Setpoint'}\n",
      "\n"
     ]
    },
    {
     "name": "stderr",
     "output_type": "stream",
     "text": [
      "100%|██████████| 34/34 [00:01<00:00, 22.67it/s]"
     ]
    },
    {
     "name": "stdout",
     "output_type": "stream",
     "text": [
      "Level 3\n",
      "[['Warmest_Zone_Air_Temperature_Sensor', 'Zone_Air_Temperature_Sensor'], ['Chilled_Water_Return_Temperature_Sensor', 'Return_Water_Temperature_Sensor'], ['Heating_Demand_Sensor', 'Outside_Air_Temperature_Setpoint'], ['Heating_Demand_Sensor', 'Min_Air_Temperature_Setpoint'], ['Heating_Demand_Sensor', 'Discharge_Air_Temperature_Setpoint'], ['Heating_Demand_Sensor', 'Supply_Air_Temperature_Sensor'], ['Heating_Demand_Sensor', 'Warmest_Zone_Air_Temperature_Sensor'], ['Heating_Demand_Sensor', 'Chilled_Water_Supply_Flow_Sensor'], ['Heating_Demand_Sensor', 'Discharge_Air_Temperature_Sensor'], ['Heating_Demand_Sensor', 'Chilled_Water_Return_Temperature_Sensor'], ['Heating_Demand_Sensor', 'Outside_Air_Lockout_Temperature_Setpoint'], ['Heating_Demand_Sensor', 'Low_Outside_Air_Temperature_Enable_Setpoint'], ['Heating_Demand_Sensor', 'Hot_Water_Supply_Temperature_Sensor'], ['Heating_Demand_Sensor', 'Hot_Water_Return_Temperature_Sensor'], ['Heating_Demand_Sensor', 'Filter_Differential_Pressure_Sensor'], ['Heating_Demand_Sensor', 'Discharge_Water_Temperature_Sensor'], ['Heating_Demand_Sensor', 'Hot_Water_Flow_Sensor'], ['Heating_Demand_Sensor', 'Chilled_Water_Supply_Temperature_Sensor'], ['Heating_Demand_Sensor', 'Cooling_Supply_Air_Temperature_Deadband_Setpoint'], ['Heating_Demand_Sensor', 'Differential_Supply_Return_Water_Temperature_Sensor'], ['Heating_Demand_Sensor', 'Outside_Air_Temperature_Sensor'], ['Heating_Demand_Sensor', 'Return_Water_Temperature_Sensor'], ['Heating_Demand_Sensor', 'Active_Power_Sensor'], ['Heating_Demand_Sensor', 'Peak_Power_Demand_Sensor'], ['Heating_Demand_Sensor', 'Return_Air_Temperature_Sensor'], ['Heating_Demand_Sensor', 'Average_Zone_Air_Temperature_Sensor'], ['Heating_Demand_Sensor', 'Supply_Air_Static_Pressure_Sensor'], ['Heating_Demand_Sensor', 'Reactive_Power_Sensor'], ['Heating_Demand_Sensor', 'Supply_Air_Temperature_Setpoint'], ['Heating_Demand_Sensor', 'Cooling_Demand_Sensor'], ['Heating_Demand_Sensor', 'Chilled_Water_Differential_Temperature_Sensor'], ['Heating_Demand_Sensor', 'Room_Air_Temperature_Setpoint'], ['Heating_Demand_Sensor', 'Zone_Air_Temperature_Sensor'], ['Heating_Demand_Sensor', 'Heating_Supply_Air_Temperature_Deadband_Setpoint'], ['Heating_Demand_Sensor', 'Max_Air_Temperature_Setpoint'], ['Outside_Air_Lockout_Temperature_Setpoint', 'Outside_Air_Temperature_Setpoint'], ['Low_Outside_Air_Temperature_Enable_Setpoint', 'Outside_Air_Temperature_Setpoint'], ['Hot_Water_Return_Temperature_Sensor', 'Return_Water_Temperature_Sensor'], ['Differential_Supply_Return_Water_Temperature_Sensor', 'Return_Water_Temperature_Sensor'], ['Average_Zone_Air_Temperature_Sensor', 'Zone_Air_Temperature_Sensor'], ['Cooling_Demand_Sensor', 'Outside_Air_Temperature_Setpoint'], ['Cooling_Demand_Sensor', 'Min_Air_Temperature_Setpoint'], ['Cooling_Demand_Sensor', 'Discharge_Air_Temperature_Setpoint'], ['Cooling_Demand_Sensor', 'Supply_Air_Temperature_Sensor'], ['Cooling_Demand_Sensor', 'Warmest_Zone_Air_Temperature_Sensor'], ['Cooling_Demand_Sensor', 'Chilled_Water_Supply_Flow_Sensor'], ['Cooling_Demand_Sensor', 'Discharge_Air_Temperature_Sensor'], ['Cooling_Demand_Sensor', 'Chilled_Water_Return_Temperature_Sensor'], ['Cooling_Demand_Sensor', 'Heating_Demand_Sensor'], ['Cooling_Demand_Sensor', 'Outside_Air_Lockout_Temperature_Setpoint'], ['Cooling_Demand_Sensor', 'Low_Outside_Air_Temperature_Enable_Setpoint'], ['Cooling_Demand_Sensor', 'Hot_Water_Supply_Temperature_Sensor'], ['Cooling_Demand_Sensor', 'Hot_Water_Return_Temperature_Sensor'], ['Cooling_Demand_Sensor', 'Filter_Differential_Pressure_Sensor'], ['Cooling_Demand_Sensor', 'Discharge_Water_Temperature_Sensor'], ['Cooling_Demand_Sensor', 'Hot_Water_Flow_Sensor'], ['Cooling_Demand_Sensor', 'Chilled_Water_Supply_Temperature_Sensor'], ['Cooling_Demand_Sensor', 'Cooling_Supply_Air_Temperature_Deadband_Setpoint'], ['Cooling_Demand_Sensor', 'Differential_Supply_Return_Water_Temperature_Sensor'], ['Cooling_Demand_Sensor', 'Outside_Air_Temperature_Sensor'], ['Cooling_Demand_Sensor', 'Return_Water_Temperature_Sensor'], ['Cooling_Demand_Sensor', 'Active_Power_Sensor'], ['Cooling_Demand_Sensor', 'Peak_Power_Demand_Sensor'], ['Cooling_Demand_Sensor', 'Return_Air_Temperature_Sensor'], ['Cooling_Demand_Sensor', 'Average_Zone_Air_Temperature_Sensor'], ['Cooling_Demand_Sensor', 'Supply_Air_Static_Pressure_Sensor'], ['Cooling_Demand_Sensor', 'Reactive_Power_Sensor'], ['Cooling_Demand_Sensor', 'Supply_Air_Temperature_Setpoint'], ['Cooling_Demand_Sensor', 'Chilled_Water_Differential_Temperature_Sensor'], ['Cooling_Demand_Sensor', 'Room_Air_Temperature_Setpoint'], ['Cooling_Demand_Sensor', 'Zone_Air_Temperature_Sensor'], ['Cooling_Demand_Sensor', 'Heating_Supply_Air_Temperature_Deadband_Setpoint'], ['Cooling_Demand_Sensor', 'Max_Air_Temperature_Setpoint']]\n",
      "{'Hot_Water_Return_Temperature_Sensor', 'Differential_Supply_Return_Water_Temperature_Sensor', 'Warmest_Zone_Air_Temperature_Sensor', 'Heating_Demand_Sensor', 'Average_Zone_Air_Temperature_Sensor', 'Chilled_Water_Return_Temperature_Sensor', 'Outside_Air_Lockout_Temperature_Setpoint', 'Low_Outside_Air_Temperature_Enable_Setpoint', 'Cooling_Demand_Sensor'}\n",
      "\n"
     ]
    },
    {
     "name": "stderr",
     "output_type": "stream",
     "text": [
      "\n"
     ]
    }
   ],
   "source": [
    "level_labels = [list(train_y.columns[1:]), [], [], [], []]\n",
    "\n",
    "for k in range(0, 4):\n",
    "    check_labels = level_labels[k]\n",
    "    label_len = len(check_labels)\n",
    "    idx_is_subset_of_col = pd.DataFrame(0, index=check_labels, columns=check_labels)\n",
    "    is_subset = []\n",
    "\n",
    "    for i in tqdm(range(label_len)):\n",
    "        for j in range(label_len):\n",
    "            src_lb, tgt_lb = check_labels[i], check_labels[j]\n",
    "            src = train_y[train_y[src_lb] == 1]\n",
    "            tgt = train_y[(train_y[src_lb] == 1) & (train_y[tgt_lb] == 1)]\n",
    "\n",
    "            idx_is_subset_of_col.loc[src_lb, tgt_lb] = len(src) <= len(tgt)\n",
    "            if len(src) <= len(tgt) and src_lb != tgt_lb:\n",
    "                is_subset.append([src_lb, tgt_lb])\n",
    "\n",
    "    remove_label = set([s[0] for s in is_subset])\n",
    "    \n",
    "    for rl in remove_label:\n",
    "        level_labels[k].remove(rl)\n",
    "        level_labels[k+1].append(rl)"
   ]
  },
  {
   "cell_type": "code",
   "execution_count": 40,
   "metadata": {},
   "outputs": [],
   "source": [
    "tiers = {\n",
    "    1: level_labels[0],\n",
    "    2: level_labels[1],\n",
    "    3: level_labels[2],\n",
    "    4: level_labels[3],\n",
    "    5: level_labels[4]\n",
    "}\n",
    "\n",
    "def get_tier(label):\n",
    "    for tier_num, tier_list in tiers.items():\n",
    "        if label in tier_list:\n",
    "            return tier_num\n",
    "    return None  # Handle cases where the label isn't found in any tier\n",
    "\n",
    "def sort_labels(labels):\n",
    "    return sorted(labels, key=lambda label: (get_tier(label) or float('inf'), label))\n"
   ]
  },
  {
   "cell_type": "code",
   "execution_count": 41,
   "metadata": {},
   "outputs": [],
   "source": [
    "sorted_labelhir = [sort_labels(labels) for labels in labelhir]"
   ]
  },
  {
   "cell_type": "code",
   "execution_count": 42,
   "metadata": {},
   "outputs": [],
   "source": [
    "label_hier = np.array(\n",
    "    sorted_labelhir,\n",
    "    dtype=object,\n",
    ")"
   ]
  },
  {
   "cell_type": "code",
   "execution_count": 43,
   "metadata": {},
   "outputs": [],
   "source": [
    "padded_label = pd.Series(label_hier).apply(lambda x: x + ['None'] * (5 - len(x)) if len(x) < 5 else x)"
   ]
  },
  {
   "cell_type": "code",
   "execution_count": 44,
   "metadata": {},
   "outputs": [
    {
     "name": "stdout",
     "output_type": "stream",
     "text": [
      "Level 1: 0 None values out of 31839 total (0.00%)\n",
      "Level 2: 12321 None values out of 31839 total (38.70%)\n",
      "Level 3: 20247 None values out of 31839 total (63.59%)\n",
      "Level 4: 27216 None values out of 31839 total (85.48%)\n",
      "Level 5: 30936 None values out of 31839 total (97.16%)\n"
     ]
    }
   ],
   "source": [
    "# Count Nones at each level\n",
    "for i in range(5):\n",
    "    none_count = sum(padded_label.apply(lambda x: x[i] == 'None'))\n",
    "    print(f\"Level {i+1}: {none_count} None values out of {len(padded_label)} total ({none_count/len(padded_label):.2%})\")"
   ]
  },
  {
   "cell_type": "markdown",
   "metadata": {},
   "source": [
    "# Model Training"
   ]
  },
  {
   "cell_type": "code",
   "execution_count": 48,
   "metadata": {},
   "outputs": [],
   "source": [
    "from typing import List\n",
    "\n",
    "def train_random_forest(\n",
    "    train_X: List[pd.DataFrame],\n",
    "    unlabeled_X: pd.DataFrame,\n",
    "    _label: np.ndarray,\n",
    "    folds,\n",
    "    model_class,\n",
    "    params: dict,\n",
    "    none_ratio_thr: float,\n",
    "):\n",
    "    \"\"\"\n",
    "    Train random forest models using k-fold cross validation\n",
    "    \n",
    "    Args:\n",
    "        train_X: Training features DataFrame\n",
    "        _label: Array of labels\n",
    "        folds: List of dictionaries containing train/val indices\n",
    "        \n",
    "    Returns:\n",
    "        tuple: (list of trained classifiers, list of scores, list of validation predictions)\n",
    "    \"\"\"\n",
    "    classifiers = []\n",
    "    val_feat_df_list = []\n",
    "    unlabeled_feat_df_list = []\n",
    "\n",
    "    _label = _label.astype(object)\n",
    "    \n",
    "    for f_idx, fold in enumerate(folds):\n",
    "        # Prepare train and validation data for this fold\n",
    "        train_X_fold_list = []\n",
    "        train_y_fold_list = []\n",
    "        for trn_x in train_X:\n",
    "            train_X_fold_list.append(trn_x.iloc[fold['train']])\n",
    "            train_y_fold_list.append(_label[fold['train']])\n",
    "\n",
    "        train_X_fold = pd.concat(train_X_fold_list)\n",
    "        train_y_fold = np.concatenate(train_y_fold_list)\n",
    "\n",
    "        valid_X_fold_list = []\n",
    "        valid_y_fold_list = []\n",
    "        for trn_x in train_X:\n",
    "            valid_X_fold_list.append(trn_x.iloc[fold['val']])\n",
    "            valid_y_fold_list.append(_label[fold['val']])\n",
    "\n",
    "        val_X_fold = pd.concat(valid_X_fold_list)\n",
    "        val_y_fold = np.concatenate(valid_y_fold_list)\n",
    "        \n",
    "        # Check the train_y_fold. If more than 30% of samples are labeled \"None\",\n",
    "        # randomly sample from the \"None\" to make that ratio no more than 30%.\n",
    "        none_mask = (train_y_fold == \"None\")\n",
    "        none_count = np.sum(none_mask)\n",
    "        total_samples = len(train_y_fold)\n",
    "        none_ratio = none_count / total_samples if total_samples > 0 else 0\n",
    "\n",
    "        if none_ratio > none_ratio_thr:\n",
    "            # Calculate how many \"None\" labels we should keep (30% of total)\n",
    "            max_none_to_keep = int(none_ratio_thr * (total_samples - none_count))\n",
    "\n",
    "            # Randomly choose which \"None\" labels to keep\n",
    "            none_indices = np.where(none_mask)[0]\n",
    "\n",
    "            # Fix the random seed before shuffling for reproducibility\n",
    "            rng = np.random.RandomState(f_idx)\n",
    "            rng.shuffle(none_indices)\n",
    "            \n",
    "            keep_none_indices = none_indices[:max_none_to_keep]\n",
    "\n",
    "            # Indices of all non-\"None\" labels\n",
    "            other_indices = np.where(~none_mask)[0]\n",
    "\n",
    "            # Combine indices to keep and then sort\n",
    "            new_indices = np.concatenate([keep_none_indices, other_indices])\n",
    "            new_indices = np.sort(new_indices)  # Sort so we can index the DataFrame consistently\n",
    "\n",
    "            # Subset the training data\n",
    "            train_X_fold = train_X_fold.iloc[new_indices]\n",
    "            train_y_fold = train_y_fold[new_indices]\n",
    "\n",
    "            # print(f\"Sampled: none-ratio: {none_ratio}, removed: {none_count - max_none_to_keep}\")\n",
    "\n",
    "        # Prepare semi-supervise dataset\n",
    "        semi_train_X_fold = pd.concat([train_X_fold, unlabeled_X])\n",
    "        semi_train_y_fold = np.concatenate([train_y_fold, np.array([-1] * len(unlabeled_X))])\n",
    "\n",
    "        # Create and train Random Forest model\n",
    "        estimator = model_class(**params)\n",
    "        model = SelfTrainingClassifier(estimator, verbose=1, max_iter=2)\n",
    "        model.fit(semi_train_X_fold, semi_train_y_fold)\n",
    "        \n",
    "        classifiers.append(model)\n",
    "        \n",
    "        # Prepare the validation prediction results as next level input features\n",
    "        val_preds = model.predict_proba(val_X_fold)\n",
    "        val_pred_df = pd.DataFrame(data=val_preds, columns=model.classes_)\n",
    "\n",
    "        val_fold_info = []\n",
    "        for _f in range(len(train_X)):\n",
    "            f_info = pd.DataFrame(data=fold['val'], columns=[\"fold_idx\"])\n",
    "            f_info['dataset_idx'] = _f\n",
    "            val_fold_info.append(f_info)\n",
    "\n",
    "        val_fold_idx = pd.concat(val_fold_info)\n",
    "        \n",
    "        val_feat_df = pd.concat([\n",
    "            val_fold_idx.reset_index(drop=True),\n",
    "            val_X_fold.reset_index(drop=True),\n",
    "            val_pred_df,\n",
    "        ], axis=1)\n",
    "\n",
    "        val_feat_df_list.append(val_feat_df)\n",
    "\n",
    "        # Prepare the unlabeled data prediction results as next level input features\n",
    "        unlabeled_preds = model.predict_proba(unlabeled_X)\n",
    "        unlabeled_pred_df = pd.DataFrame(data=unlabeled_preds, columns=model.classes_)\n",
    "        \n",
    "        unlabeled_feat_df = pd.concat([\n",
    "            unlabeled_X.reset_index(drop=True),\n",
    "            unlabeled_pred_df,\n",
    "        ], axis=1)\n",
    "\n",
    "        unlabeled_feat_df_list.append(unlabeled_feat_df)\n",
    "\n",
    "    return classifiers, val_feat_df_list, unlabeled_feat_df_list\n",
    "\n",
    "def setup_prev_level_prediction(predictions, fold_num, num_datasets):\n",
    "    new_train_level_x = pd.concat([predictions[i] for i in range(fold_num)]).sort_values(['dataset_idx', 'fold_idx'])\n",
    "    return [\n",
    "        new_train_level_x[new_train_level_x['dataset_idx'] == i] \\\n",
    "            .drop(columns=['dataset_idx', 'fold_idx']) \\\n",
    "            .reset_index(drop=True)\n",
    "        for i in range(num_datasets)\n",
    "    ]"
   ]
  },
  {
   "cell_type": "markdown",
   "metadata": {},
   "source": [
    "### Train the high precision model by allowing None prediction"
   ]
  },
  {
   "cell_type": "code",
   "execution_count": 49,
   "metadata": {},
   "outputs": [],
   "source": [
    "cliped_test_X = np.clip(test_X, a_min=None, a_max=np.finfo(np.float32).max)"
   ]
  },
  {
   "cell_type": "code",
   "execution_count": 61,
   "metadata": {},
   "outputs": [
    {
     "name": "stdout",
     "output_type": "stream",
     "text": [
      "Training level 0\n",
      "End of iteration 1, added 3263 new labels.\n",
      "End of iteration 2, added 820 new labels.\n",
      "End of iteration 1, added 3156 new labels.\n",
      "End of iteration 2, added 955 new labels.\n",
      "End of iteration 1, added 3303 new labels.\n",
      "End of iteration 2, added 837 new labels.\n",
      "End of iteration 1, added 3273 new labels.\n",
      "End of iteration 2, added 857 new labels.\n",
      "End of iteration 1, added 3410 new labels.\n",
      "End of iteration 2, added 857 new labels.\n",
      "End of iteration 1, added 3254 new labels.\n",
      "End of iteration 2, added 794 new labels.\n",
      "End of iteration 1, added 3219 new labels.\n",
      "End of iteration 2, added 869 new labels.\n",
      "End of iteration 1, added 3293 new labels.\n",
      "End of iteration 2, added 791 new labels.\n",
      "End of iteration 1, added 3322 new labels.\n",
      "End of iteration 2, added 960 new labels.\n",
      "End of iteration 1, added 3295 new labels.\n",
      "End of iteration 2, added 840 new labels.\n",
      "Training level 1\n",
      "End of iteration 1, added 2454 new labels.\n",
      "End of iteration 2, added 1044 new labels.\n",
      "End of iteration 1, added 2524 new labels.\n",
      "End of iteration 2, added 1117 new labels.\n",
      "End of iteration 1, added 2599 new labels.\n",
      "End of iteration 2, added 1072 new labels.\n",
      "End of iteration 1, added 2613 new labels.\n",
      "End of iteration 2, added 1049 new labels.\n",
      "End of iteration 1, added 2594 new labels.\n",
      "End of iteration 2, added 1029 new labels.\n",
      "End of iteration 1, added 2592 new labels.\n",
      "End of iteration 2, added 995 new labels.\n",
      "End of iteration 1, added 2477 new labels.\n",
      "End of iteration 2, added 1143 new labels.\n",
      "End of iteration 1, added 2604 new labels.\n",
      "End of iteration 2, added 1071 new labels.\n",
      "End of iteration 1, added 2650 new labels.\n",
      "End of iteration 2, added 1014 new labels.\n",
      "End of iteration 1, added 2546 new labels.\n",
      "End of iteration 2, added 1108 new labels.\n",
      "Training level 2\n",
      "End of iteration 1, added 2808 new labels.\n",
      "End of iteration 2, added 1199 new labels.\n",
      "End of iteration 1, added 2843 new labels.\n",
      "End of iteration 2, added 1161 new labels.\n",
      "End of iteration 1, added 2783 new labels.\n",
      "End of iteration 2, added 1251 new labels.\n",
      "End of iteration 1, added 2909 new labels.\n",
      "End of iteration 2, added 1057 new labels.\n",
      "End of iteration 1, added 3101 new labels.\n",
      "End of iteration 2, added 987 new labels.\n",
      "End of iteration 1, added 2967 new labels.\n",
      "End of iteration 2, added 1150 new labels.\n",
      "End of iteration 1, added 2913 new labels.\n",
      "End of iteration 2, added 1158 new labels.\n",
      "End of iteration 1, added 2921 new labels.\n",
      "End of iteration 2, added 1194 new labels.\n",
      "End of iteration 1, added 2874 new labels.\n",
      "End of iteration 2, added 1121 new labels.\n",
      "End of iteration 1, added 2831 new labels.\n",
      "End of iteration 2, added 1139 new labels.\n",
      "Training level 3\n",
      "End of iteration 1, added 3875 new labels.\n",
      "End of iteration 2, added 744 new labels.\n",
      "End of iteration 1, added 3944 new labels.\n",
      "End of iteration 2, added 683 new labels.\n",
      "End of iteration 1, added 3774 new labels.\n",
      "End of iteration 2, added 805 new labels.\n",
      "End of iteration 1, added 3860 new labels.\n",
      "End of iteration 2, added 729 new labels.\n",
      "End of iteration 1, added 4008 new labels.\n",
      "End of iteration 2, added 638 new labels.\n",
      "End of iteration 1, added 4009 new labels.\n",
      "End of iteration 2, added 642 new labels.\n",
      "End of iteration 1, added 3764 new labels.\n",
      "End of iteration 2, added 849 new labels.\n",
      "End of iteration 1, added 3841 new labels.\n",
      "End of iteration 2, added 736 new labels.\n",
      "End of iteration 1, added 3961 new labels.\n",
      "End of iteration 2, added 624 new labels.\n",
      "End of iteration 1, added 3885 new labels.\n",
      "End of iteration 2, added 712 new labels.\n",
      "Training level 4\n",
      "End of iteration 1, added 3695 new labels.\n",
      "End of iteration 2, added 1052 new labels.\n",
      "End of iteration 1, added 4003 new labels.\n",
      "End of iteration 2, added 727 new labels.\n",
      "End of iteration 1, added 3876 new labels.\n",
      "End of iteration 2, added 849 new labels.\n",
      "End of iteration 1, added 3589 new labels.\n",
      "End of iteration 2, added 1060 new labels.\n",
      "End of iteration 1, added 4019 new labels.\n",
      "End of iteration 2, added 722 new labels.\n",
      "End of iteration 1, added 4159 new labels.\n",
      "End of iteration 2, added 636 new labels.\n",
      "End of iteration 1, added 3454 new labels.\n",
      "End of iteration 2, added 1180 new labels.\n",
      "End of iteration 1, added 3739 new labels.\n",
      "End of iteration 2, added 1004 new labels.\n",
      "End of iteration 1, added 3875 new labels.\n",
      "End of iteration 2, added 853 new labels.\n",
      "End of iteration 1, added 3861 new labels.\n",
      "End of iteration 2, added 710 new labels.\n"
     ]
    }
   ],
   "source": [
    "prec_classifiers = []\n",
    "prec_val_predictions = []\n",
    "unlabeled_predictions = []\n",
    "\n",
    "params = {\n",
    "    'n_estimators': 2,\n",
    "    'random_state': 42,\n",
    "    'n_jobs': 8  # Use all available cores\n",
    "}\n",
    "\n",
    "model_cls = RandomForestClassifier\n",
    "\n",
    "none_ratio_thr_list = [0.1, 0.15, 0.35, 0.75, 0.85]\n",
    "\n",
    "# train_input = [train_X_full, train_X_1, train_X_2]\n",
    "train_input = train_sets\n",
    "test_input = cliped_test_X.iloc[:5000]\n",
    "\n",
    "for i in range(5):\n",
    "    print(f\"Training level {i}\")\n",
    "    _classifiers, _val_predictions, _unlabeled_preds = train_random_forest(\n",
    "        train_input,\n",
    "        test_input,\n",
    "        np.array([x[i] for x in padded_label]),\n",
    "        folds,\n",
    "        params=params,\n",
    "        model_class=model_cls,\n",
    "        none_ratio_thr=none_ratio_thr_list[i]\n",
    "    )\n",
    "    prec_classifiers.append(_classifiers)\n",
    "    prec_val_predictions.append(_val_predictions)\n",
    "    unlabeled_predictions.append(_unlabeled_preds)\n",
    "\n",
    "    train_input = setup_prev_level_prediction(_val_predictions, fold_num=len(folds), num_datasets=len(train_input))\n",
    "    trn_col_names = list(train_input[0].columns)\n",
    "    test_input = pd.concat(_unlabeled_preds, axis=1).groupby(level=0, axis=1).mean()[trn_col_names]"
   ]
  },
  {
   "cell_type": "code",
   "execution_count": 62,
   "metadata": {},
   "outputs": [],
   "source": [
    "cliped_test_X = np.clip(test_X, a_min=None, a_max=np.finfo(np.float32).max)"
   ]
  },
  {
   "cell_type": "code",
   "execution_count": 63,
   "metadata": {},
   "outputs": [],
   "source": [
    "def make_predictions_with_models(classifiers, test_data):\n",
    "    test_preds_all = []\n",
    "    for clf in tqdm(classifiers):\n",
    "        pred = clf.predict_proba(test_data)\n",
    "        test_preds_all.append(pd.DataFrame(data=pred, columns=clf.classes_))\n",
    "    return test_preds_all"
   ]
  },
  {
   "cell_type": "code",
   "execution_count": 64,
   "metadata": {},
   "outputs": [
    {
     "name": "stdout",
     "output_type": "stream",
     "text": [
      "Predicting level 0\n"
     ]
    },
    {
     "name": "stderr",
     "output_type": "stream",
     "text": [
      "100%|██████████| 10/10 [00:01<00:00,  5.71it/s]\n"
     ]
    },
    {
     "name": "stdout",
     "output_type": "stream",
     "text": [
      "Predicting level 1\n"
     ]
    },
    {
     "name": "stderr",
     "output_type": "stream",
     "text": [
      "100%|██████████| 10/10 [00:04<00:00,  2.28it/s]\n"
     ]
    },
    {
     "name": "stdout",
     "output_type": "stream",
     "text": [
      "Predicting level 2\n"
     ]
    },
    {
     "name": "stderr",
     "output_type": "stream",
     "text": [
      "100%|██████████| 10/10 [00:06<00:00,  1.64it/s]\n"
     ]
    },
    {
     "name": "stdout",
     "output_type": "stream",
     "text": [
      "Predicting level 3\n"
     ]
    },
    {
     "name": "stderr",
     "output_type": "stream",
     "text": [
      "100%|██████████| 10/10 [00:07<00:00,  1.30it/s]\n"
     ]
    },
    {
     "name": "stdout",
     "output_type": "stream",
     "text": [
      "Predicting level 4\n"
     ]
    },
    {
     "name": "stderr",
     "output_type": "stream",
     "text": [
      "100%|██████████| 10/10 [00:06<00:00,  1.46it/s]\n"
     ]
    }
   ],
   "source": [
    "test_preds_list = []\n",
    "test_input = cliped_test_X\n",
    "for i in range(5):\n",
    "    print(f\"Predicting level {i}\")\n",
    "    test_preds_all = make_predictions_with_models(prec_classifiers[i], test_input)\n",
    "\n",
    "    _level_res = pd.concat(test_preds_all, axis=1).groupby(level=0, axis=1).mean()\n",
    "    test_input = pd.concat([test_input, _level_res], axis=1)\n",
    "    \n",
    "    test_preds_list.append(test_preds_all)"
   ]
  },
  {
   "cell_type": "code",
   "execution_count": 65,
   "metadata": {},
   "outputs": [
    {
     "name": "stderr",
     "output_type": "stream",
     "text": [
      "100%|██████████| 5/5 [00:11<00:00,  2.33s/it]\n"
     ]
    }
   ],
   "source": [
    "test_level_agg = []\n",
    "for _level in tqdm(range(5)):\n",
    "    _level_res = pd.concat(test_preds_list[_level], axis=1).groupby(level=0, axis=1).mean()\n",
    "    assert not _level_res.isna().values.any()\n",
    "\n",
    "    for col in _level_res.columns:\n",
    "        _level_res = _level_res.rename(columns={col: f\"{col}_{_level}\"})\n",
    "\n",
    "    test_level_agg.append(_level_res)"
   ]
  },
  {
   "cell_type": "code",
   "execution_count": 66,
   "metadata": {},
   "outputs": [
    {
     "name": "stderr",
     "output_type": "stream",
     "text": [
      "100%|██████████| 315720/315720 [00:02<00:00, 122269.78it/s]\n"
     ]
    },
    {
     "data": {
      "text/plain": [
       "array([['Sensor', 'Demand_Sensor', 'None', 'None', 'None'],\n",
       "       ['Sensor', 'Flow_Sensor', 'Water_Flow_Sensor',\n",
       "        'Chilled_Water_Supply_Flow_Sensor', 'None'],\n",
       "       ['Setpoint', 'Temperature_Setpoint', 'Power_Sensor', 'None',\n",
       "        'None'],\n",
       "       ...,\n",
       "       ['Sensor', 'Power_Sensor', 'None', 'None', 'None'],\n",
       "       ['Sensor', 'Position_Sensor', 'None', 'None', 'None'],\n",
       "       ['Alarm', 'None', 'None', 'None', 'None']], dtype=object)"
      ]
     },
     "execution_count": 66,
     "metadata": {},
     "output_type": "execute_result"
    }
   ],
   "source": [
    "stacked = np.stack(\n",
    "    test_level_agg[i].idxmax(axis=1).apply(lambda x: x[:-2])\n",
    "    for i in range(5)\n",
    ").transpose()\n",
    "\n",
    "for row in tqdm(stacked):\n",
    "    # Find first occurrence of 'None' if any\n",
    "    none_idx = np.where(row == 'None')[0]\n",
    "    if len(none_idx) > 0:\n",
    "        # Set all elements after first None to None\n",
    "        first_none = none_idx[0]\n",
    "        row[first_none:] = 'None'\n",
    "        \n",
    "stacked"
   ]
  },
  {
   "cell_type": "code",
   "execution_count": 67,
   "metadata": {},
   "outputs": [],
   "source": [
    "columnlist = ['Active_Power_Sensor', 'Air_Flow_Sensor',\n",
    "       'Air_Flow_Setpoint', 'Air_Temperature_Sensor',\n",
    "       'Air_Temperature_Setpoint', 'Alarm', 'Angle_Sensor',\n",
    "       'Average_Zone_Air_Temperature_Sensor',\n",
    "       'Chilled_Water_Differential_Temperature_Sensor',\n",
    "       'Chilled_Water_Return_Temperature_Sensor',\n",
    "       'Chilled_Water_Supply_Flow_Sensor',\n",
    "       'Chilled_Water_Supply_Temperature_Sensor', 'Command',\n",
    "       'Cooling_Demand_Sensor', 'Cooling_Demand_Setpoint',\n",
    "       'Cooling_Supply_Air_Temperature_Deadband_Setpoint',\n",
    "       'Cooling_Temperature_Setpoint', 'Current_Sensor',\n",
    "       'Damper_Position_Sensor', 'Damper_Position_Setpoint', 'Demand_Sensor',\n",
    "       'Dew_Point_Setpoint', 'Differential_Pressure_Sensor',\n",
    "       'Differential_Pressure_Setpoint',\n",
    "       'Differential_Supply_Return_Water_Temperature_Sensor',\n",
    "       'Discharge_Air_Dewpoint_Sensor', 'Discharge_Air_Temperature_Sensor',\n",
    "       'Discharge_Air_Temperature_Setpoint',\n",
    "       'Discharge_Water_Temperature_Sensor', 'Duration_Sensor',\n",
    "       'Electrical_Power_Sensor', 'Energy_Usage_Sensor',\n",
    "       'Filter_Differential_Pressure_Sensor', 'Flow_Sensor', 'Flow_Setpoint',\n",
    "       'Frequency_Sensor', 'Heating_Demand_Sensor', 'Heating_Demand_Setpoint',\n",
    "       'Heating_Supply_Air_Temperature_Deadband_Setpoint',\n",
    "       'Heating_Temperature_Setpoint', 'Hot_Water_Flow_Sensor',\n",
    "       'Hot_Water_Return_Temperature_Sensor',\n",
    "       'Hot_Water_Supply_Temperature_Sensor', 'Humidity_Setpoint',\n",
    "       'Load_Current_Sensor', 'Low_Outside_Air_Temperature_Enable_Setpoint',\n",
    "       'Max_Air_Temperature_Setpoint', 'Min_Air_Temperature_Setpoint',\n",
    "       'Outside_Air_CO2_Sensor', 'Outside_Air_Enthalpy_Sensor',\n",
    "       'Outside_Air_Humidity_Sensor',\n",
    "       'Outside_Air_Lockout_Temperature_Setpoint',\n",
    "       'Outside_Air_Temperature_Sensor', 'Outside_Air_Temperature_Setpoint',\n",
    "       'Parameter', 'Peak_Power_Demand_Sensor', 'Position_Sensor',\n",
    "       'Power_Sensor', 'Pressure_Sensor', 'Rain_Sensor',\n",
    "       'Reactive_Power_Sensor', 'Reset_Setpoint',\n",
    "       'Return_Air_Temperature_Sensor', 'Return_Water_Temperature_Sensor',\n",
    "       'Room_Air_Temperature_Setpoint', 'Sensor', 'Setpoint',\n",
    "       'Solar_Radiance_Sensor', 'Speed_Setpoint', 'Static_Pressure_Sensor',\n",
    "       'Static_Pressure_Setpoint', 'Status', 'Supply_Air_Humidity_Sensor',\n",
    "       'Supply_Air_Static_Pressure_Sensor',\n",
    "       'Supply_Air_Static_Pressure_Setpoint', 'Supply_Air_Temperature_Sensor',\n",
    "       'Supply_Air_Temperature_Setpoint', 'Temperature_Sensor',\n",
    "       'Temperature_Setpoint', 'Thermal_Power_Sensor', 'Time_Setpoint',\n",
    "       'Usage_Sensor', 'Valve_Position_Sensor', 'Voltage_Sensor',\n",
    "       'Warmest_Zone_Air_Temperature_Sensor', 'Water_Flow_Sensor',\n",
    "       'Water_Temperature_Sensor', 'Water_Temperature_Setpoint',\n",
    "       'Wind_Direction_Sensor', 'Wind_Speed_Sensor',\n",
    "       'Zone_Air_Dewpoint_Sensor', 'Zone_Air_Humidity_Sensor',\n",
    "       'Zone_Air_Humidity_Setpoint', 'Zone_Air_Temperature_Sensor'\n",
    "]"
   ]
  },
  {
   "cell_type": "code",
   "execution_count": 68,
   "metadata": {},
   "outputs": [],
   "source": [
    "zipftest = ZipFile('../downloads/test_X_v0.1.0.zip', 'r')\n",
    "listtestfile = zipftest.namelist()[1:]"
   ]
  },
  {
   "cell_type": "code",
   "execution_count": null,
   "metadata": {},
   "outputs": [
    {
     "name": "stderr",
     "output_type": "stream",
     "text": [
      " 37%|███▋      | 116408/315720 [00:24<00:40, 4958.66it/s]"
     ]
    }
   ],
   "source": [
    "stackedfinalresult = pd.DataFrame(columns=['filename'])\n",
    "stackedfinalresult['filename'] = pd.Series(listtestfile).apply(lambda x: x.split(\"/\")[-1])\n",
    "\n",
    "for labelname in columnlist:\n",
    "    stackedfinalresult[labelname] = 0\n",
    "\n",
    "test_preds = stacked\n",
    "for i in tqdm(range(len(test_preds))):\n",
    "    # stackedfinalresult.loc[i, test_preds[i]] = 1\n",
    "    predlist = test_preds[i].tolist()\n",
    "    predlist = [x for x in predlist if x != 'None']\n",
    "    for predlabelname in predlist:\n",
    "    \tstackedfinalresult.loc[i, predlabelname] = 1"
   ]
  },
  {
   "cell_type": "code",
   "execution_count": 900,
   "metadata": {},
   "outputs": [],
   "source": [
    "stackedfinalresult = stackedfinalresult.assign(**{col: stackedfinalresult[col].astype(float) for col in stackedfinalresult.columns if col != \"filename\"})"
   ]
  },
  {
   "cell_type": "code",
   "execution_count": 903,
   "metadata": {},
   "outputs": [],
   "source": [
    "def check_pred_num(_final_res, thr=0.4):\n",
    "    # Exclude 'filename' column if it exists\n",
    "    filtered_df = _final_res.drop(columns=['filename'], errors='ignore')\n",
    "\n",
    "    return (filtered_df >= thr).sum(axis=1)"
   ]
  },
  {
   "cell_type": "code",
   "execution_count": 904,
   "metadata": {},
   "outputs": [
    {
     "data": {
      "text/plain": [
       "1    115818\n",
       "2     89293\n",
       "3     67651\n",
       "4     32487\n",
       "5     10471\n",
       "Name: count, dtype: int64"
      ]
     },
     "execution_count": 904,
     "metadata": {},
     "output_type": "execute_result"
    }
   ],
   "source": [
    "print(\"Hit num distribution\")\n",
    "print(check_pred_num(stackedfinalresult, thr=0.35).value_counts())"
   ]
  },
  {
   "cell_type": "code",
   "execution_count": 905,
   "metadata": {},
   "outputs": [],
   "source": [
    "stackedfinalresult.to_csv(\"../logs/submit/0123_semi_supervise_dev.csv\", index=False)"
   ]
  },
  {
   "cell_type": "code",
   "execution_count": null,
   "metadata": {},
   "outputs": [],
   "source": []
  }
 ],
 "metadata": {
  "kernelspec": {
   "display_name": "ddm",
   "language": "python",
   "name": "python3"
  },
  "language_info": {
   "codemirror_mode": {
    "name": "ipython",
    "version": 3
   },
   "file_extension": ".py",
   "mimetype": "text/x-python",
   "name": "python",
   "nbconvert_exporter": "python",
   "pygments_lexer": "ipython3",
   "version": "3.9.18"
  }
 },
 "nbformat": 4,
 "nbformat_minor": 2
}
