{
 "cells": [
  {
   "cell_type": "code",
   "execution_count": 18,
   "metadata": {},
   "outputs": [],
   "source": [
    "import pandas as pd\n",
    "import numpy as np\n",
    "import matplotlib.pyplot as plt\n",
    "import seaborn as sns\n",
    "import os\n",
    "import sys\n",
    "import time\n",
    "from zipfile import ZipFile\n",
    "import warnings\n",
    "import pickle\n",
    "import torch\n",
    "from torch.utils.data import Dataset\n",
    "import tsfel\n",
    "from sklearn.model_selection import StratifiedKFold\n",
    "from tqdm import tqdm\n",
    "import lightgbm as lgb\n",
    "from hiclass import LocalClassifierPerNode, LocalClassifierPerParentNode, LocalClassifierPerLevel\n",
    "from lightgbm import LGBMClassifier\n",
    "from sklearn.ensemble import RandomForestClassifier\n",
    "warnings.filterwarnings('ignore')"
   ]
  },
  {
   "cell_type": "code",
   "execution_count": 21,
   "metadata": {},
   "outputs": [],
   "source": [
    "base_dir = \"../logs/ensemble/base_ensemble/01_27_2025-12_43_22\""
   ]
  },
  {
   "cell_type": "code",
   "execution_count": 22,
   "metadata": {},
   "outputs": [
    {
     "data": {
      "text/plain": [
       "['xgb', 'rf', 'lgb']"
      ]
     },
     "execution_count": 22,
     "metadata": {},
     "output_type": "execute_result"
    }
   ],
   "source": [
    "os.listdir(base_dir)"
   ]
  },
  {
   "cell_type": "code",
   "execution_count": null,
   "metadata": {},
   "outputs": [],
   "source": [
    "\"\"\"\n",
    "TODO:\n",
    "1. \n",
    "\"\"\""
   ]
  },
  {
   "cell_type": "code",
   "execution_count": 23,
   "metadata": {},
   "outputs": [
    {
     "data": {
      "text/html": [
       "<div>\n",
       "<style scoped>\n",
       "    .dataframe tbody tr th:only-of-type {\n",
       "        vertical-align: middle;\n",
       "    }\n",
       "\n",
       "    .dataframe tbody tr th {\n",
       "        vertical-align: top;\n",
       "    }\n",
       "\n",
       "    .dataframe thead th {\n",
       "        text-align: right;\n",
       "    }\n",
       "</style>\n",
       "<table border=\"1\" class=\"dataframe\">\n",
       "  <thead>\n",
       "    <tr style=\"text-align: right;\">\n",
       "      <th></th>\n",
       "      <th>col</th>\n",
       "      <th>precision</th>\n",
       "      <th>recall</th>\n",
       "      <th>f1</th>\n",
       "      <th>support</th>\n",
       "    </tr>\n",
       "  </thead>\n",
       "  <tbody>\n",
       "    <tr>\n",
       "      <th>0</th>\n",
       "      <td>Active_Power_Sensor</td>\n",
       "      <td>0.174897</td>\n",
       "      <td>0.273752</td>\n",
       "      <td>0.213434</td>\n",
       "      <td>NaN</td>\n",
       "    </tr>\n",
       "    <tr>\n",
       "      <th>1</th>\n",
       "      <td>Air_Flow_Sensor</td>\n",
       "      <td>0.182297</td>\n",
       "      <td>0.272370</td>\n",
       "      <td>0.218411</td>\n",
       "      <td>NaN</td>\n",
       "    </tr>\n",
       "    <tr>\n",
       "      <th>2</th>\n",
       "      <td>Air_Flow_Setpoint</td>\n",
       "      <td>0.098485</td>\n",
       "      <td>0.144444</td>\n",
       "      <td>0.117117</td>\n",
       "      <td>NaN</td>\n",
       "    </tr>\n",
       "    <tr>\n",
       "      <th>3</th>\n",
       "      <td>Air_Temperature_Sensor</td>\n",
       "      <td>0.264496</td>\n",
       "      <td>0.298428</td>\n",
       "      <td>0.280440</td>\n",
       "      <td>NaN</td>\n",
       "    </tr>\n",
       "    <tr>\n",
       "      <th>4</th>\n",
       "      <td>Air_Temperature_Setpoint</td>\n",
       "      <td>0.232540</td>\n",
       "      <td>0.277473</td>\n",
       "      <td>0.253027</td>\n",
       "      <td>NaN</td>\n",
       "    </tr>\n",
       "    <tr>\n",
       "      <th>...</th>\n",
       "      <td>...</td>\n",
       "      <td>...</td>\n",
       "      <td>...</td>\n",
       "      <td>...</td>\n",
       "      <td>...</td>\n",
       "    </tr>\n",
       "    <tr>\n",
       "      <th>90</th>\n",
       "      <td>Zone_Air_Dewpoint_Sensor</td>\n",
       "      <td>0.301282</td>\n",
       "      <td>0.261111</td>\n",
       "      <td>0.279762</td>\n",
       "      <td>NaN</td>\n",
       "    </tr>\n",
       "    <tr>\n",
       "      <th>91</th>\n",
       "      <td>Zone_Air_Humidity_Sensor</td>\n",
       "      <td>0.318627</td>\n",
       "      <td>0.300926</td>\n",
       "      <td>0.309524</td>\n",
       "      <td>NaN</td>\n",
       "    </tr>\n",
       "    <tr>\n",
       "      <th>92</th>\n",
       "      <td>Zone_Air_Humidity_Setpoint</td>\n",
       "      <td>0.000000</td>\n",
       "      <td>0.000000</td>\n",
       "      <td>0.000000</td>\n",
       "      <td>NaN</td>\n",
       "    </tr>\n",
       "    <tr>\n",
       "      <th>93</th>\n",
       "      <td>Zone_Air_Temperature_Sensor</td>\n",
       "      <td>0.289678</td>\n",
       "      <td>0.294362</td>\n",
       "      <td>0.292001</td>\n",
       "      <td>NaN</td>\n",
       "    </tr>\n",
       "    <tr>\n",
       "      <th>94</th>\n",
       "      <td>AVERAGE</td>\n",
       "      <td>0.163520</td>\n",
       "      <td>0.180304</td>\n",
       "      <td>0.167253</td>\n",
       "      <td>0.0</td>\n",
       "    </tr>\n",
       "  </tbody>\n",
       "</table>\n",
       "<p>95 rows × 5 columns</p>\n",
       "</div>"
      ],
      "text/plain": [
       "                            col  precision    recall        f1  support\n",
       "0           Active_Power_Sensor   0.174897  0.273752  0.213434      NaN\n",
       "1               Air_Flow_Sensor   0.182297  0.272370  0.218411      NaN\n",
       "2             Air_Flow_Setpoint   0.098485  0.144444  0.117117      NaN\n",
       "3        Air_Temperature_Sensor   0.264496  0.298428  0.280440      NaN\n",
       "4      Air_Temperature_Setpoint   0.232540  0.277473  0.253027      NaN\n",
       "..                          ...        ...       ...       ...      ...\n",
       "90     Zone_Air_Dewpoint_Sensor   0.301282  0.261111  0.279762      NaN\n",
       "91     Zone_Air_Humidity_Sensor   0.318627  0.300926  0.309524      NaN\n",
       "92   Zone_Air_Humidity_Setpoint   0.000000  0.000000  0.000000      NaN\n",
       "93  Zone_Air_Temperature_Sensor   0.289678  0.294362  0.292001      NaN\n",
       "94                      AVERAGE   0.163520  0.180304  0.167253      0.0\n",
       "\n",
       "[95 rows x 5 columns]"
      ]
     },
     "execution_count": 23,
     "metadata": {},
     "output_type": "execute_result"
    }
   ],
   "source": [
    "cv_res = pd.read_csv(os.path.join(base_dir, 'rf/cv_report.csv'))\n",
    "cv_res"
   ]
  },
  {
   "cell_type": "code",
   "execution_count": 27,
   "metadata": {},
   "outputs": [],
   "source": [
    "avg = [\n",
    "    pd.read_csv(os.path.join(base_dir, \"rf/test_predictions\", f\"final_result_{i}.csv\"))\n",
    "    for i in range(2)\n",
    "]\n"
   ]
  },
  {
   "cell_type": "code",
   "execution_count": 29,
   "metadata": {},
   "outputs": [],
   "source": [
    "import pandas as pd\n",
    "\n",
    "def merge_mean(df_list):\n",
    "    \"\"\"\n",
    "    Given a list of DataFrames with identical columns and index,\n",
    "    return one DataFrame whose numeric columns are the mean of all\n",
    "    those numeric columns across the list.\n",
    "\n",
    "    The \"filename\" column is assumed to be the same or can be taken\n",
    "    from the first DataFrame.\n",
    "    \"\"\"\n",
    "    # Make a copy of the first DataFrame to initialize the output\n",
    "    merged_df = df_list[0].copy()\n",
    "\n",
    "    # Identify all numeric columns (excluding \"filename\")\n",
    "    numeric_cols = merged_df.columns.drop(\"filename\")\n",
    "\n",
    "    # Sum up the numeric columns from all other DataFrames\n",
    "    for df in df_list[1:]:\n",
    "        merged_df[numeric_cols] += df[numeric_cols]\n",
    "\n",
    "    # Divide by the number of DataFrames to get the mean\n",
    "    merged_df[numeric_cols] /= len(df_list)\n",
    "\n",
    "    return merged_df\n",
    "\n",
    "\n",
    "# Example usage:\n",
    "# Suppose dfs is the list of DataFrames you showed in the question\n",
    "# final_df = merge_mean(dfs)\n",
    "# print(final_df)\n"
   ]
  },
  {
   "cell_type": "code",
   "execution_count": 32,
   "metadata": {},
   "outputs": [],
   "source": [
    "def check_pred_num(_final_res, thr=0.4):\n",
    "    # Exclude 'filename' column if it exists\n",
    "    filtered_df = _final_res.drop(columns=['filename'], errors='ignore')\n",
    "\n",
    "    return (filtered_df >= thr).sum(axis=1)"
   ]
  },
  {
   "cell_type": "code",
   "execution_count": 33,
   "metadata": {},
   "outputs": [],
   "source": [
    "m_res = merge_mean(avg)"
   ]
  },
  {
   "cell_type": "code",
   "execution_count": 35,
   "metadata": {},
   "outputs": [
    {
     "data": {
      "text/plain": [
       "2     85307\n",
       "3     74616\n",
       "4     58612\n",
       "1     52155\n",
       "5     31619\n",
       "6      9940\n",
       "7      2610\n",
       "8       726\n",
       "9       119\n",
       "10       16\n",
       "Name: count, dtype: int64"
      ]
     },
     "execution_count": 35,
     "metadata": {},
     "output_type": "execute_result"
    }
   ],
   "source": [
    "check_pred_num(m_res).value_counts()"
   ]
  },
  {
   "cell_type": "code",
   "execution_count": null,
   "metadata": {},
   "outputs": [],
   "source": []
  }
 ],
 "metadata": {
  "kernelspec": {
   "display_name": "ddm",
   "language": "python",
   "name": "python3"
  },
  "language_info": {
   "codemirror_mode": {
    "name": "ipython",
    "version": 3
   },
   "file_extension": ".py",
   "mimetype": "text/x-python",
   "name": "python",
   "nbconvert_exporter": "python",
   "pygments_lexer": "ipython3",
   "version": "3.9.18"
  }
 },
 "nbformat": 4,
 "nbformat_minor": 2
}
