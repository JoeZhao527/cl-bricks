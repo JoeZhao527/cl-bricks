{
 "cells": [
  {
   "cell_type": "code",
   "execution_count": 1,
   "metadata": {},
   "outputs": [],
   "source": [
    "import pandas as pd\n",
    "import numpy as np\n",
    "import matplotlib.pyplot as plt\n",
    "import seaborn as sns\n",
    "import os\n",
    "import sys\n",
    "import time\n",
    "from zipfile import ZipFile\n",
    "import warnings\n",
    "import pickle\n",
    "import torch\n",
    "from torch.utils.data import Dataset\n",
    "import tsfel\n",
    "from sklearn.model_selection import StratifiedKFold\n",
    "from tqdm import tqdm\n",
    "import lightgbm as lgb\n",
    "from hiclass import LocalClassifierPerNode, LocalClassifierPerParentNode, LocalClassifierPerLevel\n",
    "from lightgbm import LGBMClassifier\n",
    "from sklearn.ensemble import RandomForestClassifier\n",
    "warnings.filterwarnings('ignore')"
   ]
  },
  {
   "cell_type": "code",
   "execution_count": 11,
   "metadata": {},
   "outputs": [],
   "source": [
    "train_y = pd.read_csv(\"../downloads/train_y_v0.1.0.csv\")"
   ]
  },
  {
   "cell_type": "markdown",
   "metadata": {},
   "source": [
    "# Prepare features"
   ]
  },
  {
   "cell_type": "markdown",
   "metadata": {},
   "source": [
    "### Prepare pre-extracted features"
   ]
  },
  {
   "cell_type": "code",
   "execution_count": 2,
   "metadata": {},
   "outputs": [],
   "source": [
    "raw_train_X_full = pd.read_csv(\"../downloads/train_data_features_v3_fixed/train_features_full_v3.csv\")\n",
    "raw_train_X_1 = pd.read_csv(\"../downloads/train_data_features_v3_fixed/train_features_split1_2_v3.csv\")\n",
    "raw_train_X_2 = pd.read_csv(\"../downloads/train_data_features_v3_fixed/train_features_split2_2_v3.csv\")"
   ]
  },
  {
   "cell_type": "code",
   "execution_count": 3,
   "metadata": {},
   "outputs": [],
   "source": [
    "raw_test_X = pd.read_csv(\"../downloads/test_features_full_v3.csv\")"
   ]
  },
  {
   "cell_type": "code",
   "execution_count": 4,
   "metadata": {},
   "outputs": [],
   "source": [
    "pre_feature_list = ['0_Absolute energy',\n",
    " '0_Area under the curve',\n",
    " '0_Autocorrelation',\n",
    " '0_Average power',\n",
    " '0_Centroid',\n",
    " '0_ECDF Percentile Count_0',\n",
    " '0_ECDF Percentile Count_1',\n",
    " '0_ECDF Percentile_0',\n",
    " '0_ECDF Percentile_1',\n",
    " '0_ECDF_0',\n",
    " '0_ECDF_1',\n",
    " '0_ECDF_2',\n",
    " '0_ECDF_3',\n",
    " '0_ECDF_4',\n",
    " '0_ECDF_5',\n",
    " '0_ECDF_6',\n",
    " '0_ECDF_7',\n",
    " '0_ECDF_8',\n",
    " '0_ECDF_9',\n",
    " '0_Entropy',\n",
    " '0_Histogram mode',\n",
    " '0_Interquartile range',\n",
    " '0_Kurtosis',\n",
    " '0_Max',\n",
    " '0_Mean',\n",
    " '0_Mean absolute deviation',\n",
    " '0_Mean absolute diff',\n",
    " '0_Mean diff',\n",
    " '0_Median',\n",
    " '0_Median absolute deviation',\n",
    " '0_Median absolute diff',\n",
    " '0_Median diff',\n",
    " '0_Min',\n",
    " '0_Negative turning points',\n",
    " '0_Neighbourhood peaks',\n",
    " '0_Peak to peak distance',\n",
    " '0_Positive turning points',\n",
    " '0_Root mean square',\n",
    " '0_Signal distance',\n",
    " '0_Skewness',\n",
    " '0_Slope',\n",
    " '0_Standard deviation',\n",
    " '0_Sum absolute diff',\n",
    " '0_Variance',\n",
    " '0_Zero crossing rate',\n",
    " '0_Fundamental frequency',\n",
    " '0_Human range energy',\n",
    " '0_Max power spectrum',\n",
    " '0_Maximum frequency',\n",
    " '0_Median frequency',\n",
    " '0_Power bandwidth',\n",
    " '0_Wavelet entropy',\n",
    " 'value_median',\n",
    " 'value_mean',\n",
    " 'value_qmean',\n",
    " 'value_max',\n",
    " 'value_min',\n",
    " 'value_maxmin',\n",
    " 'value_diffmax',\n",
    " 'value_diffmin',\n",
    " 'value_diffmean',\n",
    " 'value_diffqmean',\n",
    " 'value_diffmedian',\n",
    " 'value_diffmaxmin',\n",
    " 'time_diffmean',\n",
    " 'time_diffqmean',\n",
    " 'time_diffmax',\n",
    " 'time_diffmin',\n",
    " 'time_diffmedian',\n",
    " 'value_std',\n",
    " 'value_var',\n",
    " 'value_diffstd',\n",
    " 'value_diffvar',\n",
    " 'time_diffstd',\n",
    " 'time_diffvar',\n",
    " 'time_burstiness',\n",
    " 'time_total',\n",
    " 'time_event_density',\n",
    " 'time_entropy',\n",
    " 'time_slope'\n",
    "]"
   ]
  },
  {
   "cell_type": "code",
   "execution_count": 5,
   "metadata": {},
   "outputs": [],
   "source": [
    "train_X_full = raw_train_X_full[pre_feature_list]\n",
    "train_X_1 = raw_train_X_1[pre_feature_list]\n",
    "train_X_2 = raw_train_X_2[pre_feature_list]\n",
    "test_X = raw_test_X[pre_feature_list]"
   ]
  },
  {
   "cell_type": "markdown",
   "metadata": {},
   "source": [
    "### Add spectrogram clustering feature"
   ]
  },
  {
   "cell_type": "code",
   "execution_count": 6,
   "metadata": {},
   "outputs": [],
   "source": [
    "# trn_zipf = ZipFile(\"../downloads/train_X_v0.1.0.zip\")\n",
    "# trn_filenames = list(trn_zipf.namelist()[1:])"
   ]
  },
  {
   "cell_type": "code",
   "execution_count": 7,
   "metadata": {},
   "outputs": [],
   "source": [
    "# spec_cluster_dist = torch.load(\"../downloads/distances_to_centers.pt\")"
   ]
  },
  {
   "cell_type": "code",
   "execution_count": 8,
   "metadata": {},
   "outputs": [],
   "source": [
    "# max_indices = spec_cluster_dist.argmax(dim=1)\n",
    "# spec_cluster = torch.zeros_like(spec_cluster_dist)\n",
    "# spec_cluster[torch.arange(spec_cluster_dist.size(0)), max_indices] = 1\n",
    "\n",
    "# spec_trn_dist = spec_cluster[:len(train_y)]\n",
    "# spec_tst_dist = spec_cluster[len(train_y):]"
   ]
  },
  {
   "cell_type": "code",
   "execution_count": 9,
   "metadata": {},
   "outputs": [],
   "source": [
    "# spec_feat_cols = [f\"dist_to_spec_cluster_{i}\" for i in range(6)]"
   ]
  },
  {
   "cell_type": "code",
   "execution_count": 12,
   "metadata": {},
   "outputs": [],
   "source": [
    "# spec_trn_feat = pd.DataFrame(spec_trn_dist, columns=spec_feat_cols)\n",
    "# spec_trn_feat['index'] = trn_filenames\n",
    "\n",
    "# spec_trn_feat['index'] = spec_trn_feat['index'].apply(lambda x: x.split(\"/train_X\")[-1].split(\".\")[0]).astype(int)\n",
    "# spec_trn_feat = spec_trn_feat.sort_values(by='index')\n",
    "# spec_trn_feat = spec_trn_feat.drop(columns='index').reset_index(drop=True)"
   ]
  },
  {
   "cell_type": "code",
   "execution_count": 13,
   "metadata": {},
   "outputs": [],
   "source": [
    "# # Add spec cluster into train feature\n",
    "# train_X_full = pd.concat([train_X_full, spec_trn_feat], axis=1)\n",
    "# train_X_1 = pd.concat([train_X_1, spec_trn_feat], axis=1)\n",
    "# train_X_2 = pd.concat([train_X_2, spec_trn_feat], axis=1)"
   ]
  },
  {
   "cell_type": "code",
   "execution_count": 14,
   "metadata": {},
   "outputs": [],
   "source": [
    "# test_X = pd.concat([\n",
    "#     test_X,\n",
    "#     pd.DataFrame(spec_tst_dist, columns=spec_feat_cols)\n",
    "# ], axis=1)"
   ]
  },
  {
   "cell_type": "code",
   "execution_count": 15,
   "metadata": {},
   "outputs": [],
   "source": [
    "# feature_list = pre_feature_list + spec_feat_cols"
   ]
  },
  {
   "cell_type": "markdown",
   "metadata": {},
   "source": [
    "# Prepare labels"
   ]
  },
  {
   "cell_type": "code",
   "execution_count": 16,
   "metadata": {},
   "outputs": [],
   "source": [
    "def get_active_labels_np(row):\n",
    "    \"\"\"More efficient version using numpy\"\"\"\n",
    "    arr = row.to_numpy() # convert to numpy array\n",
    "    indices = np.where(arr == 1)[0] # get indices where value is 1\n",
    "    labels = row.index[indices].tolist() # get labels from indices\n",
    "    return labels\n",
    "\n",
    "labelhir = train_y.apply(get_active_labels_np, axis=1).tolist()"
   ]
  },
  {
   "cell_type": "code",
   "execution_count": 17,
   "metadata": {},
   "outputs": [
    {
     "name": "stderr",
     "output_type": "stream",
     "text": [
      "100%|██████████| 94/94 [00:14<00:00,  6.45it/s]\n"
     ]
    },
    {
     "name": "stdout",
     "output_type": "stream",
     "text": [
      "Level 0\n",
      "[['Active_Power_Sensor', 'Electrical_Power_Sensor'], ['Active_Power_Sensor', 'Power_Sensor'], ['Active_Power_Sensor', 'Sensor'], ['Air_Flow_Sensor', 'Flow_Sensor'], ['Air_Flow_Sensor', 'Sensor'], ['Air_Flow_Setpoint', 'Flow_Setpoint'], ['Air_Flow_Setpoint', 'Setpoint'], ['Air_Temperature_Sensor', 'Sensor'], ['Air_Temperature_Sensor', 'Temperature_Sensor'], ['Air_Temperature_Setpoint', 'Setpoint'], ['Air_Temperature_Setpoint', 'Temperature_Setpoint'], ['Angle_Sensor', 'Sensor'], ['Average_Zone_Air_Temperature_Sensor', 'Air_Temperature_Sensor'], ['Average_Zone_Air_Temperature_Sensor', 'Sensor'], ['Average_Zone_Air_Temperature_Sensor', 'Temperature_Sensor'], ['Average_Zone_Air_Temperature_Sensor', 'Zone_Air_Temperature_Sensor'], ['Chilled_Water_Differential_Temperature_Sensor', 'Sensor'], ['Chilled_Water_Differential_Temperature_Sensor', 'Temperature_Sensor'], ['Chilled_Water_Differential_Temperature_Sensor', 'Water_Temperature_Sensor'], ['Chilled_Water_Return_Temperature_Sensor', 'Return_Water_Temperature_Sensor'], ['Chilled_Water_Return_Temperature_Sensor', 'Sensor'], ['Chilled_Water_Return_Temperature_Sensor', 'Temperature_Sensor'], ['Chilled_Water_Return_Temperature_Sensor', 'Water_Temperature_Sensor'], ['Chilled_Water_Supply_Flow_Sensor', 'Flow_Sensor'], ['Chilled_Water_Supply_Flow_Sensor', 'Sensor'], ['Chilled_Water_Supply_Flow_Sensor', 'Water_Flow_Sensor'], ['Chilled_Water_Supply_Temperature_Sensor', 'Sensor'], ['Chilled_Water_Supply_Temperature_Sensor', 'Temperature_Sensor'], ['Chilled_Water_Supply_Temperature_Sensor', 'Water_Temperature_Sensor'], ['Cooling_Demand_Sensor', 'Active_Power_Sensor'], ['Cooling_Demand_Sensor', 'Air_Flow_Sensor'], ['Cooling_Demand_Sensor', 'Air_Flow_Setpoint'], ['Cooling_Demand_Sensor', 'Air_Temperature_Sensor'], ['Cooling_Demand_Sensor', 'Air_Temperature_Setpoint'], ['Cooling_Demand_Sensor', 'Alarm'], ['Cooling_Demand_Sensor', 'Angle_Sensor'], ['Cooling_Demand_Sensor', 'Average_Zone_Air_Temperature_Sensor'], ['Cooling_Demand_Sensor', 'Chilled_Water_Differential_Temperature_Sensor'], ['Cooling_Demand_Sensor', 'Chilled_Water_Return_Temperature_Sensor'], ['Cooling_Demand_Sensor', 'Chilled_Water_Supply_Flow_Sensor'], ['Cooling_Demand_Sensor', 'Chilled_Water_Supply_Temperature_Sensor'], ['Cooling_Demand_Sensor', 'Command'], ['Cooling_Demand_Sensor', 'Cooling_Demand_Setpoint'], ['Cooling_Demand_Sensor', 'Cooling_Supply_Air_Temperature_Deadband_Setpoint'], ['Cooling_Demand_Sensor', 'Cooling_Temperature_Setpoint'], ['Cooling_Demand_Sensor', 'Current_Sensor'], ['Cooling_Demand_Sensor', 'Damper_Position_Sensor'], ['Cooling_Demand_Sensor', 'Damper_Position_Setpoint'], ['Cooling_Demand_Sensor', 'Demand_Sensor'], ['Cooling_Demand_Sensor', 'Dew_Point_Setpoint'], ['Cooling_Demand_Sensor', 'Differential_Pressure_Sensor'], ['Cooling_Demand_Sensor', 'Differential_Pressure_Setpoint'], ['Cooling_Demand_Sensor', 'Differential_Supply_Return_Water_Temperature_Sensor'], ['Cooling_Demand_Sensor', 'Discharge_Air_Dewpoint_Sensor'], ['Cooling_Demand_Sensor', 'Discharge_Air_Temperature_Sensor'], ['Cooling_Demand_Sensor', 'Discharge_Air_Temperature_Setpoint'], ['Cooling_Demand_Sensor', 'Discharge_Water_Temperature_Sensor'], ['Cooling_Demand_Sensor', 'Duration_Sensor'], ['Cooling_Demand_Sensor', 'Electrical_Power_Sensor'], ['Cooling_Demand_Sensor', 'Energy_Usage_Sensor'], ['Cooling_Demand_Sensor', 'Filter_Differential_Pressure_Sensor'], ['Cooling_Demand_Sensor', 'Flow_Sensor'], ['Cooling_Demand_Sensor', 'Flow_Setpoint'], ['Cooling_Demand_Sensor', 'Frequency_Sensor'], ['Cooling_Demand_Sensor', 'Heating_Demand_Sensor'], ['Cooling_Demand_Sensor', 'Heating_Demand_Setpoint'], ['Cooling_Demand_Sensor', 'Heating_Supply_Air_Temperature_Deadband_Setpoint'], ['Cooling_Demand_Sensor', 'Heating_Temperature_Setpoint'], ['Cooling_Demand_Sensor', 'Hot_Water_Flow_Sensor'], ['Cooling_Demand_Sensor', 'Hot_Water_Return_Temperature_Sensor'], ['Cooling_Demand_Sensor', 'Hot_Water_Supply_Temperature_Sensor'], ['Cooling_Demand_Sensor', 'Humidity_Setpoint'], ['Cooling_Demand_Sensor', 'Load_Current_Sensor'], ['Cooling_Demand_Sensor', 'Low_Outside_Air_Temperature_Enable_Setpoint'], ['Cooling_Demand_Sensor', 'Max_Air_Temperature_Setpoint'], ['Cooling_Demand_Sensor', 'Min_Air_Temperature_Setpoint'], ['Cooling_Demand_Sensor', 'Outside_Air_CO2_Sensor'], ['Cooling_Demand_Sensor', 'Outside_Air_Enthalpy_Sensor'], ['Cooling_Demand_Sensor', 'Outside_Air_Humidity_Sensor'], ['Cooling_Demand_Sensor', 'Outside_Air_Lockout_Temperature_Setpoint'], ['Cooling_Demand_Sensor', 'Outside_Air_Temperature_Sensor'], ['Cooling_Demand_Sensor', 'Outside_Air_Temperature_Setpoint'], ['Cooling_Demand_Sensor', 'Parameter'], ['Cooling_Demand_Sensor', 'Peak_Power_Demand_Sensor'], ['Cooling_Demand_Sensor', 'Position_Sensor'], ['Cooling_Demand_Sensor', 'Power_Sensor'], ['Cooling_Demand_Sensor', 'Pressure_Sensor'], ['Cooling_Demand_Sensor', 'Rain_Sensor'], ['Cooling_Demand_Sensor', 'Reactive_Power_Sensor'], ['Cooling_Demand_Sensor', 'Reset_Setpoint'], ['Cooling_Demand_Sensor', 'Return_Air_Temperature_Sensor'], ['Cooling_Demand_Sensor', 'Return_Water_Temperature_Sensor'], ['Cooling_Demand_Sensor', 'Room_Air_Temperature_Setpoint'], ['Cooling_Demand_Sensor', 'Sensor'], ['Cooling_Demand_Sensor', 'Setpoint'], ['Cooling_Demand_Sensor', 'Solar_Radiance_Sensor'], ['Cooling_Demand_Sensor', 'Speed_Setpoint'], ['Cooling_Demand_Sensor', 'Static_Pressure_Sensor'], ['Cooling_Demand_Sensor', 'Static_Pressure_Setpoint'], ['Cooling_Demand_Sensor', 'Status'], ['Cooling_Demand_Sensor', 'Supply_Air_Humidity_Sensor'], ['Cooling_Demand_Sensor', 'Supply_Air_Static_Pressure_Sensor'], ['Cooling_Demand_Sensor', 'Supply_Air_Static_Pressure_Setpoint'], ['Cooling_Demand_Sensor', 'Supply_Air_Temperature_Sensor'], ['Cooling_Demand_Sensor', 'Supply_Air_Temperature_Setpoint'], ['Cooling_Demand_Sensor', 'Temperature_Sensor'], ['Cooling_Demand_Sensor', 'Temperature_Setpoint'], ['Cooling_Demand_Sensor', 'Thermal_Power_Sensor'], ['Cooling_Demand_Sensor', 'Time_Setpoint'], ['Cooling_Demand_Sensor', 'Usage_Sensor'], ['Cooling_Demand_Sensor', 'Valve_Position_Sensor'], ['Cooling_Demand_Sensor', 'Voltage_Sensor'], ['Cooling_Demand_Sensor', 'Warmest_Zone_Air_Temperature_Sensor'], ['Cooling_Demand_Sensor', 'Water_Flow_Sensor'], ['Cooling_Demand_Sensor', 'Water_Temperature_Sensor'], ['Cooling_Demand_Sensor', 'Water_Temperature_Setpoint'], ['Cooling_Demand_Sensor', 'Wind_Direction_Sensor'], ['Cooling_Demand_Sensor', 'Wind_Speed_Sensor'], ['Cooling_Demand_Sensor', 'Zone_Air_Dewpoint_Sensor'], ['Cooling_Demand_Sensor', 'Zone_Air_Humidity_Sensor'], ['Cooling_Demand_Sensor', 'Zone_Air_Humidity_Setpoint'], ['Cooling_Demand_Sensor', 'Zone_Air_Temperature_Sensor'], ['Cooling_Demand_Setpoint', 'Setpoint'], ['Cooling_Supply_Air_Temperature_Deadband_Setpoint', 'Air_Temperature_Setpoint'], ['Cooling_Supply_Air_Temperature_Deadband_Setpoint', 'Cooling_Temperature_Setpoint'], ['Cooling_Supply_Air_Temperature_Deadband_Setpoint', 'Setpoint'], ['Cooling_Supply_Air_Temperature_Deadband_Setpoint', 'Temperature_Setpoint'], ['Cooling_Temperature_Setpoint', 'Setpoint'], ['Cooling_Temperature_Setpoint', 'Temperature_Setpoint'], ['Current_Sensor', 'Sensor'], ['Damper_Position_Sensor', 'Position_Sensor'], ['Damper_Position_Sensor', 'Sensor'], ['Damper_Position_Setpoint', 'Setpoint'], ['Demand_Sensor', 'Sensor'], ['Dew_Point_Setpoint', 'Setpoint'], ['Differential_Pressure_Sensor', 'Pressure_Sensor'], ['Differential_Pressure_Sensor', 'Sensor'], ['Differential_Pressure_Setpoint', 'Setpoint'], ['Differential_Supply_Return_Water_Temperature_Sensor', 'Return_Water_Temperature_Sensor'], ['Differential_Supply_Return_Water_Temperature_Sensor', 'Sensor'], ['Differential_Supply_Return_Water_Temperature_Sensor', 'Temperature_Sensor'], ['Differential_Supply_Return_Water_Temperature_Sensor', 'Water_Temperature_Sensor'], ['Discharge_Air_Dewpoint_Sensor', 'Sensor'], ['Discharge_Air_Temperature_Sensor', 'Air_Temperature_Sensor'], ['Discharge_Air_Temperature_Sensor', 'Sensor'], ['Discharge_Air_Temperature_Sensor', 'Temperature_Sensor'], ['Discharge_Air_Temperature_Setpoint', 'Air_Temperature_Setpoint'], ['Discharge_Air_Temperature_Setpoint', 'Setpoint'], ['Discharge_Air_Temperature_Setpoint', 'Temperature_Setpoint'], ['Discharge_Water_Temperature_Sensor', 'Sensor'], ['Discharge_Water_Temperature_Sensor', 'Temperature_Sensor'], ['Discharge_Water_Temperature_Sensor', 'Water_Temperature_Sensor'], ['Duration_Sensor', 'Sensor'], ['Electrical_Power_Sensor', 'Power_Sensor'], ['Electrical_Power_Sensor', 'Sensor'], ['Energy_Usage_Sensor', 'Sensor'], ['Energy_Usage_Sensor', 'Usage_Sensor'], ['Filter_Differential_Pressure_Sensor', 'Differential_Pressure_Sensor'], ['Filter_Differential_Pressure_Sensor', 'Pressure_Sensor'], ['Filter_Differential_Pressure_Sensor', 'Sensor'], ['Flow_Sensor', 'Sensor'], ['Flow_Setpoint', 'Setpoint'], ['Frequency_Sensor', 'Sensor'], ['Heating_Demand_Sensor', 'Active_Power_Sensor'], ['Heating_Demand_Sensor', 'Air_Flow_Sensor'], ['Heating_Demand_Sensor', 'Air_Flow_Setpoint'], ['Heating_Demand_Sensor', 'Air_Temperature_Sensor'], ['Heating_Demand_Sensor', 'Air_Temperature_Setpoint'], ['Heating_Demand_Sensor', 'Alarm'], ['Heating_Demand_Sensor', 'Angle_Sensor'], ['Heating_Demand_Sensor', 'Average_Zone_Air_Temperature_Sensor'], ['Heating_Demand_Sensor', 'Chilled_Water_Differential_Temperature_Sensor'], ['Heating_Demand_Sensor', 'Chilled_Water_Return_Temperature_Sensor'], ['Heating_Demand_Sensor', 'Chilled_Water_Supply_Flow_Sensor'], ['Heating_Demand_Sensor', 'Chilled_Water_Supply_Temperature_Sensor'], ['Heating_Demand_Sensor', 'Command'], ['Heating_Demand_Sensor', 'Cooling_Demand_Sensor'], ['Heating_Demand_Sensor', 'Cooling_Demand_Setpoint'], ['Heating_Demand_Sensor', 'Cooling_Supply_Air_Temperature_Deadband_Setpoint'], ['Heating_Demand_Sensor', 'Cooling_Temperature_Setpoint'], ['Heating_Demand_Sensor', 'Current_Sensor'], ['Heating_Demand_Sensor', 'Damper_Position_Sensor'], ['Heating_Demand_Sensor', 'Damper_Position_Setpoint'], ['Heating_Demand_Sensor', 'Demand_Sensor'], ['Heating_Demand_Sensor', 'Dew_Point_Setpoint'], ['Heating_Demand_Sensor', 'Differential_Pressure_Sensor'], ['Heating_Demand_Sensor', 'Differential_Pressure_Setpoint'], ['Heating_Demand_Sensor', 'Differential_Supply_Return_Water_Temperature_Sensor'], ['Heating_Demand_Sensor', 'Discharge_Air_Dewpoint_Sensor'], ['Heating_Demand_Sensor', 'Discharge_Air_Temperature_Sensor'], ['Heating_Demand_Sensor', 'Discharge_Air_Temperature_Setpoint'], ['Heating_Demand_Sensor', 'Discharge_Water_Temperature_Sensor'], ['Heating_Demand_Sensor', 'Duration_Sensor'], ['Heating_Demand_Sensor', 'Electrical_Power_Sensor'], ['Heating_Demand_Sensor', 'Energy_Usage_Sensor'], ['Heating_Demand_Sensor', 'Filter_Differential_Pressure_Sensor'], ['Heating_Demand_Sensor', 'Flow_Sensor'], ['Heating_Demand_Sensor', 'Flow_Setpoint'], ['Heating_Demand_Sensor', 'Frequency_Sensor'], ['Heating_Demand_Sensor', 'Heating_Demand_Setpoint'], ['Heating_Demand_Sensor', 'Heating_Supply_Air_Temperature_Deadband_Setpoint'], ['Heating_Demand_Sensor', 'Heating_Temperature_Setpoint'], ['Heating_Demand_Sensor', 'Hot_Water_Flow_Sensor'], ['Heating_Demand_Sensor', 'Hot_Water_Return_Temperature_Sensor'], ['Heating_Demand_Sensor', 'Hot_Water_Supply_Temperature_Sensor'], ['Heating_Demand_Sensor', 'Humidity_Setpoint'], ['Heating_Demand_Sensor', 'Load_Current_Sensor'], ['Heating_Demand_Sensor', 'Low_Outside_Air_Temperature_Enable_Setpoint'], ['Heating_Demand_Sensor', 'Max_Air_Temperature_Setpoint'], ['Heating_Demand_Sensor', 'Min_Air_Temperature_Setpoint'], ['Heating_Demand_Sensor', 'Outside_Air_CO2_Sensor'], ['Heating_Demand_Sensor', 'Outside_Air_Enthalpy_Sensor'], ['Heating_Demand_Sensor', 'Outside_Air_Humidity_Sensor'], ['Heating_Demand_Sensor', 'Outside_Air_Lockout_Temperature_Setpoint'], ['Heating_Demand_Sensor', 'Outside_Air_Temperature_Sensor'], ['Heating_Demand_Sensor', 'Outside_Air_Temperature_Setpoint'], ['Heating_Demand_Sensor', 'Parameter'], ['Heating_Demand_Sensor', 'Peak_Power_Demand_Sensor'], ['Heating_Demand_Sensor', 'Position_Sensor'], ['Heating_Demand_Sensor', 'Power_Sensor'], ['Heating_Demand_Sensor', 'Pressure_Sensor'], ['Heating_Demand_Sensor', 'Rain_Sensor'], ['Heating_Demand_Sensor', 'Reactive_Power_Sensor'], ['Heating_Demand_Sensor', 'Reset_Setpoint'], ['Heating_Demand_Sensor', 'Return_Air_Temperature_Sensor'], ['Heating_Demand_Sensor', 'Return_Water_Temperature_Sensor'], ['Heating_Demand_Sensor', 'Room_Air_Temperature_Setpoint'], ['Heating_Demand_Sensor', 'Sensor'], ['Heating_Demand_Sensor', 'Setpoint'], ['Heating_Demand_Sensor', 'Solar_Radiance_Sensor'], ['Heating_Demand_Sensor', 'Speed_Setpoint'], ['Heating_Demand_Sensor', 'Static_Pressure_Sensor'], ['Heating_Demand_Sensor', 'Static_Pressure_Setpoint'], ['Heating_Demand_Sensor', 'Status'], ['Heating_Demand_Sensor', 'Supply_Air_Humidity_Sensor'], ['Heating_Demand_Sensor', 'Supply_Air_Static_Pressure_Sensor'], ['Heating_Demand_Sensor', 'Supply_Air_Static_Pressure_Setpoint'], ['Heating_Demand_Sensor', 'Supply_Air_Temperature_Sensor'], ['Heating_Demand_Sensor', 'Supply_Air_Temperature_Setpoint'], ['Heating_Demand_Sensor', 'Temperature_Sensor'], ['Heating_Demand_Sensor', 'Temperature_Setpoint'], ['Heating_Demand_Sensor', 'Thermal_Power_Sensor'], ['Heating_Demand_Sensor', 'Time_Setpoint'], ['Heating_Demand_Sensor', 'Usage_Sensor'], ['Heating_Demand_Sensor', 'Valve_Position_Sensor'], ['Heating_Demand_Sensor', 'Voltage_Sensor'], ['Heating_Demand_Sensor', 'Warmest_Zone_Air_Temperature_Sensor'], ['Heating_Demand_Sensor', 'Water_Flow_Sensor'], ['Heating_Demand_Sensor', 'Water_Temperature_Sensor'], ['Heating_Demand_Sensor', 'Water_Temperature_Setpoint'], ['Heating_Demand_Sensor', 'Wind_Direction_Sensor'], ['Heating_Demand_Sensor', 'Wind_Speed_Sensor'], ['Heating_Demand_Sensor', 'Zone_Air_Dewpoint_Sensor'], ['Heating_Demand_Sensor', 'Zone_Air_Humidity_Sensor'], ['Heating_Demand_Sensor', 'Zone_Air_Humidity_Setpoint'], ['Heating_Demand_Sensor', 'Zone_Air_Temperature_Sensor'], ['Heating_Demand_Setpoint', 'Setpoint'], ['Heating_Supply_Air_Temperature_Deadband_Setpoint', 'Air_Temperature_Setpoint'], ['Heating_Supply_Air_Temperature_Deadband_Setpoint', 'Heating_Temperature_Setpoint'], ['Heating_Supply_Air_Temperature_Deadband_Setpoint', 'Setpoint'], ['Heating_Supply_Air_Temperature_Deadband_Setpoint', 'Temperature_Setpoint'], ['Heating_Temperature_Setpoint', 'Setpoint'], ['Heating_Temperature_Setpoint', 'Temperature_Setpoint'], ['Hot_Water_Flow_Sensor', 'Flow_Sensor'], ['Hot_Water_Flow_Sensor', 'Sensor'], ['Hot_Water_Flow_Sensor', 'Water_Flow_Sensor'], ['Hot_Water_Return_Temperature_Sensor', 'Return_Water_Temperature_Sensor'], ['Hot_Water_Return_Temperature_Sensor', 'Sensor'], ['Hot_Water_Return_Temperature_Sensor', 'Temperature_Sensor'], ['Hot_Water_Return_Temperature_Sensor', 'Water_Temperature_Sensor'], ['Hot_Water_Supply_Temperature_Sensor', 'Sensor'], ['Hot_Water_Supply_Temperature_Sensor', 'Temperature_Sensor'], ['Hot_Water_Supply_Temperature_Sensor', 'Water_Temperature_Sensor'], ['Humidity_Setpoint', 'Setpoint'], ['Load_Current_Sensor', 'Current_Sensor'], ['Load_Current_Sensor', 'Sensor'], ['Low_Outside_Air_Temperature_Enable_Setpoint', 'Air_Temperature_Setpoint'], ['Low_Outside_Air_Temperature_Enable_Setpoint', 'Outside_Air_Temperature_Setpoint'], ['Low_Outside_Air_Temperature_Enable_Setpoint', 'Setpoint'], ['Low_Outside_Air_Temperature_Enable_Setpoint', 'Temperature_Setpoint'], ['Max_Air_Temperature_Setpoint', 'Air_Temperature_Setpoint'], ['Max_Air_Temperature_Setpoint', 'Setpoint'], ['Max_Air_Temperature_Setpoint', 'Temperature_Setpoint'], ['Min_Air_Temperature_Setpoint', 'Air_Temperature_Setpoint'], ['Min_Air_Temperature_Setpoint', 'Setpoint'], ['Min_Air_Temperature_Setpoint', 'Temperature_Setpoint'], ['Outside_Air_CO2_Sensor', 'Sensor'], ['Outside_Air_Enthalpy_Sensor', 'Sensor'], ['Outside_Air_Humidity_Sensor', 'Sensor'], ['Outside_Air_Lockout_Temperature_Setpoint', 'Air_Temperature_Setpoint'], ['Outside_Air_Lockout_Temperature_Setpoint', 'Outside_Air_Temperature_Setpoint'], ['Outside_Air_Lockout_Temperature_Setpoint', 'Setpoint'], ['Outside_Air_Lockout_Temperature_Setpoint', 'Temperature_Setpoint'], ['Outside_Air_Temperature_Sensor', 'Air_Temperature_Sensor'], ['Outside_Air_Temperature_Sensor', 'Sensor'], ['Outside_Air_Temperature_Sensor', 'Temperature_Sensor'], ['Outside_Air_Temperature_Setpoint', 'Air_Temperature_Setpoint'], ['Outside_Air_Temperature_Setpoint', 'Setpoint'], ['Outside_Air_Temperature_Setpoint', 'Temperature_Setpoint'], ['Peak_Power_Demand_Sensor', 'Demand_Sensor'], ['Peak_Power_Demand_Sensor', 'Electrical_Power_Sensor'], ['Peak_Power_Demand_Sensor', 'Power_Sensor'], ['Peak_Power_Demand_Sensor', 'Sensor'], ['Position_Sensor', 'Sensor'], ['Power_Sensor', 'Sensor'], ['Pressure_Sensor', 'Sensor'], ['Rain_Sensor', 'Sensor'], ['Reactive_Power_Sensor', 'Electrical_Power_Sensor'], ['Reactive_Power_Sensor', 'Power_Sensor'], ['Reactive_Power_Sensor', 'Sensor'], ['Reset_Setpoint', 'Setpoint'], ['Return_Air_Temperature_Sensor', 'Air_Temperature_Sensor'], ['Return_Air_Temperature_Sensor', 'Sensor'], ['Return_Air_Temperature_Sensor', 'Temperature_Sensor'], ['Return_Water_Temperature_Sensor', 'Sensor'], ['Return_Water_Temperature_Sensor', 'Temperature_Sensor'], ['Return_Water_Temperature_Sensor', 'Water_Temperature_Sensor'], ['Room_Air_Temperature_Setpoint', 'Air_Temperature_Setpoint'], ['Room_Air_Temperature_Setpoint', 'Setpoint'], ['Room_Air_Temperature_Setpoint', 'Temperature_Setpoint'], ['Solar_Radiance_Sensor', 'Sensor'], ['Speed_Setpoint', 'Setpoint'], ['Static_Pressure_Sensor', 'Pressure_Sensor'], ['Static_Pressure_Sensor', 'Sensor'], ['Static_Pressure_Setpoint', 'Setpoint'], ['Supply_Air_Humidity_Sensor', 'Sensor'], ['Supply_Air_Static_Pressure_Sensor', 'Pressure_Sensor'], ['Supply_Air_Static_Pressure_Sensor', 'Sensor'], ['Supply_Air_Static_Pressure_Sensor', 'Static_Pressure_Sensor'], ['Supply_Air_Static_Pressure_Setpoint', 'Setpoint'], ['Supply_Air_Static_Pressure_Setpoint', 'Static_Pressure_Setpoint'], ['Supply_Air_Temperature_Sensor', 'Air_Temperature_Sensor'], ['Supply_Air_Temperature_Sensor', 'Sensor'], ['Supply_Air_Temperature_Sensor', 'Temperature_Sensor'], ['Supply_Air_Temperature_Setpoint', 'Air_Temperature_Setpoint'], ['Supply_Air_Temperature_Setpoint', 'Setpoint'], ['Supply_Air_Temperature_Setpoint', 'Temperature_Setpoint'], ['Temperature_Sensor', 'Sensor'], ['Temperature_Setpoint', 'Setpoint'], ['Thermal_Power_Sensor', 'Power_Sensor'], ['Thermal_Power_Sensor', 'Sensor'], ['Time_Setpoint', 'Setpoint'], ['Usage_Sensor', 'Sensor'], ['Valve_Position_Sensor', 'Position_Sensor'], ['Valve_Position_Sensor', 'Sensor'], ['Voltage_Sensor', 'Sensor'], ['Warmest_Zone_Air_Temperature_Sensor', 'Air_Temperature_Sensor'], ['Warmest_Zone_Air_Temperature_Sensor', 'Sensor'], ['Warmest_Zone_Air_Temperature_Sensor', 'Temperature_Sensor'], ['Warmest_Zone_Air_Temperature_Sensor', 'Zone_Air_Temperature_Sensor'], ['Water_Flow_Sensor', 'Flow_Sensor'], ['Water_Flow_Sensor', 'Sensor'], ['Water_Temperature_Sensor', 'Sensor'], ['Water_Temperature_Sensor', 'Temperature_Sensor'], ['Water_Temperature_Setpoint', 'Setpoint'], ['Water_Temperature_Setpoint', 'Temperature_Setpoint'], ['Wind_Direction_Sensor', 'Sensor'], ['Wind_Speed_Sensor', 'Sensor'], ['Zone_Air_Dewpoint_Sensor', 'Sensor'], ['Zone_Air_Humidity_Sensor', 'Sensor'], ['Zone_Air_Humidity_Setpoint', 'Humidity_Setpoint'], ['Zone_Air_Humidity_Setpoint', 'Setpoint'], ['Zone_Air_Temperature_Sensor', 'Air_Temperature_Sensor'], ['Zone_Air_Temperature_Sensor', 'Sensor'], ['Zone_Air_Temperature_Sensor', 'Temperature_Sensor']]\n",
      "{'Heating_Demand_Setpoint', 'Water_Temperature_Setpoint', 'Temperature_Setpoint', 'Min_Air_Temperature_Setpoint', 'Discharge_Water_Temperature_Sensor', 'Flow_Setpoint', 'Outside_Air_Temperature_Sensor', 'Dew_Point_Setpoint', 'Humidity_Setpoint', 'Low_Outside_Air_Temperature_Enable_Setpoint', 'Load_Current_Sensor', 'Outside_Air_Humidity_Sensor', 'Heating_Temperature_Setpoint', 'Hot_Water_Flow_Sensor', 'Supply_Air_Temperature_Sensor', 'Air_Temperature_Setpoint', 'Reactive_Power_Sensor', 'Static_Pressure_Sensor', 'Supply_Air_Static_Pressure_Sensor', 'Discharge_Air_Temperature_Sensor', 'Frequency_Sensor', 'Damper_Position_Setpoint', 'Valve_Position_Sensor', 'Hot_Water_Return_Temperature_Sensor', 'Differential_Pressure_Sensor', 'Differential_Pressure_Setpoint', 'Supply_Air_Temperature_Setpoint', 'Chilled_Water_Supply_Flow_Sensor', 'Peak_Power_Demand_Sensor', 'Outside_Air_CO2_Sensor', 'Usage_Sensor', 'Max_Air_Temperature_Setpoint', 'Air_Flow_Sensor', 'Discharge_Air_Dewpoint_Sensor', 'Average_Zone_Air_Temperature_Sensor', 'Water_Flow_Sensor', 'Supply_Air_Humidity_Sensor', 'Zone_Air_Humidity_Sensor', 'Zone_Air_Temperature_Sensor', 'Heating_Supply_Air_Temperature_Deadband_Setpoint', 'Zone_Air_Dewpoint_Sensor', 'Rain_Sensor', 'Hot_Water_Supply_Temperature_Sensor', 'Energy_Usage_Sensor', 'Supply_Air_Static_Pressure_Setpoint', 'Thermal_Power_Sensor', 'Air_Temperature_Sensor', 'Solar_Radiance_Sensor', 'Wind_Speed_Sensor', 'Filter_Differential_Pressure_Sensor', 'Outside_Air_Lockout_Temperature_Setpoint', 'Wind_Direction_Sensor', 'Speed_Setpoint', 'Room_Air_Temperature_Setpoint', 'Damper_Position_Sensor', 'Electrical_Power_Sensor', 'Static_Pressure_Setpoint', 'Voltage_Sensor', 'Chilled_Water_Supply_Temperature_Sensor', 'Reset_Setpoint', 'Pressure_Sensor', 'Warmest_Zone_Air_Temperature_Sensor', 'Flow_Sensor', 'Current_Sensor', 'Time_Setpoint', 'Cooling_Supply_Air_Temperature_Deadband_Setpoint', 'Air_Flow_Setpoint', 'Outside_Air_Enthalpy_Sensor', 'Angle_Sensor', 'Zone_Air_Humidity_Setpoint', 'Cooling_Demand_Sensor', 'Discharge_Air_Temperature_Setpoint', 'Temperature_Sensor', 'Outside_Air_Temperature_Setpoint', 'Power_Sensor', 'Position_Sensor', 'Demand_Sensor', 'Cooling_Temperature_Setpoint', 'Heating_Demand_Sensor', 'Cooling_Demand_Setpoint', 'Differential_Supply_Return_Water_Temperature_Sensor', 'Water_Temperature_Sensor', 'Return_Air_Temperature_Sensor', 'Chilled_Water_Return_Temperature_Sensor', 'Return_Water_Temperature_Sensor', 'Active_Power_Sensor', 'Duration_Sensor', 'Chilled_Water_Differential_Temperature_Sensor'}\n",
      "\n"
     ]
    },
    {
     "name": "stderr",
     "output_type": "stream",
     "text": [
      "100%|██████████| 88/88 [00:11<00:00,  7.60it/s]\n"
     ]
    },
    {
     "name": "stdout",
     "output_type": "stream",
     "text": [
      "Level 1\n",
      "[['Water_Temperature_Setpoint', 'Temperature_Setpoint'], ['Min_Air_Temperature_Setpoint', 'Temperature_Setpoint'], ['Min_Air_Temperature_Setpoint', 'Air_Temperature_Setpoint'], ['Discharge_Water_Temperature_Sensor', 'Temperature_Sensor'], ['Discharge_Water_Temperature_Sensor', 'Water_Temperature_Sensor'], ['Outside_Air_Temperature_Sensor', 'Air_Temperature_Sensor'], ['Outside_Air_Temperature_Sensor', 'Temperature_Sensor'], ['Low_Outside_Air_Temperature_Enable_Setpoint', 'Temperature_Setpoint'], ['Low_Outside_Air_Temperature_Enable_Setpoint', 'Air_Temperature_Setpoint'], ['Low_Outside_Air_Temperature_Enable_Setpoint', 'Outside_Air_Temperature_Setpoint'], ['Load_Current_Sensor', 'Current_Sensor'], ['Heating_Temperature_Setpoint', 'Temperature_Setpoint'], ['Hot_Water_Flow_Sensor', 'Water_Flow_Sensor'], ['Hot_Water_Flow_Sensor', 'Flow_Sensor'], ['Supply_Air_Temperature_Sensor', 'Air_Temperature_Sensor'], ['Supply_Air_Temperature_Sensor', 'Temperature_Sensor'], ['Air_Temperature_Setpoint', 'Temperature_Setpoint'], ['Reactive_Power_Sensor', 'Electrical_Power_Sensor'], ['Reactive_Power_Sensor', 'Power_Sensor'], ['Static_Pressure_Sensor', 'Pressure_Sensor'], ['Supply_Air_Static_Pressure_Sensor', 'Static_Pressure_Sensor'], ['Supply_Air_Static_Pressure_Sensor', 'Pressure_Sensor'], ['Discharge_Air_Temperature_Sensor', 'Air_Temperature_Sensor'], ['Discharge_Air_Temperature_Sensor', 'Temperature_Sensor'], ['Valve_Position_Sensor', 'Position_Sensor'], ['Hot_Water_Return_Temperature_Sensor', 'Temperature_Sensor'], ['Hot_Water_Return_Temperature_Sensor', 'Water_Temperature_Sensor'], ['Hot_Water_Return_Temperature_Sensor', 'Return_Water_Temperature_Sensor'], ['Differential_Pressure_Sensor', 'Pressure_Sensor'], ['Supply_Air_Temperature_Setpoint', 'Temperature_Setpoint'], ['Supply_Air_Temperature_Setpoint', 'Air_Temperature_Setpoint'], ['Chilled_Water_Supply_Flow_Sensor', 'Water_Flow_Sensor'], ['Chilled_Water_Supply_Flow_Sensor', 'Flow_Sensor'], ['Peak_Power_Demand_Sensor', 'Electrical_Power_Sensor'], ['Peak_Power_Demand_Sensor', 'Power_Sensor'], ['Peak_Power_Demand_Sensor', 'Demand_Sensor'], ['Max_Air_Temperature_Setpoint', 'Temperature_Setpoint'], ['Max_Air_Temperature_Setpoint', 'Air_Temperature_Setpoint'], ['Air_Flow_Sensor', 'Flow_Sensor'], ['Average_Zone_Air_Temperature_Sensor', 'Zone_Air_Temperature_Sensor'], ['Average_Zone_Air_Temperature_Sensor', 'Air_Temperature_Sensor'], ['Average_Zone_Air_Temperature_Sensor', 'Temperature_Sensor'], ['Water_Flow_Sensor', 'Flow_Sensor'], ['Zone_Air_Temperature_Sensor', 'Air_Temperature_Sensor'], ['Zone_Air_Temperature_Sensor', 'Temperature_Sensor'], ['Heating_Supply_Air_Temperature_Deadband_Setpoint', 'Temperature_Setpoint'], ['Heating_Supply_Air_Temperature_Deadband_Setpoint', 'Heating_Temperature_Setpoint'], ['Heating_Supply_Air_Temperature_Deadband_Setpoint', 'Air_Temperature_Setpoint'], ['Hot_Water_Supply_Temperature_Sensor', 'Temperature_Sensor'], ['Hot_Water_Supply_Temperature_Sensor', 'Water_Temperature_Sensor'], ['Energy_Usage_Sensor', 'Usage_Sensor'], ['Supply_Air_Static_Pressure_Setpoint', 'Static_Pressure_Setpoint'], ['Thermal_Power_Sensor', 'Power_Sensor'], ['Air_Temperature_Sensor', 'Temperature_Sensor'], ['Filter_Differential_Pressure_Sensor', 'Differential_Pressure_Sensor'], ['Filter_Differential_Pressure_Sensor', 'Pressure_Sensor'], ['Outside_Air_Lockout_Temperature_Setpoint', 'Temperature_Setpoint'], ['Outside_Air_Lockout_Temperature_Setpoint', 'Air_Temperature_Setpoint'], ['Outside_Air_Lockout_Temperature_Setpoint', 'Outside_Air_Temperature_Setpoint'], ['Room_Air_Temperature_Setpoint', 'Temperature_Setpoint'], ['Room_Air_Temperature_Setpoint', 'Air_Temperature_Setpoint'], ['Damper_Position_Sensor', 'Position_Sensor'], ['Electrical_Power_Sensor', 'Power_Sensor'], ['Chilled_Water_Supply_Temperature_Sensor', 'Temperature_Sensor'], ['Chilled_Water_Supply_Temperature_Sensor', 'Water_Temperature_Sensor'], ['Warmest_Zone_Air_Temperature_Sensor', 'Zone_Air_Temperature_Sensor'], ['Warmest_Zone_Air_Temperature_Sensor', 'Air_Temperature_Sensor'], ['Warmest_Zone_Air_Temperature_Sensor', 'Temperature_Sensor'], ['Cooling_Supply_Air_Temperature_Deadband_Setpoint', 'Temperature_Setpoint'], ['Cooling_Supply_Air_Temperature_Deadband_Setpoint', 'Air_Temperature_Setpoint'], ['Cooling_Supply_Air_Temperature_Deadband_Setpoint', 'Cooling_Temperature_Setpoint'], ['Air_Flow_Setpoint', 'Flow_Setpoint'], ['Zone_Air_Humidity_Setpoint', 'Humidity_Setpoint'], ['Cooling_Demand_Sensor', 'Heating_Demand_Setpoint'], ['Cooling_Demand_Sensor', 'Water_Temperature_Setpoint'], ['Cooling_Demand_Sensor', 'Temperature_Setpoint'], ['Cooling_Demand_Sensor', 'Min_Air_Temperature_Setpoint'], ['Cooling_Demand_Sensor', 'Discharge_Water_Temperature_Sensor'], ['Cooling_Demand_Sensor', 'Flow_Setpoint'], ['Cooling_Demand_Sensor', 'Outside_Air_Temperature_Sensor'], ['Cooling_Demand_Sensor', 'Dew_Point_Setpoint'], ['Cooling_Demand_Sensor', 'Humidity_Setpoint'], ['Cooling_Demand_Sensor', 'Low_Outside_Air_Temperature_Enable_Setpoint'], ['Cooling_Demand_Sensor', 'Load_Current_Sensor'], ['Cooling_Demand_Sensor', 'Outside_Air_Humidity_Sensor'], ['Cooling_Demand_Sensor', 'Heating_Temperature_Setpoint'], ['Cooling_Demand_Sensor', 'Hot_Water_Flow_Sensor'], ['Cooling_Demand_Sensor', 'Supply_Air_Temperature_Sensor'], ['Cooling_Demand_Sensor', 'Air_Temperature_Setpoint'], ['Cooling_Demand_Sensor', 'Reactive_Power_Sensor'], ['Cooling_Demand_Sensor', 'Static_Pressure_Sensor'], ['Cooling_Demand_Sensor', 'Supply_Air_Static_Pressure_Sensor'], ['Cooling_Demand_Sensor', 'Discharge_Air_Temperature_Sensor'], ['Cooling_Demand_Sensor', 'Frequency_Sensor'], ['Cooling_Demand_Sensor', 'Damper_Position_Setpoint'], ['Cooling_Demand_Sensor', 'Valve_Position_Sensor'], ['Cooling_Demand_Sensor', 'Hot_Water_Return_Temperature_Sensor'], ['Cooling_Demand_Sensor', 'Differential_Pressure_Sensor'], ['Cooling_Demand_Sensor', 'Differential_Pressure_Setpoint'], ['Cooling_Demand_Sensor', 'Supply_Air_Temperature_Setpoint'], ['Cooling_Demand_Sensor', 'Chilled_Water_Supply_Flow_Sensor'], ['Cooling_Demand_Sensor', 'Peak_Power_Demand_Sensor'], ['Cooling_Demand_Sensor', 'Outside_Air_CO2_Sensor'], ['Cooling_Demand_Sensor', 'Usage_Sensor'], ['Cooling_Demand_Sensor', 'Max_Air_Temperature_Setpoint'], ['Cooling_Demand_Sensor', 'Air_Flow_Sensor'], ['Cooling_Demand_Sensor', 'Discharge_Air_Dewpoint_Sensor'], ['Cooling_Demand_Sensor', 'Average_Zone_Air_Temperature_Sensor'], ['Cooling_Demand_Sensor', 'Water_Flow_Sensor'], ['Cooling_Demand_Sensor', 'Supply_Air_Humidity_Sensor'], ['Cooling_Demand_Sensor', 'Zone_Air_Humidity_Sensor'], ['Cooling_Demand_Sensor', 'Zone_Air_Temperature_Sensor'], ['Cooling_Demand_Sensor', 'Heating_Supply_Air_Temperature_Deadband_Setpoint'], ['Cooling_Demand_Sensor', 'Zone_Air_Dewpoint_Sensor'], ['Cooling_Demand_Sensor', 'Rain_Sensor'], ['Cooling_Demand_Sensor', 'Hot_Water_Supply_Temperature_Sensor'], ['Cooling_Demand_Sensor', 'Energy_Usage_Sensor'], ['Cooling_Demand_Sensor', 'Supply_Air_Static_Pressure_Setpoint'], ['Cooling_Demand_Sensor', 'Thermal_Power_Sensor'], ['Cooling_Demand_Sensor', 'Air_Temperature_Sensor'], ['Cooling_Demand_Sensor', 'Solar_Radiance_Sensor'], ['Cooling_Demand_Sensor', 'Wind_Speed_Sensor'], ['Cooling_Demand_Sensor', 'Filter_Differential_Pressure_Sensor'], ['Cooling_Demand_Sensor', 'Outside_Air_Lockout_Temperature_Setpoint'], ['Cooling_Demand_Sensor', 'Wind_Direction_Sensor'], ['Cooling_Demand_Sensor', 'Speed_Setpoint'], ['Cooling_Demand_Sensor', 'Room_Air_Temperature_Setpoint'], ['Cooling_Demand_Sensor', 'Damper_Position_Sensor'], ['Cooling_Demand_Sensor', 'Electrical_Power_Sensor'], ['Cooling_Demand_Sensor', 'Static_Pressure_Setpoint'], ['Cooling_Demand_Sensor', 'Voltage_Sensor'], ['Cooling_Demand_Sensor', 'Chilled_Water_Supply_Temperature_Sensor'], ['Cooling_Demand_Sensor', 'Reset_Setpoint'], ['Cooling_Demand_Sensor', 'Pressure_Sensor'], ['Cooling_Demand_Sensor', 'Warmest_Zone_Air_Temperature_Sensor'], ['Cooling_Demand_Sensor', 'Flow_Sensor'], ['Cooling_Demand_Sensor', 'Current_Sensor'], ['Cooling_Demand_Sensor', 'Time_Setpoint'], ['Cooling_Demand_Sensor', 'Cooling_Supply_Air_Temperature_Deadband_Setpoint'], ['Cooling_Demand_Sensor', 'Air_Flow_Setpoint'], ['Cooling_Demand_Sensor', 'Outside_Air_Enthalpy_Sensor'], ['Cooling_Demand_Sensor', 'Angle_Sensor'], ['Cooling_Demand_Sensor', 'Zone_Air_Humidity_Setpoint'], ['Cooling_Demand_Sensor', 'Discharge_Air_Temperature_Setpoint'], ['Cooling_Demand_Sensor', 'Temperature_Sensor'], ['Cooling_Demand_Sensor', 'Outside_Air_Temperature_Setpoint'], ['Cooling_Demand_Sensor', 'Power_Sensor'], ['Cooling_Demand_Sensor', 'Position_Sensor'], ['Cooling_Demand_Sensor', 'Demand_Sensor'], ['Cooling_Demand_Sensor', 'Cooling_Temperature_Setpoint'], ['Cooling_Demand_Sensor', 'Heating_Demand_Sensor'], ['Cooling_Demand_Sensor', 'Cooling_Demand_Setpoint'], ['Cooling_Demand_Sensor', 'Differential_Supply_Return_Water_Temperature_Sensor'], ['Cooling_Demand_Sensor', 'Water_Temperature_Sensor'], ['Cooling_Demand_Sensor', 'Return_Air_Temperature_Sensor'], ['Cooling_Demand_Sensor', 'Chilled_Water_Return_Temperature_Sensor'], ['Cooling_Demand_Sensor', 'Return_Water_Temperature_Sensor'], ['Cooling_Demand_Sensor', 'Active_Power_Sensor'], ['Cooling_Demand_Sensor', 'Duration_Sensor'], ['Cooling_Demand_Sensor', 'Chilled_Water_Differential_Temperature_Sensor'], ['Discharge_Air_Temperature_Setpoint', 'Temperature_Setpoint'], ['Discharge_Air_Temperature_Setpoint', 'Air_Temperature_Setpoint'], ['Outside_Air_Temperature_Setpoint', 'Temperature_Setpoint'], ['Outside_Air_Temperature_Setpoint', 'Air_Temperature_Setpoint'], ['Cooling_Temperature_Setpoint', 'Temperature_Setpoint'], ['Heating_Demand_Sensor', 'Heating_Demand_Setpoint'], ['Heating_Demand_Sensor', 'Water_Temperature_Setpoint'], ['Heating_Demand_Sensor', 'Temperature_Setpoint'], ['Heating_Demand_Sensor', 'Min_Air_Temperature_Setpoint'], ['Heating_Demand_Sensor', 'Discharge_Water_Temperature_Sensor'], ['Heating_Demand_Sensor', 'Flow_Setpoint'], ['Heating_Demand_Sensor', 'Outside_Air_Temperature_Sensor'], ['Heating_Demand_Sensor', 'Dew_Point_Setpoint'], ['Heating_Demand_Sensor', 'Humidity_Setpoint'], ['Heating_Demand_Sensor', 'Low_Outside_Air_Temperature_Enable_Setpoint'], ['Heating_Demand_Sensor', 'Load_Current_Sensor'], ['Heating_Demand_Sensor', 'Outside_Air_Humidity_Sensor'], ['Heating_Demand_Sensor', 'Heating_Temperature_Setpoint'], ['Heating_Demand_Sensor', 'Hot_Water_Flow_Sensor'], ['Heating_Demand_Sensor', 'Supply_Air_Temperature_Sensor'], ['Heating_Demand_Sensor', 'Air_Temperature_Setpoint'], ['Heating_Demand_Sensor', 'Reactive_Power_Sensor'], ['Heating_Demand_Sensor', 'Static_Pressure_Sensor'], ['Heating_Demand_Sensor', 'Supply_Air_Static_Pressure_Sensor'], ['Heating_Demand_Sensor', 'Discharge_Air_Temperature_Sensor'], ['Heating_Demand_Sensor', 'Frequency_Sensor'], ['Heating_Demand_Sensor', 'Damper_Position_Setpoint'], ['Heating_Demand_Sensor', 'Valve_Position_Sensor'], ['Heating_Demand_Sensor', 'Hot_Water_Return_Temperature_Sensor'], ['Heating_Demand_Sensor', 'Differential_Pressure_Sensor'], ['Heating_Demand_Sensor', 'Differential_Pressure_Setpoint'], ['Heating_Demand_Sensor', 'Supply_Air_Temperature_Setpoint'], ['Heating_Demand_Sensor', 'Chilled_Water_Supply_Flow_Sensor'], ['Heating_Demand_Sensor', 'Peak_Power_Demand_Sensor'], ['Heating_Demand_Sensor', 'Outside_Air_CO2_Sensor'], ['Heating_Demand_Sensor', 'Usage_Sensor'], ['Heating_Demand_Sensor', 'Max_Air_Temperature_Setpoint'], ['Heating_Demand_Sensor', 'Air_Flow_Sensor'], ['Heating_Demand_Sensor', 'Discharge_Air_Dewpoint_Sensor'], ['Heating_Demand_Sensor', 'Average_Zone_Air_Temperature_Sensor'], ['Heating_Demand_Sensor', 'Water_Flow_Sensor'], ['Heating_Demand_Sensor', 'Supply_Air_Humidity_Sensor'], ['Heating_Demand_Sensor', 'Zone_Air_Humidity_Sensor'], ['Heating_Demand_Sensor', 'Zone_Air_Temperature_Sensor'], ['Heating_Demand_Sensor', 'Heating_Supply_Air_Temperature_Deadband_Setpoint'], ['Heating_Demand_Sensor', 'Zone_Air_Dewpoint_Sensor'], ['Heating_Demand_Sensor', 'Rain_Sensor'], ['Heating_Demand_Sensor', 'Hot_Water_Supply_Temperature_Sensor'], ['Heating_Demand_Sensor', 'Energy_Usage_Sensor'], ['Heating_Demand_Sensor', 'Supply_Air_Static_Pressure_Setpoint'], ['Heating_Demand_Sensor', 'Thermal_Power_Sensor'], ['Heating_Demand_Sensor', 'Air_Temperature_Sensor'], ['Heating_Demand_Sensor', 'Solar_Radiance_Sensor'], ['Heating_Demand_Sensor', 'Wind_Speed_Sensor'], ['Heating_Demand_Sensor', 'Filter_Differential_Pressure_Sensor'], ['Heating_Demand_Sensor', 'Outside_Air_Lockout_Temperature_Setpoint'], ['Heating_Demand_Sensor', 'Wind_Direction_Sensor'], ['Heating_Demand_Sensor', 'Speed_Setpoint'], ['Heating_Demand_Sensor', 'Room_Air_Temperature_Setpoint'], ['Heating_Demand_Sensor', 'Damper_Position_Sensor'], ['Heating_Demand_Sensor', 'Electrical_Power_Sensor'], ['Heating_Demand_Sensor', 'Static_Pressure_Setpoint'], ['Heating_Demand_Sensor', 'Voltage_Sensor'], ['Heating_Demand_Sensor', 'Chilled_Water_Supply_Temperature_Sensor'], ['Heating_Demand_Sensor', 'Reset_Setpoint'], ['Heating_Demand_Sensor', 'Pressure_Sensor'], ['Heating_Demand_Sensor', 'Warmest_Zone_Air_Temperature_Sensor'], ['Heating_Demand_Sensor', 'Flow_Sensor'], ['Heating_Demand_Sensor', 'Current_Sensor'], ['Heating_Demand_Sensor', 'Time_Setpoint'], ['Heating_Demand_Sensor', 'Cooling_Supply_Air_Temperature_Deadband_Setpoint'], ['Heating_Demand_Sensor', 'Air_Flow_Setpoint'], ['Heating_Demand_Sensor', 'Outside_Air_Enthalpy_Sensor'], ['Heating_Demand_Sensor', 'Angle_Sensor'], ['Heating_Demand_Sensor', 'Zone_Air_Humidity_Setpoint'], ['Heating_Demand_Sensor', 'Cooling_Demand_Sensor'], ['Heating_Demand_Sensor', 'Discharge_Air_Temperature_Setpoint'], ['Heating_Demand_Sensor', 'Temperature_Sensor'], ['Heating_Demand_Sensor', 'Outside_Air_Temperature_Setpoint'], ['Heating_Demand_Sensor', 'Power_Sensor'], ['Heating_Demand_Sensor', 'Position_Sensor'], ['Heating_Demand_Sensor', 'Demand_Sensor'], ['Heating_Demand_Sensor', 'Cooling_Temperature_Setpoint'], ['Heating_Demand_Sensor', 'Cooling_Demand_Setpoint'], ['Heating_Demand_Sensor', 'Differential_Supply_Return_Water_Temperature_Sensor'], ['Heating_Demand_Sensor', 'Water_Temperature_Sensor'], ['Heating_Demand_Sensor', 'Return_Air_Temperature_Sensor'], ['Heating_Demand_Sensor', 'Chilled_Water_Return_Temperature_Sensor'], ['Heating_Demand_Sensor', 'Return_Water_Temperature_Sensor'], ['Heating_Demand_Sensor', 'Active_Power_Sensor'], ['Heating_Demand_Sensor', 'Duration_Sensor'], ['Heating_Demand_Sensor', 'Chilled_Water_Differential_Temperature_Sensor'], ['Differential_Supply_Return_Water_Temperature_Sensor', 'Temperature_Sensor'], ['Differential_Supply_Return_Water_Temperature_Sensor', 'Water_Temperature_Sensor'], ['Differential_Supply_Return_Water_Temperature_Sensor', 'Return_Water_Temperature_Sensor'], ['Water_Temperature_Sensor', 'Temperature_Sensor'], ['Return_Air_Temperature_Sensor', 'Air_Temperature_Sensor'], ['Return_Air_Temperature_Sensor', 'Temperature_Sensor'], ['Chilled_Water_Return_Temperature_Sensor', 'Temperature_Sensor'], ['Chilled_Water_Return_Temperature_Sensor', 'Water_Temperature_Sensor'], ['Chilled_Water_Return_Temperature_Sensor', 'Return_Water_Temperature_Sensor'], ['Return_Water_Temperature_Sensor', 'Temperature_Sensor'], ['Return_Water_Temperature_Sensor', 'Water_Temperature_Sensor'], ['Active_Power_Sensor', 'Electrical_Power_Sensor'], ['Active_Power_Sensor', 'Power_Sensor'], ['Chilled_Water_Differential_Temperature_Sensor', 'Temperature_Sensor'], ['Chilled_Water_Differential_Temperature_Sensor', 'Water_Temperature_Sensor']]\n",
      "{'Zone_Air_Temperature_Sensor', 'Heating_Supply_Air_Temperature_Deadband_Setpoint', 'Water_Temperature_Setpoint', 'Hot_Water_Supply_Temperature_Sensor', 'Hot_Water_Return_Temperature_Sensor', 'Energy_Usage_Sensor', 'Differential_Pressure_Sensor', 'Chilled_Water_Differential_Temperature_Sensor', 'Supply_Air_Static_Pressure_Setpoint', 'Cooling_Supply_Air_Temperature_Deadband_Setpoint', 'Thermal_Power_Sensor', 'Min_Air_Temperature_Setpoint', 'Air_Temperature_Sensor', 'Air_Flow_Setpoint', 'Discharge_Water_Temperature_Sensor', 'Supply_Air_Temperature_Setpoint', 'Outside_Air_Temperature_Sensor', 'Zone_Air_Humidity_Setpoint', 'Chilled_Water_Supply_Flow_Sensor', 'Cooling_Demand_Sensor', 'Filter_Differential_Pressure_Sensor', 'Peak_Power_Demand_Sensor', 'Outside_Air_Lockout_Temperature_Setpoint', 'Discharge_Air_Temperature_Setpoint', 'Low_Outside_Air_Temperature_Enable_Setpoint', 'Load_Current_Sensor', 'Outside_Air_Temperature_Setpoint', 'Room_Air_Temperature_Setpoint', 'Max_Air_Temperature_Setpoint', 'Cooling_Temperature_Setpoint', 'Air_Flow_Sensor', 'Heating_Temperature_Setpoint', 'Hot_Water_Flow_Sensor', 'Average_Zone_Air_Temperature_Sensor', 'Heating_Demand_Sensor', 'Differential_Supply_Return_Water_Temperature_Sensor', 'Supply_Air_Temperature_Sensor', 'Damper_Position_Sensor', 'Water_Temperature_Sensor', 'Water_Flow_Sensor', 'Air_Temperature_Setpoint', 'Static_Pressure_Sensor', 'Reactive_Power_Sensor', 'Electrical_Power_Sensor', 'Return_Air_Temperature_Sensor', 'Supply_Air_Static_Pressure_Sensor', 'Chilled_Water_Supply_Temperature_Sensor', 'Discharge_Air_Temperature_Sensor', 'Chilled_Water_Return_Temperature_Sensor', 'Return_Water_Temperature_Sensor', 'Active_Power_Sensor', 'Warmest_Zone_Air_Temperature_Sensor', 'Valve_Position_Sensor'}\n",
      "\n"
     ]
    },
    {
     "name": "stderr",
     "output_type": "stream",
     "text": [
      "100%|██████████| 53/53 [00:04<00:00, 12.79it/s]\n"
     ]
    },
    {
     "name": "stdout",
     "output_type": "stream",
     "text": [
      "Level 2\n",
      "[['Zone_Air_Temperature_Sensor', 'Air_Temperature_Sensor'], ['Heating_Supply_Air_Temperature_Deadband_Setpoint', 'Heating_Temperature_Setpoint'], ['Heating_Supply_Air_Temperature_Deadband_Setpoint', 'Air_Temperature_Setpoint'], ['Hot_Water_Supply_Temperature_Sensor', 'Water_Temperature_Sensor'], ['Hot_Water_Return_Temperature_Sensor', 'Water_Temperature_Sensor'], ['Hot_Water_Return_Temperature_Sensor', 'Return_Water_Temperature_Sensor'], ['Chilled_Water_Differential_Temperature_Sensor', 'Water_Temperature_Sensor'], ['Cooling_Supply_Air_Temperature_Deadband_Setpoint', 'Cooling_Temperature_Setpoint'], ['Cooling_Supply_Air_Temperature_Deadband_Setpoint', 'Air_Temperature_Setpoint'], ['Min_Air_Temperature_Setpoint', 'Air_Temperature_Setpoint'], ['Discharge_Water_Temperature_Sensor', 'Water_Temperature_Sensor'], ['Supply_Air_Temperature_Setpoint', 'Air_Temperature_Setpoint'], ['Outside_Air_Temperature_Sensor', 'Air_Temperature_Sensor'], ['Chilled_Water_Supply_Flow_Sensor', 'Water_Flow_Sensor'], ['Cooling_Demand_Sensor', 'Zone_Air_Temperature_Sensor'], ['Cooling_Demand_Sensor', 'Heating_Supply_Air_Temperature_Deadband_Setpoint'], ['Cooling_Demand_Sensor', 'Water_Temperature_Setpoint'], ['Cooling_Demand_Sensor', 'Hot_Water_Supply_Temperature_Sensor'], ['Cooling_Demand_Sensor', 'Hot_Water_Return_Temperature_Sensor'], ['Cooling_Demand_Sensor', 'Energy_Usage_Sensor'], ['Cooling_Demand_Sensor', 'Differential_Pressure_Sensor'], ['Cooling_Demand_Sensor', 'Chilled_Water_Differential_Temperature_Sensor'], ['Cooling_Demand_Sensor', 'Supply_Air_Static_Pressure_Setpoint'], ['Cooling_Demand_Sensor', 'Cooling_Supply_Air_Temperature_Deadband_Setpoint'], ['Cooling_Demand_Sensor', 'Thermal_Power_Sensor'], ['Cooling_Demand_Sensor', 'Min_Air_Temperature_Setpoint'], ['Cooling_Demand_Sensor', 'Air_Temperature_Sensor'], ['Cooling_Demand_Sensor', 'Air_Flow_Setpoint'], ['Cooling_Demand_Sensor', 'Discharge_Water_Temperature_Sensor'], ['Cooling_Demand_Sensor', 'Supply_Air_Temperature_Setpoint'], ['Cooling_Demand_Sensor', 'Outside_Air_Temperature_Sensor'], ['Cooling_Demand_Sensor', 'Zone_Air_Humidity_Setpoint'], ['Cooling_Demand_Sensor', 'Chilled_Water_Supply_Flow_Sensor'], ['Cooling_Demand_Sensor', 'Filter_Differential_Pressure_Sensor'], ['Cooling_Demand_Sensor', 'Peak_Power_Demand_Sensor'], ['Cooling_Demand_Sensor', 'Outside_Air_Lockout_Temperature_Setpoint'], ['Cooling_Demand_Sensor', 'Discharge_Air_Temperature_Setpoint'], ['Cooling_Demand_Sensor', 'Low_Outside_Air_Temperature_Enable_Setpoint'], ['Cooling_Demand_Sensor', 'Load_Current_Sensor'], ['Cooling_Demand_Sensor', 'Outside_Air_Temperature_Setpoint'], ['Cooling_Demand_Sensor', 'Room_Air_Temperature_Setpoint'], ['Cooling_Demand_Sensor', 'Max_Air_Temperature_Setpoint'], ['Cooling_Demand_Sensor', 'Cooling_Temperature_Setpoint'], ['Cooling_Demand_Sensor', 'Air_Flow_Sensor'], ['Cooling_Demand_Sensor', 'Heating_Temperature_Setpoint'], ['Cooling_Demand_Sensor', 'Hot_Water_Flow_Sensor'], ['Cooling_Demand_Sensor', 'Average_Zone_Air_Temperature_Sensor'], ['Cooling_Demand_Sensor', 'Heating_Demand_Sensor'], ['Cooling_Demand_Sensor', 'Differential_Supply_Return_Water_Temperature_Sensor'], ['Cooling_Demand_Sensor', 'Supply_Air_Temperature_Sensor'], ['Cooling_Demand_Sensor', 'Damper_Position_Sensor'], ['Cooling_Demand_Sensor', 'Water_Temperature_Sensor'], ['Cooling_Demand_Sensor', 'Water_Flow_Sensor'], ['Cooling_Demand_Sensor', 'Air_Temperature_Setpoint'], ['Cooling_Demand_Sensor', 'Static_Pressure_Sensor'], ['Cooling_Demand_Sensor', 'Reactive_Power_Sensor'], ['Cooling_Demand_Sensor', 'Electrical_Power_Sensor'], ['Cooling_Demand_Sensor', 'Return_Air_Temperature_Sensor'], ['Cooling_Demand_Sensor', 'Supply_Air_Static_Pressure_Sensor'], ['Cooling_Demand_Sensor', 'Chilled_Water_Supply_Temperature_Sensor'], ['Cooling_Demand_Sensor', 'Discharge_Air_Temperature_Sensor'], ['Cooling_Demand_Sensor', 'Chilled_Water_Return_Temperature_Sensor'], ['Cooling_Demand_Sensor', 'Return_Water_Temperature_Sensor'], ['Cooling_Demand_Sensor', 'Active_Power_Sensor'], ['Cooling_Demand_Sensor', 'Warmest_Zone_Air_Temperature_Sensor'], ['Cooling_Demand_Sensor', 'Valve_Position_Sensor'], ['Filter_Differential_Pressure_Sensor', 'Differential_Pressure_Sensor'], ['Peak_Power_Demand_Sensor', 'Electrical_Power_Sensor'], ['Outside_Air_Lockout_Temperature_Setpoint', 'Outside_Air_Temperature_Setpoint'], ['Outside_Air_Lockout_Temperature_Setpoint', 'Air_Temperature_Setpoint'], ['Discharge_Air_Temperature_Setpoint', 'Air_Temperature_Setpoint'], ['Low_Outside_Air_Temperature_Enable_Setpoint', 'Outside_Air_Temperature_Setpoint'], ['Low_Outside_Air_Temperature_Enable_Setpoint', 'Air_Temperature_Setpoint'], ['Outside_Air_Temperature_Setpoint', 'Air_Temperature_Setpoint'], ['Room_Air_Temperature_Setpoint', 'Air_Temperature_Setpoint'], ['Max_Air_Temperature_Setpoint', 'Air_Temperature_Setpoint'], ['Hot_Water_Flow_Sensor', 'Water_Flow_Sensor'], ['Average_Zone_Air_Temperature_Sensor', 'Zone_Air_Temperature_Sensor'], ['Average_Zone_Air_Temperature_Sensor', 'Air_Temperature_Sensor'], ['Heating_Demand_Sensor', 'Zone_Air_Temperature_Sensor'], ['Heating_Demand_Sensor', 'Heating_Supply_Air_Temperature_Deadband_Setpoint'], ['Heating_Demand_Sensor', 'Water_Temperature_Setpoint'], ['Heating_Demand_Sensor', 'Hot_Water_Supply_Temperature_Sensor'], ['Heating_Demand_Sensor', 'Hot_Water_Return_Temperature_Sensor'], ['Heating_Demand_Sensor', 'Energy_Usage_Sensor'], ['Heating_Demand_Sensor', 'Differential_Pressure_Sensor'], ['Heating_Demand_Sensor', 'Chilled_Water_Differential_Temperature_Sensor'], ['Heating_Demand_Sensor', 'Supply_Air_Static_Pressure_Setpoint'], ['Heating_Demand_Sensor', 'Cooling_Supply_Air_Temperature_Deadband_Setpoint'], ['Heating_Demand_Sensor', 'Thermal_Power_Sensor'], ['Heating_Demand_Sensor', 'Min_Air_Temperature_Setpoint'], ['Heating_Demand_Sensor', 'Air_Temperature_Sensor'], ['Heating_Demand_Sensor', 'Air_Flow_Setpoint'], ['Heating_Demand_Sensor', 'Discharge_Water_Temperature_Sensor'], ['Heating_Demand_Sensor', 'Supply_Air_Temperature_Setpoint'], ['Heating_Demand_Sensor', 'Outside_Air_Temperature_Sensor'], ['Heating_Demand_Sensor', 'Zone_Air_Humidity_Setpoint'], ['Heating_Demand_Sensor', 'Chilled_Water_Supply_Flow_Sensor'], ['Heating_Demand_Sensor', 'Cooling_Demand_Sensor'], ['Heating_Demand_Sensor', 'Filter_Differential_Pressure_Sensor'], ['Heating_Demand_Sensor', 'Peak_Power_Demand_Sensor'], ['Heating_Demand_Sensor', 'Outside_Air_Lockout_Temperature_Setpoint'], ['Heating_Demand_Sensor', 'Discharge_Air_Temperature_Setpoint'], ['Heating_Demand_Sensor', 'Low_Outside_Air_Temperature_Enable_Setpoint'], ['Heating_Demand_Sensor', 'Load_Current_Sensor'], ['Heating_Demand_Sensor', 'Outside_Air_Temperature_Setpoint'], ['Heating_Demand_Sensor', 'Room_Air_Temperature_Setpoint'], ['Heating_Demand_Sensor', 'Max_Air_Temperature_Setpoint'], ['Heating_Demand_Sensor', 'Cooling_Temperature_Setpoint'], ['Heating_Demand_Sensor', 'Air_Flow_Sensor'], ['Heating_Demand_Sensor', 'Heating_Temperature_Setpoint'], ['Heating_Demand_Sensor', 'Hot_Water_Flow_Sensor'], ['Heating_Demand_Sensor', 'Average_Zone_Air_Temperature_Sensor'], ['Heating_Demand_Sensor', 'Differential_Supply_Return_Water_Temperature_Sensor'], ['Heating_Demand_Sensor', 'Supply_Air_Temperature_Sensor'], ['Heating_Demand_Sensor', 'Damper_Position_Sensor'], ['Heating_Demand_Sensor', 'Water_Temperature_Sensor'], ['Heating_Demand_Sensor', 'Water_Flow_Sensor'], ['Heating_Demand_Sensor', 'Air_Temperature_Setpoint'], ['Heating_Demand_Sensor', 'Static_Pressure_Sensor'], ['Heating_Demand_Sensor', 'Reactive_Power_Sensor'], ['Heating_Demand_Sensor', 'Electrical_Power_Sensor'], ['Heating_Demand_Sensor', 'Return_Air_Temperature_Sensor'], ['Heating_Demand_Sensor', 'Supply_Air_Static_Pressure_Sensor'], ['Heating_Demand_Sensor', 'Chilled_Water_Supply_Temperature_Sensor'], ['Heating_Demand_Sensor', 'Discharge_Air_Temperature_Sensor'], ['Heating_Demand_Sensor', 'Chilled_Water_Return_Temperature_Sensor'], ['Heating_Demand_Sensor', 'Return_Water_Temperature_Sensor'], ['Heating_Demand_Sensor', 'Active_Power_Sensor'], ['Heating_Demand_Sensor', 'Warmest_Zone_Air_Temperature_Sensor'], ['Heating_Demand_Sensor', 'Valve_Position_Sensor'], ['Differential_Supply_Return_Water_Temperature_Sensor', 'Water_Temperature_Sensor'], ['Differential_Supply_Return_Water_Temperature_Sensor', 'Return_Water_Temperature_Sensor'], ['Supply_Air_Temperature_Sensor', 'Air_Temperature_Sensor'], ['Reactive_Power_Sensor', 'Electrical_Power_Sensor'], ['Return_Air_Temperature_Sensor', 'Air_Temperature_Sensor'], ['Supply_Air_Static_Pressure_Sensor', 'Static_Pressure_Sensor'], ['Chilled_Water_Supply_Temperature_Sensor', 'Water_Temperature_Sensor'], ['Discharge_Air_Temperature_Sensor', 'Air_Temperature_Sensor'], ['Chilled_Water_Return_Temperature_Sensor', 'Water_Temperature_Sensor'], ['Chilled_Water_Return_Temperature_Sensor', 'Return_Water_Temperature_Sensor'], ['Return_Water_Temperature_Sensor', 'Water_Temperature_Sensor'], ['Active_Power_Sensor', 'Electrical_Power_Sensor'], ['Warmest_Zone_Air_Temperature_Sensor', 'Zone_Air_Temperature_Sensor'], ['Warmest_Zone_Air_Temperature_Sensor', 'Air_Temperature_Sensor']]\n",
      "{'Zone_Air_Temperature_Sensor', 'Heating_Supply_Air_Temperature_Deadband_Setpoint', 'Hot_Water_Supply_Temperature_Sensor', 'Hot_Water_Return_Temperature_Sensor', 'Cooling_Supply_Air_Temperature_Deadband_Setpoint', 'Min_Air_Temperature_Setpoint', 'Discharge_Water_Temperature_Sensor', 'Supply_Air_Temperature_Setpoint', 'Outside_Air_Temperature_Sensor', 'Chilled_Water_Supply_Flow_Sensor', 'Cooling_Demand_Sensor', 'Outside_Air_Lockout_Temperature_Setpoint', 'Discharge_Air_Temperature_Setpoint', 'Peak_Power_Demand_Sensor', 'Filter_Differential_Pressure_Sensor', 'Low_Outside_Air_Temperature_Enable_Setpoint', 'Outside_Air_Temperature_Setpoint', 'Room_Air_Temperature_Setpoint', 'Max_Air_Temperature_Setpoint', 'Hot_Water_Flow_Sensor', 'Average_Zone_Air_Temperature_Sensor', 'Heating_Demand_Sensor', 'Differential_Supply_Return_Water_Temperature_Sensor', 'Supply_Air_Temperature_Sensor', 'Reactive_Power_Sensor', 'Return_Air_Temperature_Sensor', 'Supply_Air_Static_Pressure_Sensor', 'Chilled_Water_Supply_Temperature_Sensor', 'Discharge_Air_Temperature_Sensor', 'Chilled_Water_Return_Temperature_Sensor', 'Return_Water_Temperature_Sensor', 'Active_Power_Sensor', 'Warmest_Zone_Air_Temperature_Sensor', 'Chilled_Water_Differential_Temperature_Sensor'}\n",
      "\n"
     ]
    },
    {
     "name": "stderr",
     "output_type": "stream",
     "text": [
      "100%|██████████| 34/34 [00:01<00:00, 19.56it/s]"
     ]
    },
    {
     "name": "stdout",
     "output_type": "stream",
     "text": [
      "Level 3\n",
      "[['Hot_Water_Return_Temperature_Sensor', 'Return_Water_Temperature_Sensor'], ['Cooling_Demand_Sensor', 'Zone_Air_Temperature_Sensor'], ['Cooling_Demand_Sensor', 'Heating_Supply_Air_Temperature_Deadband_Setpoint'], ['Cooling_Demand_Sensor', 'Hot_Water_Supply_Temperature_Sensor'], ['Cooling_Demand_Sensor', 'Hot_Water_Return_Temperature_Sensor'], ['Cooling_Demand_Sensor', 'Cooling_Supply_Air_Temperature_Deadband_Setpoint'], ['Cooling_Demand_Sensor', 'Min_Air_Temperature_Setpoint'], ['Cooling_Demand_Sensor', 'Discharge_Water_Temperature_Sensor'], ['Cooling_Demand_Sensor', 'Supply_Air_Temperature_Setpoint'], ['Cooling_Demand_Sensor', 'Outside_Air_Temperature_Sensor'], ['Cooling_Demand_Sensor', 'Chilled_Water_Supply_Flow_Sensor'], ['Cooling_Demand_Sensor', 'Outside_Air_Lockout_Temperature_Setpoint'], ['Cooling_Demand_Sensor', 'Discharge_Air_Temperature_Setpoint'], ['Cooling_Demand_Sensor', 'Peak_Power_Demand_Sensor'], ['Cooling_Demand_Sensor', 'Filter_Differential_Pressure_Sensor'], ['Cooling_Demand_Sensor', 'Low_Outside_Air_Temperature_Enable_Setpoint'], ['Cooling_Demand_Sensor', 'Outside_Air_Temperature_Setpoint'], ['Cooling_Demand_Sensor', 'Room_Air_Temperature_Setpoint'], ['Cooling_Demand_Sensor', 'Max_Air_Temperature_Setpoint'], ['Cooling_Demand_Sensor', 'Hot_Water_Flow_Sensor'], ['Cooling_Demand_Sensor', 'Average_Zone_Air_Temperature_Sensor'], ['Cooling_Demand_Sensor', 'Heating_Demand_Sensor'], ['Cooling_Demand_Sensor', 'Differential_Supply_Return_Water_Temperature_Sensor'], ['Cooling_Demand_Sensor', 'Supply_Air_Temperature_Sensor'], ['Cooling_Demand_Sensor', 'Reactive_Power_Sensor'], ['Cooling_Demand_Sensor', 'Return_Air_Temperature_Sensor'], ['Cooling_Demand_Sensor', 'Supply_Air_Static_Pressure_Sensor'], ['Cooling_Demand_Sensor', 'Chilled_Water_Supply_Temperature_Sensor'], ['Cooling_Demand_Sensor', 'Discharge_Air_Temperature_Sensor'], ['Cooling_Demand_Sensor', 'Chilled_Water_Return_Temperature_Sensor'], ['Cooling_Demand_Sensor', 'Return_Water_Temperature_Sensor'], ['Cooling_Demand_Sensor', 'Active_Power_Sensor'], ['Cooling_Demand_Sensor', 'Warmest_Zone_Air_Temperature_Sensor'], ['Cooling_Demand_Sensor', 'Chilled_Water_Differential_Temperature_Sensor'], ['Outside_Air_Lockout_Temperature_Setpoint', 'Outside_Air_Temperature_Setpoint'], ['Low_Outside_Air_Temperature_Enable_Setpoint', 'Outside_Air_Temperature_Setpoint'], ['Average_Zone_Air_Temperature_Sensor', 'Zone_Air_Temperature_Sensor'], ['Heating_Demand_Sensor', 'Zone_Air_Temperature_Sensor'], ['Heating_Demand_Sensor', 'Heating_Supply_Air_Temperature_Deadband_Setpoint'], ['Heating_Demand_Sensor', 'Hot_Water_Supply_Temperature_Sensor'], ['Heating_Demand_Sensor', 'Hot_Water_Return_Temperature_Sensor'], ['Heating_Demand_Sensor', 'Cooling_Supply_Air_Temperature_Deadband_Setpoint'], ['Heating_Demand_Sensor', 'Min_Air_Temperature_Setpoint'], ['Heating_Demand_Sensor', 'Discharge_Water_Temperature_Sensor'], ['Heating_Demand_Sensor', 'Supply_Air_Temperature_Setpoint'], ['Heating_Demand_Sensor', 'Outside_Air_Temperature_Sensor'], ['Heating_Demand_Sensor', 'Chilled_Water_Supply_Flow_Sensor'], ['Heating_Demand_Sensor', 'Cooling_Demand_Sensor'], ['Heating_Demand_Sensor', 'Outside_Air_Lockout_Temperature_Setpoint'], ['Heating_Demand_Sensor', 'Discharge_Air_Temperature_Setpoint'], ['Heating_Demand_Sensor', 'Peak_Power_Demand_Sensor'], ['Heating_Demand_Sensor', 'Filter_Differential_Pressure_Sensor'], ['Heating_Demand_Sensor', 'Low_Outside_Air_Temperature_Enable_Setpoint'], ['Heating_Demand_Sensor', 'Outside_Air_Temperature_Setpoint'], ['Heating_Demand_Sensor', 'Room_Air_Temperature_Setpoint'], ['Heating_Demand_Sensor', 'Max_Air_Temperature_Setpoint'], ['Heating_Demand_Sensor', 'Hot_Water_Flow_Sensor'], ['Heating_Demand_Sensor', 'Average_Zone_Air_Temperature_Sensor'], ['Heating_Demand_Sensor', 'Differential_Supply_Return_Water_Temperature_Sensor'], ['Heating_Demand_Sensor', 'Supply_Air_Temperature_Sensor'], ['Heating_Demand_Sensor', 'Reactive_Power_Sensor'], ['Heating_Demand_Sensor', 'Return_Air_Temperature_Sensor'], ['Heating_Demand_Sensor', 'Supply_Air_Static_Pressure_Sensor'], ['Heating_Demand_Sensor', 'Chilled_Water_Supply_Temperature_Sensor'], ['Heating_Demand_Sensor', 'Discharge_Air_Temperature_Sensor'], ['Heating_Demand_Sensor', 'Chilled_Water_Return_Temperature_Sensor'], ['Heating_Demand_Sensor', 'Return_Water_Temperature_Sensor'], ['Heating_Demand_Sensor', 'Active_Power_Sensor'], ['Heating_Demand_Sensor', 'Warmest_Zone_Air_Temperature_Sensor'], ['Heating_Demand_Sensor', 'Chilled_Water_Differential_Temperature_Sensor'], ['Differential_Supply_Return_Water_Temperature_Sensor', 'Return_Water_Temperature_Sensor'], ['Chilled_Water_Return_Temperature_Sensor', 'Return_Water_Temperature_Sensor'], ['Warmest_Zone_Air_Temperature_Sensor', 'Zone_Air_Temperature_Sensor']]\n",
      "{'Low_Outside_Air_Temperature_Enable_Setpoint', 'Chilled_Water_Return_Temperature_Sensor', 'Hot_Water_Return_Temperature_Sensor', 'Average_Zone_Air_Temperature_Sensor', 'Cooling_Demand_Sensor', 'Heating_Demand_Sensor', 'Differential_Supply_Return_Water_Temperature_Sensor', 'Outside_Air_Lockout_Temperature_Setpoint', 'Warmest_Zone_Air_Temperature_Sensor'}\n",
      "\n"
     ]
    },
    {
     "name": "stderr",
     "output_type": "stream",
     "text": [
      "\n"
     ]
    }
   ],
   "source": [
    "level_labels = [list(train_y.columns[1:]), [], [], [], []]\n",
    "\n",
    "for k in range(0, 4):\n",
    "    check_labels = level_labels[k]\n",
    "    label_len = len(check_labels)\n",
    "    idx_is_subset_of_col = pd.DataFrame(0, index=check_labels, columns=check_labels)\n",
    "    is_subset = []\n",
    "\n",
    "    for i in tqdm(range(label_len)):\n",
    "        for j in range(label_len):\n",
    "            src_lb, tgt_lb = check_labels[i], check_labels[j]\n",
    "            src = train_y[train_y[src_lb] == 1]\n",
    "            tgt = train_y[(train_y[src_lb] == 1) & (train_y[tgt_lb] == 1)]\n",
    "\n",
    "            idx_is_subset_of_col.loc[src_lb, tgt_lb] = len(src) <= len(tgt)\n",
    "            if len(src) <= len(tgt) and src_lb != tgt_lb:\n",
    "                is_subset.append([src_lb, tgt_lb])\n",
    "\n",
    "    remove_label = set([s[0] for s in is_subset])\n",
    "    print(f\"Level {k}\")\n",
    "    print(is_subset)\n",
    "    print(remove_label)\n",
    "    print()\n",
    "    \n",
    "    for rl in remove_label:\n",
    "        level_labels[k].remove(rl)\n",
    "        level_labels[k+1].append(rl)"
   ]
  },
  {
   "cell_type": "code",
   "execution_count": 18,
   "metadata": {},
   "outputs": [],
   "source": [
    "tiers = {\n",
    "    1: level_labels[0],\n",
    "    2: level_labels[1],\n",
    "    3: level_labels[2],\n",
    "    4: level_labels[3],\n",
    "    5: level_labels[4]\n",
    "}\n",
    "\n",
    "def get_tier(label):\n",
    "    for tier_num, tier_list in tiers.items():\n",
    "        if label in tier_list:\n",
    "            return tier_num\n",
    "    return None  # Handle cases where the label isn't found in any tier\n",
    "\n",
    "def sort_labels(labels):\n",
    "    return sorted(labels, key=lambda label: (get_tier(label) or float('inf'), label))\n"
   ]
  },
  {
   "cell_type": "code",
   "execution_count": 19,
   "metadata": {},
   "outputs": [],
   "source": [
    "sorted_labelhir = [sort_labels(labels) for labels in labelhir]"
   ]
  },
  {
   "cell_type": "code",
   "execution_count": 20,
   "metadata": {},
   "outputs": [],
   "source": [
    "label_hier = np.array(\n",
    "    sorted_labelhir,\n",
    "    dtype=object,\n",
    ")"
   ]
  },
  {
   "cell_type": "code",
   "execution_count": 21,
   "metadata": {},
   "outputs": [],
   "source": [
    "padded_label = pd.Series(label_hier).apply(lambda x: x + ['None'] * (5 - len(x)) if len(x) < 5 else x)"
   ]
  },
  {
   "cell_type": "code",
   "execution_count": 22,
   "metadata": {},
   "outputs": [
    {
     "name": "stdout",
     "output_type": "stream",
     "text": [
      "Level 1: 0 None values out of 31839 total (0.00%)\n",
      "Level 2: 12321 None values out of 31839 total (38.70%)\n",
      "Level 3: 20247 None values out of 31839 total (63.59%)\n",
      "Level 4: 27216 None values out of 31839 total (85.48%)\n",
      "Level 5: 30936 None values out of 31839 total (97.16%)\n"
     ]
    }
   ],
   "source": [
    "# Count Nones at each level\n",
    "for i in range(5):\n",
    "    none_count = sum(padded_label.apply(lambda x: x[i] == 'None'))\n",
    "    print(f\"Level {i+1}: {none_count} None values out of {len(padded_label)} total ({none_count/len(padded_label):.2%})\")"
   ]
  },
  {
   "cell_type": "markdown",
   "metadata": {},
   "source": [
    "# Model Training"
   ]
  },
  {
   "cell_type": "code",
   "execution_count": 40,
   "metadata": {},
   "outputs": [],
   "source": [
    "from typing import List\n",
    "\n",
    "def train_random_forest(\n",
    "    train_X: List[pd.DataFrame],\n",
    "    _label,\n",
    "    model_class,\n",
    "    params: dict,\n",
    "    none_ratio_thr: float,\n",
    "):\n",
    "    \"\"\"\n",
    "    Train random forest models without k-fold cross validation\n",
    "    \n",
    "    Args:\n",
    "        train_X: Training features DataFrame\n",
    "        _label: Array of labels\n",
    "        folds: List of dictionaries containing train/val indices\n",
    "        \n",
    "    Returns:\n",
    "        tuple: (list of trained classifiers, list of scores, list of validation predictions)\n",
    "    \"\"\"\n",
    "    \n",
    "    # Prepare train and validation data for this fold\n",
    "    train_X_fold_list = []\n",
    "    train_y_fold_list = []\n",
    "    for trn_x in train_X:\n",
    "        train_X_fold_list.append(trn_x)\n",
    "        train_y_fold_list.append(_label)\n",
    "\n",
    "    train_X_fold = pd.concat(train_X_fold_list)\n",
    "    train_y_fold = np.concatenate(train_y_fold_list)\n",
    "    \n",
    "    print(f\"Train size: {len(train_X_fold)}\")\n",
    "    \n",
    "    # Check the train_y_fold. If more than 30% of samples are labeled \"None\",\n",
    "    # randomly sample from the \"None\" to make that ratio no more than 30%.\n",
    "    none_mask = (train_y_fold == \"None\")\n",
    "    none_count = np.sum(none_mask)\n",
    "    total_samples = len(train_y_fold)\n",
    "    none_ratio = none_count / total_samples if total_samples > 0 else 0\n",
    "\n",
    "    if none_ratio > none_ratio_thr:\n",
    "        # Calculate how many \"None\" labels we should keep (30% of total)\n",
    "        max_none_to_keep = int(none_ratio_thr * (total_samples - none_count))\n",
    "\n",
    "        # Randomly choose which \"None\" labels to keep\n",
    "        none_indices = np.where(none_mask)[0]\n",
    "\n",
    "        # Fix the random seed before shuffling for reproducibility\n",
    "        rng = np.random.RandomState(42)\n",
    "        rng.shuffle(none_indices)\n",
    "        \n",
    "        keep_none_indices = none_indices[:max_none_to_keep]\n",
    "\n",
    "        # Indices of all non-\"None\" labels\n",
    "        other_indices = np.where(~none_mask)[0]\n",
    "\n",
    "        # Combine indices to keep and then sort\n",
    "        new_indices = np.concatenate([keep_none_indices, other_indices])\n",
    "        new_indices = np.sort(new_indices)  # Sort so we can index the DataFrame consistently\n",
    "\n",
    "        # Subset the training data\n",
    "        train_X_fold = train_X_fold.iloc[new_indices]\n",
    "        train_y_fold = train_y_fold[new_indices]\n",
    "\n",
    "        print(f\"Sampled: none-ratio: {none_ratio}, removed: {none_count - max_none_to_keep}\")\n",
    "\n",
    "    # Create and train Random Forest model\n",
    "    model = model_class(**params)\n",
    "    model.fit(train_X_fold, train_y_fold)\n",
    "    \n",
    "    return model"
   ]
  },
  {
   "cell_type": "markdown",
   "metadata": {},
   "source": [
    "### Train the high precision model by allowing None prediction"
   ]
  },
  {
   "cell_type": "code",
   "execution_count": 41,
   "metadata": {},
   "outputs": [
    {
     "name": "stdout",
     "output_type": "stream",
     "text": [
      "Training level 0\n",
      "Train size: 95517\n",
      "Training level 1\n",
      "Train size: 95517\n",
      "Sampled: none-ratio: 0.3869782342410252, removed: 28180\n",
      "Training level 2\n",
      "Train size: 95517\n",
      "Sampled: none-ratio: 0.635918213511731, removed: 48570\n",
      "Training level 3\n",
      "Train size: 95517\n",
      "Sampled: none-ratio: 0.8548007161028927, removed: 71247\n",
      "Training level 4\n",
      "Train size: 95517\n",
      "Sampled: none-ratio: 0.9716385564873269, removed: 90506\n"
     ]
    }
   ],
   "source": [
    "prec_classifiers = []\n",
    "\n",
    "params = {\n",
    "    'n_estimators': 100,\n",
    "    'random_state': 42,\n",
    "    'n_jobs': 8  # Use all available cores\n",
    "}\n",
    "\n",
    "model_cls = RandomForestClassifier\n",
    "\n",
    "none_ratio_thr_list = [0.1, 0.15, 0.35, 0.75, 0.85]\n",
    "\n",
    "for i in range(5):\n",
    "    print(f\"Training level {i}\")\n",
    "    _classifier = train_random_forest(\n",
    "        [train_X_full, train_X_1, train_X_2],\n",
    "        np.array([x[i] for x in padded_label]),\n",
    "        params=params,\n",
    "        model_class=model_cls,\n",
    "        none_ratio_thr=none_ratio_thr_list[i]\n",
    "    )\n",
    "    prec_classifiers.append(_classifier)"
   ]
  },
  {
   "cell_type": "code",
   "execution_count": 42,
   "metadata": {},
   "outputs": [],
   "source": [
    "cliped_text_X = np.clip(test_X, a_min=None, a_max=np.finfo(np.float32).max)"
   ]
  },
  {
   "cell_type": "code",
   "execution_count": 43,
   "metadata": {},
   "outputs": [],
   "source": [
    "def make_predictions_with_models(classifiers, test_data):\n",
    "    \"\"\"\n",
    "    Make probability predictions using multiple classifier models\n",
    "    \n",
    "    Args:\n",
    "        classifiers: List of trained classifier models\n",
    "        test_data: Test data to make predictions on\n",
    "        \n",
    "    Returns:\n",
    "        List of probability predictions from each classifier\n",
    "    \"\"\"\n",
    "    test_preds_all = []\n",
    "    for clf in tqdm(classifiers):\n",
    "        pred = clf.predict_proba(test_data)\n",
    "        test_preds_all.append(pred)\n",
    "    return test_preds_all"
   ]
  },
  {
   "cell_type": "code",
   "execution_count": 44,
   "metadata": {},
   "outputs": [],
   "source": [
    "def align_and_combine_predictions(classifiers, test_preds_all, test_data, threshold=0.0):\n",
    "    \"\"\"\n",
    "    Aligns predictions from multiple classifiers and combines them through averaging\n",
    "    \n",
    "    Args:\n",
    "        classifiers: List of trained classifier models\n",
    "        test_preds_all: List of probability predictions from each classifier\n",
    "        test_data: Test data used for predictions\n",
    "        threshold: Minimum probability threshold for making predictions\n",
    "        \n",
    "    Returns:\n",
    "        Final class predictions after aligning and combining probabilities\n",
    "    \"\"\"\n",
    "    # Get the common classes across all classifiers\n",
    "    all_classes = classifiers[0].classes_\n",
    "    test_preds_aligned = []\n",
    "\n",
    "    # Make predictions with each fold's model and align them \n",
    "    for i, clf in tqdm(enumerate(classifiers)):\n",
    "        pred = test_preds_all[i]\n",
    "        # Create a mapping to align predictions with common classes\n",
    "        pred_dict = {_cls: idx for idx, _cls in enumerate(clf.classes_)}\n",
    "        aligned_pred = np.zeros((len(test_data), len(all_classes)))\n",
    "        \n",
    "        for i, _cls in enumerate(all_classes):\n",
    "            if _cls in pred_dict:\n",
    "                aligned_pred[:, i] = pred[:, pred_dict[_cls]]\n",
    "        \n",
    "        test_preds_aligned.append(aligned_pred)\n",
    "\n",
    "    # Stack and average the aligned predictions\n",
    "    test_preds_all = np.stack(test_preds_aligned)\n",
    "    test_preds_proba = test_preds_all.mean(axis=0)\n",
    "\n",
    "    # Get max probabilities for each prediction\n",
    "    max_probs = np.max(test_preds_proba, axis=1)\n",
    "    \n",
    "    # Convert probabilities to class predictions, using threshold\n",
    "    test_preds = np.array(['None'] * len(test_data), dtype=object)\n",
    "    confident_mask = max_probs >= threshold\n",
    "    test_preds[confident_mask] = all_classes[np.argmax(test_preds_proba[confident_mask], axis=1)]\n",
    "    \n",
    "    return test_preds"
   ]
  },
  {
   "cell_type": "code",
   "execution_count": 45,
   "metadata": {},
   "outputs": [
    {
     "name": "stdout",
     "output_type": "stream",
     "text": [
      "Predicting level 0\n"
     ]
    },
    {
     "name": "stderr",
     "output_type": "stream",
     "text": [
      "100%|██████████| 1/1 [00:01<00:00,  1.79s/it]\n",
      "1it [00:00, 70.47it/s]\n"
     ]
    },
    {
     "name": "stdout",
     "output_type": "stream",
     "text": [
      "Predicting level 1\n"
     ]
    },
    {
     "name": "stderr",
     "output_type": "stream",
     "text": [
      "100%|██████████| 1/1 [00:03<00:00,  3.92s/it]\n",
      "1it [00:00,  3.02it/s]\n"
     ]
    },
    {
     "name": "stdout",
     "output_type": "stream",
     "text": [
      "Predicting level 2\n"
     ]
    },
    {
     "name": "stderr",
     "output_type": "stream",
     "text": [
      "100%|██████████| 1/1 [00:02<00:00,  2.47s/it]\n",
      "1it [00:00,  5.49it/s]\n"
     ]
    },
    {
     "name": "stdout",
     "output_type": "stream",
     "text": [
      "Predicting level 3\n"
     ]
    },
    {
     "name": "stderr",
     "output_type": "stream",
     "text": [
      "100%|██████████| 1/1 [00:02<00:00,  2.40s/it]\n",
      "1it [00:00,  5.17it/s]\n"
     ]
    },
    {
     "name": "stdout",
     "output_type": "stream",
     "text": [
      "Predicting level 4\n"
     ]
    },
    {
     "name": "stderr",
     "output_type": "stream",
     "text": [
      "100%|██████████| 1/1 [00:01<00:00,  1.29s/it]\n",
      "1it [00:00, 21.05it/s]\n"
     ]
    }
   ],
   "source": [
    "test_preds_list = []\n",
    "for i in range(5):\n",
    "    print(f\"Predicting level {i}\")\n",
    "    test_preds_all = make_predictions_with_models([prec_classifiers[i]], cliped_text_X)\n",
    "    test_preds_list.append(align_and_combine_predictions([prec_classifiers[i]], test_preds_all, cliped_text_X))"
   ]
  },
  {
   "cell_type": "code",
   "execution_count": 46,
   "metadata": {},
   "outputs": [
    {
     "name": "stderr",
     "output_type": "stream",
     "text": [
      "100%|██████████| 315720/315720 [00:02<00:00, 106443.35it/s]\n"
     ]
    },
    {
     "data": {
      "text/plain": [
       "array([['Sensor', 'Current_Sensor', 'None', 'None', 'None'],\n",
       "       ['Sensor', 'Flow_Sensor', 'Water_Flow_Sensor',\n",
       "        'Chilled_Water_Supply_Flow_Sensor', 'None'],\n",
       "       ['Setpoint', 'Temperature_Setpoint', 'None', 'None', 'None'],\n",
       "       ...,\n",
       "       ['Sensor', 'Position_Sensor', 'None', 'None', 'None'],\n",
       "       ['Sensor', 'Position_Sensor', 'None', 'None', 'None'],\n",
       "       ['Alarm', 'None', 'None', 'None', 'None']], dtype=object)"
      ]
     },
     "execution_count": 46,
     "metadata": {},
     "output_type": "execute_result"
    }
   ],
   "source": [
    "# Convert to array and process None values\n",
    "stacked = np.stack(test_preds_list).transpose()\n",
    "for row in tqdm(stacked):\n",
    "    # Find first occurrence of 'None' if any\n",
    "    none_idx = np.where(row == 'None')[0]\n",
    "    if len(none_idx) > 0:\n",
    "        # Set all elements after first None to None\n",
    "        first_none = none_idx[0]\n",
    "        row[first_none:] = 'None'\n",
    "        \n",
    "stacked"
   ]
  },
  {
   "cell_type": "code",
   "execution_count": 47,
   "metadata": {},
   "outputs": [],
   "source": [
    "columnlist = ['Active_Power_Sensor', 'Air_Flow_Sensor',\n",
    "       'Air_Flow_Setpoint', 'Air_Temperature_Sensor',\n",
    "       'Air_Temperature_Setpoint', 'Alarm', 'Angle_Sensor',\n",
    "       'Average_Zone_Air_Temperature_Sensor',\n",
    "       'Chilled_Water_Differential_Temperature_Sensor',\n",
    "       'Chilled_Water_Return_Temperature_Sensor',\n",
    "       'Chilled_Water_Supply_Flow_Sensor',\n",
    "       'Chilled_Water_Supply_Temperature_Sensor', 'Command',\n",
    "       'Cooling_Demand_Sensor', 'Cooling_Demand_Setpoint',\n",
    "       'Cooling_Supply_Air_Temperature_Deadband_Setpoint',\n",
    "       'Cooling_Temperature_Setpoint', 'Current_Sensor',\n",
    "       'Damper_Position_Sensor', 'Damper_Position_Setpoint', 'Demand_Sensor',\n",
    "       'Dew_Point_Setpoint', 'Differential_Pressure_Sensor',\n",
    "       'Differential_Pressure_Setpoint',\n",
    "       'Differential_Supply_Return_Water_Temperature_Sensor',\n",
    "       'Discharge_Air_Dewpoint_Sensor', 'Discharge_Air_Temperature_Sensor',\n",
    "       'Discharge_Air_Temperature_Setpoint',\n",
    "       'Discharge_Water_Temperature_Sensor', 'Duration_Sensor',\n",
    "       'Electrical_Power_Sensor', 'Energy_Usage_Sensor',\n",
    "       'Filter_Differential_Pressure_Sensor', 'Flow_Sensor', 'Flow_Setpoint',\n",
    "       'Frequency_Sensor', 'Heating_Demand_Sensor', 'Heating_Demand_Setpoint',\n",
    "       'Heating_Supply_Air_Temperature_Deadband_Setpoint',\n",
    "       'Heating_Temperature_Setpoint', 'Hot_Water_Flow_Sensor',\n",
    "       'Hot_Water_Return_Temperature_Sensor',\n",
    "       'Hot_Water_Supply_Temperature_Sensor', 'Humidity_Setpoint',\n",
    "       'Load_Current_Sensor', 'Low_Outside_Air_Temperature_Enable_Setpoint',\n",
    "       'Max_Air_Temperature_Setpoint', 'Min_Air_Temperature_Setpoint',\n",
    "       'Outside_Air_CO2_Sensor', 'Outside_Air_Enthalpy_Sensor',\n",
    "       'Outside_Air_Humidity_Sensor',\n",
    "       'Outside_Air_Lockout_Temperature_Setpoint',\n",
    "       'Outside_Air_Temperature_Sensor', 'Outside_Air_Temperature_Setpoint',\n",
    "       'Parameter', 'Peak_Power_Demand_Sensor', 'Position_Sensor',\n",
    "       'Power_Sensor', 'Pressure_Sensor', 'Rain_Sensor',\n",
    "       'Reactive_Power_Sensor', 'Reset_Setpoint',\n",
    "       'Return_Air_Temperature_Sensor', 'Return_Water_Temperature_Sensor',\n",
    "       'Room_Air_Temperature_Setpoint', 'Sensor', 'Setpoint',\n",
    "       'Solar_Radiance_Sensor', 'Speed_Setpoint', 'Static_Pressure_Sensor',\n",
    "       'Static_Pressure_Setpoint', 'Status', 'Supply_Air_Humidity_Sensor',\n",
    "       'Supply_Air_Static_Pressure_Sensor',\n",
    "       'Supply_Air_Static_Pressure_Setpoint', 'Supply_Air_Temperature_Sensor',\n",
    "       'Supply_Air_Temperature_Setpoint', 'Temperature_Sensor',\n",
    "       'Temperature_Setpoint', 'Thermal_Power_Sensor', 'Time_Setpoint',\n",
    "       'Usage_Sensor', 'Valve_Position_Sensor', 'Voltage_Sensor',\n",
    "       'Warmest_Zone_Air_Temperature_Sensor', 'Water_Flow_Sensor',\n",
    "       'Water_Temperature_Sensor', 'Water_Temperature_Setpoint',\n",
    "       'Wind_Direction_Sensor', 'Wind_Speed_Sensor',\n",
    "       'Zone_Air_Dewpoint_Sensor', 'Zone_Air_Humidity_Sensor',\n",
    "       'Zone_Air_Humidity_Setpoint', 'Zone_Air_Temperature_Sensor'\n",
    "]"
   ]
  },
  {
   "cell_type": "code",
   "execution_count": 48,
   "metadata": {},
   "outputs": [],
   "source": [
    "zipftest = ZipFile('../downloads/test_X_v0.1.0.zip', 'r')"
   ]
  },
  {
   "cell_type": "code",
   "execution_count": 49,
   "metadata": {},
   "outputs": [],
   "source": [
    "listtestfile = zipftest.namelist()[1:]"
   ]
  },
  {
   "cell_type": "code",
   "execution_count": null,
   "metadata": {},
   "outputs": [
    {
     "name": "stderr",
     "output_type": "stream",
     "text": [
      " 11%|█▏        | 35571/315720 [00:08<01:02, 4464.15it/s]"
     ]
    }
   ],
   "source": [
    "stackedfinalresult = pd.DataFrame(columns=['filename'])\n",
    "stackedfinalresult['filename'] = pd.Series(listtestfile).apply(lambda x: x.split(\"/\")[-1])\n",
    "\n",
    "for labelname in columnlist:\n",
    "    stackedfinalresult[labelname] = 0\n",
    "\n",
    "test_preds = stacked\n",
    "for i in tqdm(range(len(test_preds))):\n",
    "    # stackedfinalresult.loc[i, test_preds[i]] = 1\n",
    "    predlist = test_preds[i].tolist()\n",
    "    predlist = [x for x in predlist if x != 'None']\n",
    "    for predlabelname in predlist:\n",
    "    \tstackedfinalresult.loc[i, predlabelname] = 1"
   ]
  },
  {
   "cell_type": "code",
   "execution_count": 36,
   "metadata": {},
   "outputs": [],
   "source": [
    "stackedfinalresult = stackedfinalresult.assign(**{col: stackedfinalresult[col].astype(float) for col in stackedfinalresult.columns if col != \"filename\"})"
   ]
  },
  {
   "cell_type": "code",
   "execution_count": 37,
   "metadata": {},
   "outputs": [],
   "source": [
    "stackedfinalresult.to_csv(\"../logs/submit/hier_rf_slide_aug_2_no_cv_dyn_none_thr.csv\", index=False)"
   ]
  },
  {
   "cell_type": "code",
   "execution_count": 38,
   "metadata": {},
   "outputs": [
    {
     "data": {
      "text/html": [
       "<div>\n",
       "<style scoped>\n",
       "    .dataframe tbody tr th:only-of-type {\n",
       "        vertical-align: middle;\n",
       "    }\n",
       "\n",
       "    .dataframe tbody tr th {\n",
       "        vertical-align: top;\n",
       "    }\n",
       "\n",
       "    .dataframe thead th {\n",
       "        text-align: right;\n",
       "    }\n",
       "</style>\n",
       "<table border=\"1\" class=\"dataframe\">\n",
       "  <thead>\n",
       "    <tr style=\"text-align: right;\">\n",
       "      <th></th>\n",
       "      <th>filename</th>\n",
       "      <th>Active_Power_Sensor</th>\n",
       "      <th>Air_Flow_Sensor</th>\n",
       "      <th>Air_Flow_Setpoint</th>\n",
       "      <th>Air_Temperature_Sensor</th>\n",
       "      <th>Air_Temperature_Setpoint</th>\n",
       "      <th>Alarm</th>\n",
       "      <th>Angle_Sensor</th>\n",
       "      <th>Average_Zone_Air_Temperature_Sensor</th>\n",
       "      <th>Chilled_Water_Differential_Temperature_Sensor</th>\n",
       "      <th>...</th>\n",
       "      <th>Warmest_Zone_Air_Temperature_Sensor</th>\n",
       "      <th>Water_Flow_Sensor</th>\n",
       "      <th>Water_Temperature_Sensor</th>\n",
       "      <th>Water_Temperature_Setpoint</th>\n",
       "      <th>Wind_Direction_Sensor</th>\n",
       "      <th>Wind_Speed_Sensor</th>\n",
       "      <th>Zone_Air_Dewpoint_Sensor</th>\n",
       "      <th>Zone_Air_Humidity_Sensor</th>\n",
       "      <th>Zone_Air_Humidity_Setpoint</th>\n",
       "      <th>Zone_Air_Temperature_Sensor</th>\n",
       "    </tr>\n",
       "  </thead>\n",
       "  <tbody>\n",
       "    <tr>\n",
       "      <th>0</th>\n",
       "      <td>test_X20367.pkl</td>\n",
       "      <td>0.0</td>\n",
       "      <td>0.0</td>\n",
       "      <td>0.0</td>\n",
       "      <td>0.0</td>\n",
       "      <td>0.0</td>\n",
       "      <td>0.0</td>\n",
       "      <td>0.0</td>\n",
       "      <td>0.0</td>\n",
       "      <td>0.0</td>\n",
       "      <td>...</td>\n",
       "      <td>0.0</td>\n",
       "      <td>0.0</td>\n",
       "      <td>0.0</td>\n",
       "      <td>0.0</td>\n",
       "      <td>0.0</td>\n",
       "      <td>0.0</td>\n",
       "      <td>0.0</td>\n",
       "      <td>0.0</td>\n",
       "      <td>0.0</td>\n",
       "      <td>0.0</td>\n",
       "    </tr>\n",
       "    <tr>\n",
       "      <th>1</th>\n",
       "      <td>test_X103084.pkl</td>\n",
       "      <td>0.0</td>\n",
       "      <td>0.0</td>\n",
       "      <td>0.0</td>\n",
       "      <td>0.0</td>\n",
       "      <td>0.0</td>\n",
       "      <td>0.0</td>\n",
       "      <td>0.0</td>\n",
       "      <td>0.0</td>\n",
       "      <td>0.0</td>\n",
       "      <td>...</td>\n",
       "      <td>0.0</td>\n",
       "      <td>1.0</td>\n",
       "      <td>0.0</td>\n",
       "      <td>0.0</td>\n",
       "      <td>0.0</td>\n",
       "      <td>0.0</td>\n",
       "      <td>0.0</td>\n",
       "      <td>0.0</td>\n",
       "      <td>0.0</td>\n",
       "      <td>0.0</td>\n",
       "    </tr>\n",
       "    <tr>\n",
       "      <th>2</th>\n",
       "      <td>test_X6910.pkl</td>\n",
       "      <td>0.0</td>\n",
       "      <td>0.0</td>\n",
       "      <td>0.0</td>\n",
       "      <td>0.0</td>\n",
       "      <td>0.0</td>\n",
       "      <td>0.0</td>\n",
       "      <td>0.0</td>\n",
       "      <td>0.0</td>\n",
       "      <td>0.0</td>\n",
       "      <td>...</td>\n",
       "      <td>0.0</td>\n",
       "      <td>0.0</td>\n",
       "      <td>0.0</td>\n",
       "      <td>0.0</td>\n",
       "      <td>0.0</td>\n",
       "      <td>0.0</td>\n",
       "      <td>0.0</td>\n",
       "      <td>0.0</td>\n",
       "      <td>0.0</td>\n",
       "      <td>0.0</td>\n",
       "    </tr>\n",
       "    <tr>\n",
       "      <th>3</th>\n",
       "      <td>test_X66332.pkl</td>\n",
       "      <td>0.0</td>\n",
       "      <td>0.0</td>\n",
       "      <td>0.0</td>\n",
       "      <td>0.0</td>\n",
       "      <td>0.0</td>\n",
       "      <td>0.0</td>\n",
       "      <td>0.0</td>\n",
       "      <td>0.0</td>\n",
       "      <td>0.0</td>\n",
       "      <td>...</td>\n",
       "      <td>0.0</td>\n",
       "      <td>0.0</td>\n",
       "      <td>0.0</td>\n",
       "      <td>0.0</td>\n",
       "      <td>0.0</td>\n",
       "      <td>0.0</td>\n",
       "      <td>0.0</td>\n",
       "      <td>0.0</td>\n",
       "      <td>0.0</td>\n",
       "      <td>0.0</td>\n",
       "    </tr>\n",
       "    <tr>\n",
       "      <th>4</th>\n",
       "      <td>test_X38528.pkl</td>\n",
       "      <td>0.0</td>\n",
       "      <td>0.0</td>\n",
       "      <td>0.0</td>\n",
       "      <td>0.0</td>\n",
       "      <td>0.0</td>\n",
       "      <td>0.0</td>\n",
       "      <td>0.0</td>\n",
       "      <td>0.0</td>\n",
       "      <td>0.0</td>\n",
       "      <td>...</td>\n",
       "      <td>0.0</td>\n",
       "      <td>0.0</td>\n",
       "      <td>0.0</td>\n",
       "      <td>0.0</td>\n",
       "      <td>0.0</td>\n",
       "      <td>0.0</td>\n",
       "      <td>0.0</td>\n",
       "      <td>0.0</td>\n",
       "      <td>0.0</td>\n",
       "      <td>0.0</td>\n",
       "    </tr>\n",
       "    <tr>\n",
       "      <th>...</th>\n",
       "      <td>...</td>\n",
       "      <td>...</td>\n",
       "      <td>...</td>\n",
       "      <td>...</td>\n",
       "      <td>...</td>\n",
       "      <td>...</td>\n",
       "      <td>...</td>\n",
       "      <td>...</td>\n",
       "      <td>...</td>\n",
       "      <td>...</td>\n",
       "      <td>...</td>\n",
       "      <td>...</td>\n",
       "      <td>...</td>\n",
       "      <td>...</td>\n",
       "      <td>...</td>\n",
       "      <td>...</td>\n",
       "      <td>...</td>\n",
       "      <td>...</td>\n",
       "      <td>...</td>\n",
       "      <td>...</td>\n",
       "      <td>...</td>\n",
       "    </tr>\n",
       "    <tr>\n",
       "      <th>315715</th>\n",
       "      <td>test_X325790.pkl</td>\n",
       "      <td>0.0</td>\n",
       "      <td>1.0</td>\n",
       "      <td>0.0</td>\n",
       "      <td>0.0</td>\n",
       "      <td>0.0</td>\n",
       "      <td>0.0</td>\n",
       "      <td>0.0</td>\n",
       "      <td>0.0</td>\n",
       "      <td>0.0</td>\n",
       "      <td>...</td>\n",
       "      <td>0.0</td>\n",
       "      <td>0.0</td>\n",
       "      <td>0.0</td>\n",
       "      <td>0.0</td>\n",
       "      <td>0.0</td>\n",
       "      <td>0.0</td>\n",
       "      <td>0.0</td>\n",
       "      <td>0.0</td>\n",
       "      <td>0.0</td>\n",
       "      <td>0.0</td>\n",
       "    </tr>\n",
       "    <tr>\n",
       "      <th>315716</th>\n",
       "      <td>test_X61444.pkl</td>\n",
       "      <td>0.0</td>\n",
       "      <td>0.0</td>\n",
       "      <td>0.0</td>\n",
       "      <td>0.0</td>\n",
       "      <td>0.0</td>\n",
       "      <td>0.0</td>\n",
       "      <td>0.0</td>\n",
       "      <td>0.0</td>\n",
       "      <td>0.0</td>\n",
       "      <td>...</td>\n",
       "      <td>0.0</td>\n",
       "      <td>0.0</td>\n",
       "      <td>0.0</td>\n",
       "      <td>0.0</td>\n",
       "      <td>0.0</td>\n",
       "      <td>0.0</td>\n",
       "      <td>0.0</td>\n",
       "      <td>0.0</td>\n",
       "      <td>0.0</td>\n",
       "      <td>0.0</td>\n",
       "    </tr>\n",
       "    <tr>\n",
       "      <th>315717</th>\n",
       "      <td>test_X221284.pkl</td>\n",
       "      <td>0.0</td>\n",
       "      <td>0.0</td>\n",
       "      <td>0.0</td>\n",
       "      <td>0.0</td>\n",
       "      <td>0.0</td>\n",
       "      <td>0.0</td>\n",
       "      <td>0.0</td>\n",
       "      <td>0.0</td>\n",
       "      <td>0.0</td>\n",
       "      <td>...</td>\n",
       "      <td>0.0</td>\n",
       "      <td>0.0</td>\n",
       "      <td>0.0</td>\n",
       "      <td>0.0</td>\n",
       "      <td>0.0</td>\n",
       "      <td>0.0</td>\n",
       "      <td>0.0</td>\n",
       "      <td>0.0</td>\n",
       "      <td>0.0</td>\n",
       "      <td>0.0</td>\n",
       "    </tr>\n",
       "    <tr>\n",
       "      <th>315718</th>\n",
       "      <td>test_X115827.pkl</td>\n",
       "      <td>0.0</td>\n",
       "      <td>0.0</td>\n",
       "      <td>0.0</td>\n",
       "      <td>0.0</td>\n",
       "      <td>0.0</td>\n",
       "      <td>0.0</td>\n",
       "      <td>0.0</td>\n",
       "      <td>0.0</td>\n",
       "      <td>0.0</td>\n",
       "      <td>...</td>\n",
       "      <td>0.0</td>\n",
       "      <td>0.0</td>\n",
       "      <td>0.0</td>\n",
       "      <td>0.0</td>\n",
       "      <td>0.0</td>\n",
       "      <td>0.0</td>\n",
       "      <td>0.0</td>\n",
       "      <td>0.0</td>\n",
       "      <td>0.0</td>\n",
       "      <td>0.0</td>\n",
       "    </tr>\n",
       "    <tr>\n",
       "      <th>315719</th>\n",
       "      <td>test_X27411.pkl</td>\n",
       "      <td>0.0</td>\n",
       "      <td>0.0</td>\n",
       "      <td>0.0</td>\n",
       "      <td>0.0</td>\n",
       "      <td>0.0</td>\n",
       "      <td>1.0</td>\n",
       "      <td>0.0</td>\n",
       "      <td>0.0</td>\n",
       "      <td>0.0</td>\n",
       "      <td>...</td>\n",
       "      <td>0.0</td>\n",
       "      <td>0.0</td>\n",
       "      <td>0.0</td>\n",
       "      <td>0.0</td>\n",
       "      <td>0.0</td>\n",
       "      <td>0.0</td>\n",
       "      <td>0.0</td>\n",
       "      <td>0.0</td>\n",
       "      <td>0.0</td>\n",
       "      <td>0.0</td>\n",
       "    </tr>\n",
       "  </tbody>\n",
       "</table>\n",
       "<p>315720 rows × 95 columns</p>\n",
       "</div>"
      ],
      "text/plain": [
       "                filename  Active_Power_Sensor  Air_Flow_Sensor   \n",
       "0        test_X20367.pkl                  0.0              0.0  \\\n",
       "1       test_X103084.pkl                  0.0              0.0   \n",
       "2         test_X6910.pkl                  0.0              0.0   \n",
       "3        test_X66332.pkl                  0.0              0.0   \n",
       "4        test_X38528.pkl                  0.0              0.0   \n",
       "...                  ...                  ...              ...   \n",
       "315715  test_X325790.pkl                  0.0              1.0   \n",
       "315716   test_X61444.pkl                  0.0              0.0   \n",
       "315717  test_X221284.pkl                  0.0              0.0   \n",
       "315718  test_X115827.pkl                  0.0              0.0   \n",
       "315719   test_X27411.pkl                  0.0              0.0   \n",
       "\n",
       "        Air_Flow_Setpoint  Air_Temperature_Sensor  Air_Temperature_Setpoint   \n",
       "0                     0.0                     0.0                       0.0  \\\n",
       "1                     0.0                     0.0                       0.0   \n",
       "2                     0.0                     0.0                       0.0   \n",
       "3                     0.0                     0.0                       0.0   \n",
       "4                     0.0                     0.0                       0.0   \n",
       "...                   ...                     ...                       ...   \n",
       "315715                0.0                     0.0                       0.0   \n",
       "315716                0.0                     0.0                       0.0   \n",
       "315717                0.0                     0.0                       0.0   \n",
       "315718                0.0                     0.0                       0.0   \n",
       "315719                0.0                     0.0                       0.0   \n",
       "\n",
       "        Alarm  Angle_Sensor  Average_Zone_Air_Temperature_Sensor   \n",
       "0         0.0           0.0                                  0.0  \\\n",
       "1         0.0           0.0                                  0.0   \n",
       "2         0.0           0.0                                  0.0   \n",
       "3         0.0           0.0                                  0.0   \n",
       "4         0.0           0.0                                  0.0   \n",
       "...       ...           ...                                  ...   \n",
       "315715    0.0           0.0                                  0.0   \n",
       "315716    0.0           0.0                                  0.0   \n",
       "315717    0.0           0.0                                  0.0   \n",
       "315718    0.0           0.0                                  0.0   \n",
       "315719    1.0           0.0                                  0.0   \n",
       "\n",
       "        Chilled_Water_Differential_Temperature_Sensor  ...   \n",
       "0                                                 0.0  ...  \\\n",
       "1                                                 0.0  ...   \n",
       "2                                                 0.0  ...   \n",
       "3                                                 0.0  ...   \n",
       "4                                                 0.0  ...   \n",
       "...                                               ...  ...   \n",
       "315715                                            0.0  ...   \n",
       "315716                                            0.0  ...   \n",
       "315717                                            0.0  ...   \n",
       "315718                                            0.0  ...   \n",
       "315719                                            0.0  ...   \n",
       "\n",
       "        Warmest_Zone_Air_Temperature_Sensor  Water_Flow_Sensor   \n",
       "0                                       0.0                0.0  \\\n",
       "1                                       0.0                1.0   \n",
       "2                                       0.0                0.0   \n",
       "3                                       0.0                0.0   \n",
       "4                                       0.0                0.0   \n",
       "...                                     ...                ...   \n",
       "315715                                  0.0                0.0   \n",
       "315716                                  0.0                0.0   \n",
       "315717                                  0.0                0.0   \n",
       "315718                                  0.0                0.0   \n",
       "315719                                  0.0                0.0   \n",
       "\n",
       "        Water_Temperature_Sensor  Water_Temperature_Setpoint   \n",
       "0                            0.0                         0.0  \\\n",
       "1                            0.0                         0.0   \n",
       "2                            0.0                         0.0   \n",
       "3                            0.0                         0.0   \n",
       "4                            0.0                         0.0   \n",
       "...                          ...                         ...   \n",
       "315715                       0.0                         0.0   \n",
       "315716                       0.0                         0.0   \n",
       "315717                       0.0                         0.0   \n",
       "315718                       0.0                         0.0   \n",
       "315719                       0.0                         0.0   \n",
       "\n",
       "        Wind_Direction_Sensor  Wind_Speed_Sensor  Zone_Air_Dewpoint_Sensor   \n",
       "0                         0.0                0.0                       0.0  \\\n",
       "1                         0.0                0.0                       0.0   \n",
       "2                         0.0                0.0                       0.0   \n",
       "3                         0.0                0.0                       0.0   \n",
       "4                         0.0                0.0                       0.0   \n",
       "...                       ...                ...                       ...   \n",
       "315715                    0.0                0.0                       0.0   \n",
       "315716                    0.0                0.0                       0.0   \n",
       "315717                    0.0                0.0                       0.0   \n",
       "315718                    0.0                0.0                       0.0   \n",
       "315719                    0.0                0.0                       0.0   \n",
       "\n",
       "        Zone_Air_Humidity_Sensor  Zone_Air_Humidity_Setpoint   \n",
       "0                            0.0                         0.0  \\\n",
       "1                            0.0                         0.0   \n",
       "2                            0.0                         0.0   \n",
       "3                            0.0                         0.0   \n",
       "4                            0.0                         0.0   \n",
       "...                          ...                         ...   \n",
       "315715                       0.0                         0.0   \n",
       "315716                       0.0                         0.0   \n",
       "315717                       0.0                         0.0   \n",
       "315718                       0.0                         0.0   \n",
       "315719                       0.0                         0.0   \n",
       "\n",
       "        Zone_Air_Temperature_Sensor  \n",
       "0                               0.0  \n",
       "1                               0.0  \n",
       "2                               0.0  \n",
       "3                               0.0  \n",
       "4                               0.0  \n",
       "...                             ...  \n",
       "315715                          0.0  \n",
       "315716                          0.0  \n",
       "315717                          0.0  \n",
       "315718                          0.0  \n",
       "315719                          0.0  \n",
       "\n",
       "[315720 rows x 95 columns]"
      ]
     },
     "execution_count": 38,
     "metadata": {},
     "output_type": "execute_result"
    }
   ],
   "source": [
    "stackedfinalresult"
   ]
  },
  {
   "cell_type": "code",
   "execution_count": null,
   "metadata": {},
   "outputs": [],
   "source": []
  }
 ],
 "metadata": {
  "kernelspec": {
   "display_name": "ddm",
   "language": "python",
   "name": "python3"
  },
  "language_info": {
   "codemirror_mode": {
    "name": "ipython",
    "version": 3
   },
   "file_extension": ".py",
   "mimetype": "text/x-python",
   "name": "python",
   "nbconvert_exporter": "python",
   "pygments_lexer": "ipython3",
   "version": "3.9.18"
  }
 },
 "nbformat": 4,
 "nbformat_minor": 2
}
